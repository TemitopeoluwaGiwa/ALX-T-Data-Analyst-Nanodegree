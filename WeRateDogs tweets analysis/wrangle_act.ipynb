{
 "cells": [
  {
   "cell_type": "markdown",
   "metadata": {
    "extensions": {
     "jupyter_dashboards": {
      "version": 1,
      "views": {
       "grid_default": {
        "col": 0,
        "height": 4,
        "hidden": false,
        "row": 0,
        "width": 4
       },
       "report_default": {
        "hidden": false
       }
      }
     }
    }
   },
   "source": [
    "# Project: Wrangling and Analysis of Data"
   ]
  },
  {
   "cell_type": "markdown",
   "metadata": {},
   "source": [
    "## Analyzing Twitter's WeRateDogs Tweets Dataset"
   ]
  },
  {
   "cell_type": "code",
   "execution_count": 1,
   "metadata": {},
   "outputs": [],
   "source": [
    "#importing libraries\n",
    "import requests\n",
    "import pandas as pd\n",
    "import numpy as np\n",
    "import json\n",
    "import matplotlib.pyplot as plt\n",
    "import seaborn as sb\n",
    "%matplotlib inline"
   ]
  },
  {
   "cell_type": "markdown",
   "metadata": {},
   "source": [
    "## Data Gathering\n",
    "\n",
    "1. Loading the WeRateDogs Twitter archive data (twitter_archive_enhanced.csv)"
   ]
  },
  {
   "cell_type": "code",
   "execution_count": 2,
   "metadata": {
    "extensions": {
     "jupyter_dashboards": {
      "version": 1,
      "views": {
       "grid_default": {
        "hidden": true
       },
       "report_default": {
        "hidden": true
       }
      }
     }
    }
   },
   "outputs": [],
   "source": [
    "df_1 = pd.read_csv('twitter-archive-enhanced.csv')"
   ]
  },
  {
   "cell_type": "markdown",
   "metadata": {},
   "source": [
    "2. Use the Requests library to download the tweet image prediction (image_predictions.tsv)"
   ]
  },
  {
   "cell_type": "code",
   "execution_count": 3,
   "metadata": {},
   "outputs": [],
   "source": [
    "#using the requests library to get contents of a url\n",
    "url = 'https://d17h27t6h515a5.cloudfront.net/topher/2017/August/599fd2ad_image-predictions/image-predictions.tsv'\n",
    "response = requests.get(url)"
   ]
  },
  {
   "cell_type": "code",
   "execution_count": 4,
   "metadata": {},
   "outputs": [],
   "source": [
    "#writing the contents of the url into a tsv file : 'image-predictions.tsv'\n",
    "with open('image-predictions.tsv', mode='wb') as file:\n",
    "    file.write(response.content)"
   ]
  },
  {
   "cell_type": "code",
   "execution_count": 5,
   "metadata": {},
   "outputs": [],
   "source": [
    "#Loading the 'image-predictions.tsv' into python with pandas\n",
    "image_pred = pd.read_csv('image-predictions.tsv', sep = '\\t')"
   ]
  },
  {
   "cell_type": "markdown",
   "metadata": {},
   "source": [
    "3. Use the Tweepy library to query additional data via the Twitter API (tweet_json.txt)"
   ]
  },
  {
   "cell_type": "code",
   "execution_count": 6,
   "metadata": {},
   "outputs": [
    {
     "data": {
      "text/plain": [
       "' import tweepy\\nfrom tweepy import OAuthHandler\\nimport json\\nfrom timeit import default_timer as timer\\n\\n# Query Twitter API for each tweet in the Twitter archive and save JSON in a text file\\n# These are hidden to comply with Twitter\\'s API terms and conditions\\nconsumer_key = \\'HIDDEN\\'\\nconsumer_secret = \\'HIDDEN\\'\\naccess_token = \\'HIDDEN\\'\\naccess_secret = \\'HIDDEN\\'\\n\\nauth = OAuthHandler(consumer_key, consumer_secret)\\nauth.set_access_token(access_token, access_secret)\\n\\napi = tweepy.API(auth, wait_on_rate_limit=True)\\n\\n# NOTE TO STUDENT WITH MOBILE VERIFICATION ISSUES:\\n# df_1 is a DataFrame with the twitter_archive_enhanced.csv file. You may have to\\n# change line 17 to match the name of your DataFrame with twitter_archive_enhanced.csv\\n# NOTE TO REVIEWER: this student had mobile verification issues so the following\\n# Twitter API code was sent to this student from a Udacity instructor\\n# Tweet IDs for which to gather additional data via Twitter\\'s API\\ntweet_ids = df_1.tweet_id.values\\nlen(tweet_ids)\\n\\n# Query Twitter\\'s API for JSON data for each tweet ID in the Twitter archive\\ncount = 0\\nfails_dict = {}\\nstart = timer()\\n# Save each tweet\\'s returned JSON as a new line in a .txt file\\nwith open(\\'tweet_json.txt\\', \\'w\\') as outfile:\\n    # This loop will likely take 20-30 minutes to run because of Twitter\\'s rate limit\\n    for tweet_id in tweet_ids:\\n        count += 1\\n        print(str(count) + \": \" + str(tweet_id))\\n        try:\\n            tweet = api.get_status(tweet_id, tweet_mode=\\'extended\\')\\n            print(\"Success\")\\n            json.dump(tweet._json, outfile)\\n            outfile.write(\\'\\n\\')\\n        except tweepy.errors.TweepyException as e:\\n            print(\"Fail\")\\n            fails_dict[tweet_id] = e\\n            pass\\nend = timer()\\nprint(end - start)\\nprint(fails_dict) '"
      ]
     },
     "execution_count": 6,
     "metadata": {},
     "output_type": "execute_result"
    }
   ],
   "source": [
    "''' import tweepy\n",
    "from tweepy import OAuthHandler\n",
    "import json\n",
    "from timeit import default_timer as timer\n",
    "\n",
    "# Query Twitter API for each tweet in the Twitter archive and save JSON in a text file\n",
    "# These are hidden to comply with Twitter's API terms and conditions\n",
    "consumer_key = 'HIDDEN'\n",
    "consumer_secret = 'HIDDEN'\n",
    "access_token = 'HIDDEN'\n",
    "access_secret = 'HIDDEN'\n",
    "\n",
    "auth = OAuthHandler(consumer_key, consumer_secret)\n",
    "auth.set_access_token(access_token, access_secret)\n",
    "\n",
    "api = tweepy.API(auth, wait_on_rate_limit=True)\n",
    "\n",
    "# NOTE TO STUDENT WITH MOBILE VERIFICATION ISSUES:\n",
    "# df_1 is a DataFrame with the twitter_archive_enhanced.csv file. You may have to\n",
    "# change line 17 to match the name of your DataFrame with twitter_archive_enhanced.csv\n",
    "# NOTE TO REVIEWER: this student had mobile verification issues so the following\n",
    "# Twitter API code was sent to this student from a Udacity instructor\n",
    "# Tweet IDs for which to gather additional data via Twitter's API\n",
    "tweet_ids = df_1.tweet_id.values\n",
    "len(tweet_ids)\n",
    "\n",
    "# Query Twitter's API for JSON data for each tweet ID in the Twitter archive\n",
    "count = 0\n",
    "fails_dict = {}\n",
    "start = timer()\n",
    "# Save each tweet's returned JSON as a new line in a .txt file\n",
    "with open('tweet_json.txt', 'w') as outfile:\n",
    "    # This loop will likely take 20-30 minutes to run because of Twitter's rate limit\n",
    "    for tweet_id in tweet_ids:\n",
    "        count += 1\n",
    "        print(str(count) + \": \" + str(tweet_id))\n",
    "        try:\n",
    "            tweet = api.get_status(tweet_id, tweet_mode='extended')\n",
    "            print(\"Success\")\n",
    "            json.dump(tweet._json, outfile)\n",
    "            outfile.write('\\n')\n",
    "        except tweepy.errors.TweepyException as e:\n",
    "            print(\"Fail\")\n",
    "            fails_dict[tweet_id] = e\n",
    "            pass\n",
    "end = timer()\n",
    "print(end - start)\n",
    "print(fails_dict) '''"
   ]
  },
  {
   "cell_type": "code",
   "execution_count": 10,
   "metadata": {},
   "outputs": [],
   "source": [
    "#loading each line of the 'tweet-json.txt' file into a python as a list of dictionaries\n",
    "with open('tweet-json.txt','r',encoding='utf-8') as file:\n",
    "    dog_dics_list = []\n",
    "    for line in file:\n",
    "        parse_into_json = json.loads(line)\n",
    "        dog_dics_list.append(parse_into_json)"
   ]
  },
  {
   "cell_type": "code",
   "execution_count": 11,
   "metadata": {},
   "outputs": [
    {
     "data": {
      "text/plain": [
       "2354"
      ]
     },
     "execution_count": 11,
     "metadata": {},
     "output_type": "execute_result"
    }
   ],
   "source": [
    "#checking the number of dictionaries in the list\n",
    "n = len(dog_dics_list)\n",
    "n"
   ]
  },
  {
   "cell_type": "code",
   "execution_count": 9,
   "metadata": {},
   "outputs": [],
   "source": [
    "#passing the 'tweet_id','favorites_count/likes' and 'retweet_count' into a new dataframe\n",
    "idlist = []\n",
    "likelist = []\n",
    "retweetlist = []\n",
    "for info in dog_dics_list:\n",
    "    #print(type(info['user']))\n",
    "    i_d = info['id']\n",
    "    likes = info['favorite_count']\n",
    "    retweets = info['retweet_count']\n",
    "    idlist.append(i_d)\n",
    "    likelist.append(likes)\n",
    "    retweetlist.append(retweets)\n",
    "    new_df = pd.DataFrame({'tweet_id':idlist,'likes':likelist,'retweets':retweetlist})"
   ]
  },
  {
   "cell_type": "markdown",
   "metadata": {
    "extensions": {
     "jupyter_dashboards": {
      "version": 1,
      "views": {
       "grid_default": {
        "col": 4,
        "height": 4,
        "hidden": false,
        "row": 28,
        "width": 4
       },
       "report_default": {
        "hidden": false
       }
      }
     }
    }
   },
   "source": [
    "## Assessing Data\n"
   ]
  },
  {
   "cell_type": "code",
   "execution_count": 766,
   "metadata": {},
   "outputs": [
    {
     "data": {
      "text/html": [
       "<div>\n",
       "<style scoped>\n",
       "    .dataframe tbody tr th:only-of-type {\n",
       "        vertical-align: middle;\n",
       "    }\n",
       "\n",
       "    .dataframe tbody tr th {\n",
       "        vertical-align: top;\n",
       "    }\n",
       "\n",
       "    .dataframe thead th {\n",
       "        text-align: right;\n",
       "    }\n",
       "</style>\n",
       "<table border=\"1\" class=\"dataframe\">\n",
       "  <thead>\n",
       "    <tr style=\"text-align: right;\">\n",
       "      <th></th>\n",
       "      <th>tweet_id</th>\n",
       "      <th>jpg_url</th>\n",
       "      <th>img_num</th>\n",
       "      <th>p1</th>\n",
       "      <th>p1_conf</th>\n",
       "      <th>p1_dog</th>\n",
       "      <th>p2</th>\n",
       "      <th>p2_conf</th>\n",
       "      <th>p2_dog</th>\n",
       "      <th>p3</th>\n",
       "      <th>p3_conf</th>\n",
       "      <th>p3_dog</th>\n",
       "    </tr>\n",
       "  </thead>\n",
       "  <tbody>\n",
       "    <tr>\n",
       "      <td>0</td>\n",
       "      <td>666020888022790149</td>\n",
       "      <td>https://pbs.twimg.com/media/CT4udn0WwAA0aMy.jpg</td>\n",
       "      <td>1</td>\n",
       "      <td>Welsh_springer_spaniel</td>\n",
       "      <td>0.465074</td>\n",
       "      <td>True</td>\n",
       "      <td>collie</td>\n",
       "      <td>0.156665</td>\n",
       "      <td>True</td>\n",
       "      <td>Shetland_sheepdog</td>\n",
       "      <td>0.061428</td>\n",
       "      <td>True</td>\n",
       "    </tr>\n",
       "    <tr>\n",
       "      <td>1</td>\n",
       "      <td>666029285002620928</td>\n",
       "      <td>https://pbs.twimg.com/media/CT42GRgUYAA5iDo.jpg</td>\n",
       "      <td>1</td>\n",
       "      <td>redbone</td>\n",
       "      <td>0.506826</td>\n",
       "      <td>True</td>\n",
       "      <td>miniature_pinscher</td>\n",
       "      <td>0.074192</td>\n",
       "      <td>True</td>\n",
       "      <td>Rhodesian_ridgeback</td>\n",
       "      <td>0.072010</td>\n",
       "      <td>True</td>\n",
       "    </tr>\n",
       "    <tr>\n",
       "      <td>2</td>\n",
       "      <td>666033412701032449</td>\n",
       "      <td>https://pbs.twimg.com/media/CT4521TWwAEvMyu.jpg</td>\n",
       "      <td>1</td>\n",
       "      <td>German_shepherd</td>\n",
       "      <td>0.596461</td>\n",
       "      <td>True</td>\n",
       "      <td>malinois</td>\n",
       "      <td>0.138584</td>\n",
       "      <td>True</td>\n",
       "      <td>bloodhound</td>\n",
       "      <td>0.116197</td>\n",
       "      <td>True</td>\n",
       "    </tr>\n",
       "    <tr>\n",
       "      <td>3</td>\n",
       "      <td>666044226329800704</td>\n",
       "      <td>https://pbs.twimg.com/media/CT5Dr8HUEAA-lEu.jpg</td>\n",
       "      <td>1</td>\n",
       "      <td>Rhodesian_ridgeback</td>\n",
       "      <td>0.408143</td>\n",
       "      <td>True</td>\n",
       "      <td>redbone</td>\n",
       "      <td>0.360687</td>\n",
       "      <td>True</td>\n",
       "      <td>miniature_pinscher</td>\n",
       "      <td>0.222752</td>\n",
       "      <td>True</td>\n",
       "    </tr>\n",
       "    <tr>\n",
       "      <td>4</td>\n",
       "      <td>666049248165822465</td>\n",
       "      <td>https://pbs.twimg.com/media/CT5IQmsXIAAKY4A.jpg</td>\n",
       "      <td>1</td>\n",
       "      <td>miniature_pinscher</td>\n",
       "      <td>0.560311</td>\n",
       "      <td>True</td>\n",
       "      <td>Rottweiler</td>\n",
       "      <td>0.243682</td>\n",
       "      <td>True</td>\n",
       "      <td>Doberman</td>\n",
       "      <td>0.154629</td>\n",
       "      <td>True</td>\n",
       "    </tr>\n",
       "  </tbody>\n",
       "</table>\n",
       "</div>"
      ],
      "text/plain": [
       "             tweet_id                                          jpg_url  \\\n",
       "0  666020888022790149  https://pbs.twimg.com/media/CT4udn0WwAA0aMy.jpg   \n",
       "1  666029285002620928  https://pbs.twimg.com/media/CT42GRgUYAA5iDo.jpg   \n",
       "2  666033412701032449  https://pbs.twimg.com/media/CT4521TWwAEvMyu.jpg   \n",
       "3  666044226329800704  https://pbs.twimg.com/media/CT5Dr8HUEAA-lEu.jpg   \n",
       "4  666049248165822465  https://pbs.twimg.com/media/CT5IQmsXIAAKY4A.jpg   \n",
       "\n",
       "   img_num                      p1   p1_conf  p1_dog                  p2  \\\n",
       "0        1  Welsh_springer_spaniel  0.465074    True              collie   \n",
       "1        1                 redbone  0.506826    True  miniature_pinscher   \n",
       "2        1         German_shepherd  0.596461    True            malinois   \n",
       "3        1     Rhodesian_ridgeback  0.408143    True             redbone   \n",
       "4        1      miniature_pinscher  0.560311    True          Rottweiler   \n",
       "\n",
       "    p2_conf  p2_dog                   p3   p3_conf  p3_dog  \n",
       "0  0.156665    True    Shetland_sheepdog  0.061428    True  \n",
       "1  0.074192    True  Rhodesian_ridgeback  0.072010    True  \n",
       "2  0.138584    True           bloodhound  0.116197    True  \n",
       "3  0.360687    True   miniature_pinscher  0.222752    True  \n",
       "4  0.243682    True             Doberman  0.154629    True  "
      ]
     },
     "execution_count": 766,
     "metadata": {},
     "output_type": "execute_result"
    }
   ],
   "source": [
    "#loading the first 5 rows of the dataframe\n",
    "image_pred.head()"
   ]
  },
  {
   "cell_type": "code",
   "execution_count": 767,
   "metadata": {},
   "outputs": [
    {
     "data": {
      "text/plain": [
       "['tweet_id',\n",
       " 'jpg_url',\n",
       " 'img_num',\n",
       " 'p1',\n",
       " 'p1_conf',\n",
       " 'p1_dog',\n",
       " 'p2',\n",
       " 'p2_conf',\n",
       " 'p2_dog',\n",
       " 'p3',\n",
       " 'p3_conf',\n",
       " 'p3_dog']"
      ]
     },
     "execution_count": 767,
     "metadata": {},
     "output_type": "execute_result"
    }
   ],
   "source": [
    "#getting the list of columns\n",
    "list(image_pred.columns)"
   ]
  },
  {
   "cell_type": "code",
   "execution_count": 768,
   "metadata": {},
   "outputs": [
    {
     "name": "stdout",
     "output_type": "stream",
     "text": [
      "['Welsh_springer_spaniel', 'redbone', 'German_shepherd', 'Rhodesian_ridgeback', 'miniature_pinscher', 'Bernese_mountain_dog', 'box_turtle', 'chow', 'shopping_cart', 'miniature_poodle', 'golden_retriever', 'Gordon_setter', 'Walker_hound', 'pug', 'bloodhound', 'Lhasa', 'English_setter', 'hen', 'desktop_computer', 'Italian_greyhound', 'Maltese_dog', 'three-toed_sloth', 'ox', 'malamute', 'guinea_pig', 'soft-coated_wheaten_terrier', 'Chihuahua', 'black-and-tan_coonhound', 'coho', 'toy_terrier', 'Blenheim_spaniel', 'Pembroke', 'llama', 'Chesapeake_Bay_retriever', 'curly-coated_retriever', 'dalmatian', 'Ibizan_hound', 'Border_collie', 'Labrador_retriever', 'seat_belt', 'snail', 'miniature_schnauzer', 'Airedale', 'triceratops', 'swab', 'hay', 'hyena', 'jigsaw_puzzle', 'West_Highland_white_terrier', 'toy_poodle', 'giant_schnauzer', 'vizsla', 'vacuum', 'Rottweiler', 'Siberian_husky', 'teddy', 'papillon', 'Saint_Bernard', 'porcupine', 'goose', 'Tibetan_terrier', 'borzoi', 'beagle', 'hare', 'Yorkshire_terrier', 'Pomeranian', 'electric_fan', 'web_site', 'ibex', 'kuvasz', 'fire_engine', 'lorikeet', 'flat-coated_retriever', 'toyshop', 'common_iguana', 'Norwegian_elkhound', 'frilled_lizard', 'leatherback_turtle', 'hamster', 'Angora', 'Arctic_fox', 'trombone', 'canoe', 'king_penguin', 'shopping_basket', 'standard_poodle', 'Staffordshire_bullterrier', 'basenji', 'Lakeland_terrier', 'American_Staffordshire_terrier', 'bearskin', 'Shih-Tzu', 'bustard', 'crash_helmet', 'French_bulldog', 'Pekinese', 'komondor', 'ski_mask', 'malinois', 'kelpie', 'Brittany_spaniel', 'cocker_spaniel', 'shower_curtain', 'basset', 'jellyfish', 'doormat', 'Arabian_camel', 'lynx', 'hog', 'comic_book', 'minivan', 'seashore', 'cuirass', 'Brabancon_griffon', 'candle', 'Eskimo_dog', 'weasel', 'Christmas_stocking', 'washbasin', 'car_mirror', 'piggy_bank', 'pot', 'boathouse', 'mud_turtle', 'German_short-haired_pointer', 'Shetland_sheepdog', 'Irish_terrier', 'cairn', 'platypus', 'English_springer', 'whippet', 'ping-pong_ball', 'sea_urchin', 'bow_tie', 'window_shade', \"jack-o'-lantern\", 'sorrel', 'Sussex_spaniel', 'peacock', 'axolotl', 'wool', 'banana', 'Dandie_Dinmont', 'Norwich_terrier', 'wood_rabbit', 'dhole', 'keeshond', 'Norfolk_terrier', 'lacewing', 'dingo', 'brown_bear', 'Old_English_sheepdog', 'scorpion', 'flamingo', 'microphone', 'Samoyed', 'pitcher', 'African_hunting_dog', 'refrigerator', 'picket_fence', 'tub', 'zebra', 'hermit_crab', 'swing', 'Doberman', 'park_bench', 'feather_boa', 'Loafer', 'stone_wall', 'ice_bear', 'prayer_rug', 'chimpanzee', 'china_cabinet', 'bee_eater', 'tennis_ball', 'carton', 'killer_whale', 'ostrich', 'terrapin', 'Siamese_cat', 'gondola', 'Great_Pyrenees', 'microwave', 'starfish', 'sandbar', 'tusker', 'motor_scooter', 'ram', 'leaf_beetle', 'wombat', 'schipperke', 'Newfoundland', 'bull_mastiff', 'water_bottle', 'suit', 'toilet_seat', 'collie', 'robin', 'Cardigan', 'Greater_Swiss_Mountain_dog', 'slug', 'toilet_tissue', 'acorn_squash', 'soccer_ball', 'African_crocodile', 'tick', 'ocarina', 'boxer', 'street_sign', 'bow', 'stove', 'paper_towel', 'upright', 'dough', 'Scottish_deerhound', 'bath_towel', 'standard_schnauzer', 'walking_stick', 'Irish_water_spaniel', 'bubble', 'Boston_bull', 'book_jacket', 'rain_barrel', 'black-footed_ferret', 'guenon', 'Japanese_spaniel', 'water_buffalo', 'patio', 'cowboy_hat', 'dogsled', 'maze', 'harp', 'panpipe', 'cash_machine', 'mailbox', 'wallaby', 'EntleBucher', 'earthstar', 'pillow', 'bluetick', 'space_heater', 'carousel', 'Irish_setter', 'birdhouse', 'snorkel', 'bald_eagle', 'koala', 'Leonberg', 'cheetah', 'minibus', 'Weimaraner', 'clog', 'dishwasher', 'white_wolf', 'sliding_door', 'damselfly', 'Great_Dane', 'Tibetan_mastiff', 'cheeseburger', 'fiddler_crab', 'bannister', 'crane', 'Scotch_terrier', 'snowmobile', 'badger', 'bighorn', 'geyser', 'barrow', 'bison', 'Mexican_hairless', 'ice_lolly', 'sea_lion', 'dining_table', 'groenendael', 'Australian_terrier', 'beaver', 'briard', 'Appenzeller', 'grey_fox', 'mousetrap', 'hippopotamus', 'Border_terrier', 'hummingbird', 'tailed_frog', 'otter', 'Egyptian_cat', 'four-poster', 'wild_boar', 'bathtub', 'agama', 'muzzle', 'hotdog', 'bib', 'espresso', 'timber_wolf', 'meerkat', 'nail', 'hammer', 'home_theater', 'alp', 'bonnet', 'handkerchief', 'hand_blower', 'polecat', 'lakeside', 'studio_couch', 'cup', 'cliff', 'Bedlington_terrier', 'lawn_mower', 'balloon', 'sunglasses', 'rapeseed', 'traffic_light', 'coil', 'binoculars', 'paddle', 'tiger_shark', 'sulphur-crested_cockatoo', 'wire-haired_fox_terrier', 'Saluki', 'American_black_bear', 'rotisserie', 'conch', 'skunk', 'bookshop', 'radio_telescope', 'cougar', 'African_grey', 'coral_reef', 'lion', 'maillot', 'Madagascar_cat', 'tabby', 'silky_terrier', 'giant_panda', 'long-horned_beetle', 'Afghan_hound', 'clumber', 'sundial', 'padlock', 'pool_table', 'quilt', 'beach_wagon', 'remote_control', 'bakery', 'pedestal', 'gas_pump', 'bookcase', 'shield', 'loupe', 'restaurant', 'prison', 'school_bus', 'cowboy_boot', 'jersey', 'wooden_spoon', 'leopard', 'mortarboard', 'teapot', 'military_uniform', 'washer', 'coffee_mug', 'fountain', 'pencil_box', 'barbell', 'grille', 'revolver', 'envelope', 'syringe', 'marmot', 'pole', 'laptop', 'basketball', 'tricycle', 'convertible', 'limousine', 'orange']\n"
     ]
    }
   ],
   "source": [
    "#getting the unique values of the p1 column\n",
    "pred1 = list(image_pred.p1.unique())\n",
    "print(pred1)"
   ]
  },
  {
   "cell_type": "code",
   "execution_count": 769,
   "metadata": {},
   "outputs": [
    {
     "name": "stdout",
     "output_type": "stream",
     "text": [
      "['collie', 'miniature_pinscher', 'malinois', 'redbone', 'Rottweiler', 'English_springer', 'mud_turtle', 'Tibetan_mastiff', 'shopping_basket', 'komondor', 'Yorkshire_terrier', 'English_foxhound', 'bull_mastiff', 'German_shepherd', 'Shih-Tzu', 'Newfoundland', 'cock', 'desk', 'toy_terrier', 'toy_poodle', 'otter', 'Chesapeake_Bay_retriever', 'Siberian_husky', 'skunk', 'Afghan_hound', 'bloodhound', 'barracouta', 'papillon', 'cocker_spaniel', 'chow', 'Irish_terrier', 'chain_saw', 'beagle', 'giant_schnauzer', 'Labrador_retriever', 'Pembroke', 'Chihuahua', 'Weimaraner', 'slug', 'Brittany_spaniel', 'standard_schnauzer', 'teddy', 'armadillo', 'African_hunting_dog', 'vizsla', 'doormat', 'pug', 'Italian_greyhound', 'Samoyed', 'Pomeranian', 'miniature_poodle', 'Lakeland_terrier', 'Irish_setter', 'swab', 'malamute', 'bath_towel', 'Border_collie', 'Leonberg', 'drake', 'French_bulldog', 'ice_bear', 'Christmas_stocking', 'golden_retriever', 'standard_poodle', 'dhole', 'kuvasz', 'Cardigan', 'silky_terrier', 'spotlight', 'dishwasher', 'bighorn', 'tow_truck', 'hummingbird', 'English_setter', 'prayer_rug', 'frilled_lizard', 'Pekinese', 'ox', 'boxer', 'hog', 'guinea_pig', 'hen', 'wallaby', 'cowboy_boot', 'cornet', 'minivan', 'paddle', 'basset', 'hamper', 'Bedlington_terrier', 'Shetland_sheepdog', 'bow', 'Lhasa', 'pelican', 'toaster', 'groenendael', 'Australian_terrier', 'llama', 'knee_pad', 'pillow', 'Ibizan_hound', 'Old_English_sheepdog', 'Welsh_springer_spaniel', 'coral_reef', 'bison', 'waffle_iron', 'tabby', 'bib', 'police_van', 'Eskimo_dog', 'breastplate', 'German_short-haired_pointer', 'Norfolk_terrier', 'Blenheim_spaniel', 'pickup', 'miniature_schnauzer', 'lampshade', 'Tibetan_terrier', 'Siamese_cat', 'borzoi', 'studio_couch', 'toilet_seat', 'hamster', 'seat_belt', 'keeshond', 'koala', 'hair_spray', 'Saint_Bernard', 'tray', 'American_Staffordshire_terrier', 'birdhouse', 'terrapin', 'Staffordshire_bullterrier', 'briard', 'West_Highland_white_terrier', 'spotted_salamander', 'tennis_ball', 'porcupine', 'cardigan', 'corn', 'basenji', 'otterhound', 'European_gallinule', 'indri', 'tailed_frog', 'beach_wagon', 'siamang', 'orange', 'home_theater', 'cairn', 'hare', 'Norwegian_elkhound', 'Brabancon_griffon', 'American_black_bear', 'sulphur_butterfly', 'Sealyham_terrier', 'Walker_hound', 'tarantula', 'Persian_cat', 'coral_fungus', 'accordion', 'kelpie', 'Great_Pyrenees', 'wood_rabbit', 'black-and-tan_coonhound', 'sunglasses', 'plow', 'whippet', 'rain_barrel', 'bathtub', 'tiger', 'snail', 'tick', 'wire-haired_fox_terrier', 'water_bottle', 'wig', 'platypus', 'Irish_wolfhound', 'ram', 'gorilla', 'entertainment_center', 'toucan', 'mask', 'shopping_cart', 'Sussex_spaniel', 'crate', 'grey_whale', 'badger', 'Airedale', 'Arabian_camel', 'cockroach', 'lifeboat', 'rotisserie', 'goldfish', 'stingray', 'warthog', 'bobsled', 'rhinoceros_beetle', 'beaver', 'brown_bear', 'Maltese_dog', 'weasel', 'quill', 'Rhodesian_ridgeback', 'Arctic_fox', 'ashcan', 'bow_tie', 'soft-coated_wheaten_terrier', 'schipperke', 'bearskin', 'Kerry_blue_terrier', 'ice_lolly', 'American_alligator', 'mosquito_net', 'sea_lion', 'Boston_bull', 'nail', 'black-footed_ferret', 'promontory', 'sarong', 'Doberman', 'space_heater', 'Great_Dane', 'mailbox', 'Saluki', 'bakery', 'sandal', 'leafhopper', 'barrel', 'water_buffalo', 'polecat', 'macaque', 'Japanese_spaniel', 'folding_chair', 'trench_coat', 'Angora', 'junco', 'crib', 'dalmatian', 'snowmobile', 'flat-coated_retriever', 'streetcar', 'window_screen', 'bannister', 'hair_slide', 'meerkat', 'cannon', 'jaguar', 'Border_terrier', 'Greater_Swiss_Mountain_dog', 'hay', 'apron', 'cloak', 'radiator', 'muzzle', 'feather_boa', 'rifle', 'chimpanzee', 'loggerhead', 'torch', 'Mexican_hairless', 'spindle', 'triceratops', 'Appenzeller', 'stove', 'dingo', 'oscilloscope', 'common_newt', 'hotdog', 'medicine_chest', 'quail', 'horse_cart', 'four-poster', 'pier', 'red_fox', 'affenpinscher', 'assault_rifle', 'mashed_potato', 'moped', 'hyena', 'seashore', 'tub', 'sports_car', 'swing', 'mink', 'bluetick', 'neck_brace', 'grey_fox', 'mongoose', 'fur_coat', 'Scotch_terrier', 'spatula', 'paper_towel', 'shoji', 'toyshop', 'banded_gecko', 'peacock', 'crossword_puzzle', 'tree_frog', 'wombat', 'turnstile', 'sleeping_bag', 'quilt', 'Gila_monster', 'giant_panda', 'Dandie_Dinmont', 'handkerchief', 'sombrero', 'Indian_elephant', 'coffee_mug', 'gibbon', 'carton', 'screw', 'minibus', 'hatchet', 'window_shade', 'lawn_mower', 'washbasin', 'sock', 'prison', 'patio', 'china_cabinet', 'chain_mail', 'breakwater', 'computer_keyboard', 'goose', 'lakeside', 'solar_dish', 'table_lamp', 'Windsor_tie', 'punching_bag', 'comic_book', 'sunglass', 'great_white_shark', 'timber_wolf', 'fountain', 'dugong', 'marmot', 'barbershop', 'shovel', 'curly-coated_retriever', 'lesser_panda', 'monitor', 'crutch', 'cash_machine', 'printer', 'volcano', 'wallet', 'laptop', 'bathing_cap', 'confectionery', 'dam', 'killer_whale', 'canoe', 'Madagascar_cat', 'jean', 'boathouse', 'cliff', 'maillot', 'iPod', 'hand-held_computer', 'black_widow', 'Norwich_terrier', 'necklace', 'dining_table', 'binoculars', 'cradle', 'sea_urchin', 'cougar', 'EntleBucher', 'basketball', 'lighter', 'saltshaker', 'harvester', 'television', 'envelope', 'house_finch', 'web_site', 'palace', 'shower_curtain', 'cab', 'snorkel', 'jigsaw_puzzle', 'sweatshirt', 'white_wolf', 'sliding_door', 'academic_gown', 'cowboy_hat', 'can_opener', 'cup', 'rule', 'soccer_ball', 'bucket', 'racket', 'menu', 'purse', 'Bernese_mountain_dog', 'dumbbell', 'projectile', 'dock', 'oxygen_mask', 'sandbar', 'umbrella', 'shower_cap', 'bagel']\n"
     ]
    }
   ],
   "source": [
    "#getting the unique values of the p2 column\n",
    "pred2 = list(image_pred.p2.unique())\n",
    "print(pred2)"
   ]
  },
  {
   "cell_type": "code",
   "execution_count": 770,
   "metadata": {},
   "outputs": [
    {
     "name": "stdout",
     "output_type": "stream",
     "text": [
      "['Shetland_sheepdog', 'Rhodesian_ridgeback', 'bloodhound', 'miniature_pinscher', 'Doberman', 'Greater_Swiss_Mountain_dog', 'terrapin', 'fur_coat', 'golden_retriever', 'soft-coated_wheaten_terrier', 'Labrador_retriever', 'Pekinese', 'Ibizan_hound', 'French_bulldog', 'malinois', 'Dandie_Dinmont', 'borzoi', 'partridge', 'bookcase', 'basenji', 'miniature_poodle', 'great_grey_owl', 'groenendael', 'Eskimo_dog', 'hamster', 'briard', 'papillon', 'flat-coated_retriever', 'gar', 'Chihuahua', 'Shih-Tzu', 'Pomeranian', 'dingo', 'power_drill', 'Saluki', 'Great_Pyrenees', 'West_Highland_white_terrier', 'collie', 'toy_poodle', 'vizsla', 'acorn', 'giant_schnauzer', 'teddy', 'common_iguana', 'wig', 'water_buffalo', 'coyote', 'seat_belt', 'kelpie', 'space_heater', 'Brabancon_griffon', 'standard_poodle', 'beagle', 'Irish_water_spaniel', 'bluetick', 'Weimaraner', 'Chesapeake_Bay_retriever', 'toilet_tissue', 'black-and-tan_coonhound', 'kuvasz', 'Christmas_stocking', 'badger', 'hen', 'Staffordshire_bullterrier', 'Yorkshire_terrier', 'Lakeland_terrier', 'weasel', 'ski_mask', 'cocker_spaniel', 'Australian_terrier', 'lampshade', 'oscilloscope', 'ram', 'jeep', 'ice_bear', 'African_grey', 'Great_Dane', 'curly-coated_retriever', 'doormat', 'African_chameleon', 'schipperke', 'muzzle', 'triceratops', 'Newfoundland', 'Band_Aid', 'wood_rabbit', 'white_wolf', 'giant_panda', 'Welsh_springer_spaniel', 'French_horn', 'toy_terrier', 'Pembroke', 'Cardigan', 'bassinet', 'pug', 'Afghan_hound', 'American_Staffordshire_terrier', 'whippet', 'English_setter', 'panpipe', 'crane', 'mouse', 'titi', 'Angora', 'Boston_bull', 'silky_terrier', 'Japanese_spaniel', 'sandbar', 'balance_beam', 'black-footed_ferret', 'miniature_schnauzer', 'Blenheim_spaniel', 'bathtub', 'Saint_Bernard', 'redbone', 'goldfish', 'Norfolk_terrier', 'llama', 'koala', 'pillow', 'jersey', 'chow', 'minibus', 'malamute', 'bulletproof_vest', 'beach_wagon', 'cairn', 'plunger', 'paper_towel', 'wing', 'English_foxhound', 'Brittany_spaniel', 'bolete', 'ashcan', 'box_turtle', 'guinea_pig', 'bison', 'bull_mastiff', 'racket', 'cardoon', 'Tibetan_mastiff', 'window_screen', 'Irish_terrier', 'agama', 'common_newt', 'car_wheel', 'gorilla', 'bagel', 'clumber', 'Egyptian_cat', 'television', 'boxer', 'brown_bear', 'leafhopper', 'German_shepherd', 'Border_collie', 'menu', 'wolf_spider', 'bathing_cap', 'stinkhorn', 'drumstick', 'mask', 'Scottish_deerhound', 'shower_curtain', 'Appenzeller', 'plastic_bag', 'swimming_trunks', 'prairie_chicken', 'red_wolf', 'Maltese_dog', 'snail', 'gibbon', 'Gordon_setter', 'black_swan', 'beacon', 'wool', 'cowboy_boot', 'Rottweiler', 'poncho', 'swing', 'Arctic_fox', 'bib', 'Italian_greyhound', 'steam_locomotive', 'fountain', 'chickadee', 'abaya', 'Border_terrier', 'bubble', 'chimpanzee', 'hammerhead', 'Norwegian_elkhound', 'Norwich_terrier', 'Airedale', 'Siamese_cat', 'sea_cucumber', 'seashore', 'nipple', 'moped', 'Arabian_camel', 'crayfish', 'wallaby', 'wire-haired_fox_terrier', 'toilet_seat', 'Old_English_sheepdog', 'pajama', 'Walker_hound', 'shovel', 'bucket', 'Sealyham_terrier', 'Windsor_tie', 'Siberian_husky', 'quill', 'Persian_cat', 'European_fire_salamander', 'three-toed_sloth', 'swab', 'echidna', 'tennis_ball', 'Lhasa', 'coral_reef', 'keeshond', 'mink', 'screw', 'basset', 'wreck', 'kimono', 'German_short-haired_pointer', 'joystick', 'microwave', 'Tibetan_terrier', 'Irish_wolfhound', 'Samoyed', 'loggerhead', 'French_loaf', 'Irish_setter', 'komondor', 'purse', 'greenhouse', 'broccoli', 'shopping_basket', 'macaque', 'squirrel_monkey', 'green_lizard', 'parallel_bars', 'cloak', 'chest', 'sundial', 'mosquito_net', 'bath_towel', 'cuirass', 'zebra', 'lumbermill', 'wallet', 'feather_boa', 'English_springer', 'electric_fan', 'hippopotamus', 'ox', 'quilt', 'assault_rifle', 'axolotl', 'pot', 'toyshop', 'pizza', 'scuba_diver', 'beaver', 'Mexican_hairless', 'cliff', 'loupe', 'wild_boar', 'jaguar', 'hog', 'polecat', 'lion', 'EntleBucher', 'hand-held_computer', 'washbasin', 'whiptail', 'rock_crab', 'hare', 'shoji', 'sombrero', 'bell_cote', 'rifle', 'goose', 'pickup', 'sunglasses', 'limousine', 'bow_tie', 'pretzel', 'marmot', 'ice_lolly', 'vacuum', 'dalmatian', 'prison', 'shower_cap', 'sliding_door', 'dugong', 'otterhound', 'eel', 'binder', 'bullfrog', 'soap_dispenser', 'sea_lion', 'carton', 'brass', 'mitten', 'golfcart', 'cougar', 'warthog', 'umbrella', 'neck_brace', 'cup', 'book_jacket', 'padlock', 'cab', 'chime', 'Leonberg', 'viaduct', 'American_black_bear', 'tub', 'hand_blower', 'king_penguin', 'rotisserie', 'bannister', 'passenger_car', 'mongoose', 'dhole', 'consomme', 'valley', 'park_bench', 'mushroom', 'barrow', 'parachute', 'desktop_computer', 'snorkel', 'wok', 'affenpinscher', 'space_shuttle', 'rain_barrel', 'ballplayer', 'mountain_tent', 'oxcart', 'buckeye', 'sunglass', 'croquet_ball', 'refrigerator', 'snow_leopard', 'tripod', 'rapeseed', 'tiger_cat', 'Bernese_mountain_dog', 'notebook', 'maraca', 'pool_table', 'lakeside', 'theater_curtain', 'pier', 'cheetah', 'mousetrap', 'pop_bottle', 'soccer_ball', 'wombat', 'rhinoceros_beetle', 'paddlewheel', 'paintbrush', 'maze', 'hatchet', 'chain', 'jigsaw_puzzle', 'switch', 'Kerry_blue_terrier', 'barbell', 'convertible', 'entertainment_center', 'file', 'guillotine', 'nail', 'standard_schnauzer', 'bow', 'grocery_store', 'boathouse', 'conch', 'Bouvier_des_Flandres', 'grey_fox', 'shopping_cart', 'meerkat', 'grand_piano', 'envelope', 'screen', 'coffeepot', 'printer', 'otter', 'restaurant', 'bonnet', 'crossword_puzzle', 'go-kart', 'Sussex_spaniel', 'orangutan', 'canoe', 'barber_chair', 'traffic_light', 'ibex', 'can_opener', 'Indian_elephant', 'spatula', 'banana']\n"
     ]
    }
   ],
   "source": [
    "#getting the unique values of the p3 column\n",
    "pred3 = list(image_pred.p3.unique())\n",
    "print(pred3)"
   ]
  },
  {
   "cell_type": "code",
   "execution_count": 771,
   "metadata": {},
   "outputs": [],
   "source": [
    "#passing the unique values of the p1,p2 and p3 into three sets(set1,set2,set3)\n",
    "set1 = set(pred1)\n",
    "set2 = set(pred2)\n",
    "set3 = set(pred3)"
   ]
  },
  {
   "cell_type": "code",
   "execution_count": 772,
   "metadata": {},
   "outputs": [
    {
     "data": {
      "text/plain": [
       "287"
      ]
     },
     "execution_count": 772,
     "metadata": {},
     "output_type": "execute_result"
    }
   ],
   "source": [
    "#checking for the length of the anti_intersection of set1 and set2\n",
    "antintersect1 = set1^set2\n",
    "len(antintersect1)"
   ]
  },
  {
   "cell_type": "code",
   "execution_count": 773,
   "metadata": {},
   "outputs": [
    {
     "data": {
      "text/plain": [
       "299"
      ]
     },
     "execution_count": 773,
     "metadata": {},
     "output_type": "execute_result"
    }
   ],
   "source": [
    "#checking for the length of the anti_intersection of set2 and set3\n",
    "antintersect2 = set2^set3\n",
    "len(antintersect2)"
   ]
  },
  {
   "cell_type": "code",
   "execution_count": 774,
   "metadata": {},
   "outputs": [
    {
     "data": {
      "text/plain": [
       "290"
      ]
     },
     "execution_count": 774,
     "metadata": {},
     "output_type": "execute_result"
    }
   ],
   "source": [
    "#checking for the length of the anti_intersection of set3 and set1\n",
    "antintersect3 = set3^set1\n",
    "len(antintersect3)"
   ]
  },
  {
   "cell_type": "code",
   "execution_count": 775,
   "metadata": {},
   "outputs": [
    {
     "data": {
      "text/plain": [
       "{'African_chameleon',\n",
       " 'African_crocodile',\n",
       " 'African_hunting_dog',\n",
       " 'Band_Aid',\n",
       " 'Bedlington_terrier',\n",
       " 'Bouvier_des_Flandres',\n",
       " 'English_foxhound',\n",
       " 'European_fire_salamander',\n",
       " 'French_horn',\n",
       " 'French_loaf',\n",
       " 'Indian_elephant',\n",
       " 'Irish_wolfhound',\n",
       " 'Kerry_blue_terrier',\n",
       " 'Loafer',\n",
       " 'Madagascar_cat',\n",
       " 'Persian_cat',\n",
       " 'Scotch_terrier',\n",
       " 'Sealyham_terrier',\n",
       " 'Windsor_tie',\n",
       " 'abaya',\n",
       " 'acorn',\n",
       " 'acorn_squash',\n",
       " 'affenpinscher',\n",
       " 'alp',\n",
       " 'ashcan',\n",
       " 'assault_rifle',\n",
       " 'bagel',\n",
       " 'bakery',\n",
       " 'balance_beam',\n",
       " 'bald_eagle',\n",
       " 'balloon',\n",
       " 'ballplayer',\n",
       " 'barber_chair',\n",
       " 'basketball',\n",
       " 'bassinet',\n",
       " 'bathing_cap',\n",
       " 'beacon',\n",
       " 'bearskin',\n",
       " 'bee_eater',\n",
       " 'bell_cote',\n",
       " 'bighorn',\n",
       " 'binder',\n",
       " 'binoculars',\n",
       " 'birdhouse',\n",
       " 'black_swan',\n",
       " 'bolete',\n",
       " 'bookshop',\n",
       " 'brass',\n",
       " 'broccoli',\n",
       " 'bucket',\n",
       " 'buckeye',\n",
       " 'bulletproof_vest',\n",
       " 'bullfrog',\n",
       " 'bustard',\n",
       " 'cab',\n",
       " 'can_opener',\n",
       " 'candle',\n",
       " 'car_mirror',\n",
       " 'car_wheel',\n",
       " 'cardoon',\n",
       " 'carousel',\n",
       " 'cash_machine',\n",
       " 'chain',\n",
       " 'cheeseburger',\n",
       " 'chest',\n",
       " 'chickadee',\n",
       " 'chime',\n",
       " 'china_cabinet',\n",
       " 'cloak',\n",
       " 'clog',\n",
       " 'coffee_mug',\n",
       " 'coffeepot',\n",
       " 'coho',\n",
       " 'coil',\n",
       " 'comic_book',\n",
       " 'common_newt',\n",
       " 'consomme',\n",
       " 'cowboy_hat',\n",
       " 'coyote',\n",
       " 'crash_helmet',\n",
       " 'crayfish',\n",
       " 'croquet_ball',\n",
       " 'crossword_puzzle',\n",
       " 'damselfly',\n",
       " 'dining_table',\n",
       " 'dishwasher',\n",
       " 'dogsled',\n",
       " 'dough',\n",
       " 'drumstick',\n",
       " 'dugong',\n",
       " 'earthstar',\n",
       " 'echidna',\n",
       " 'eel',\n",
       " 'entertainment_center',\n",
       " 'espresso',\n",
       " 'fiddler_crab',\n",
       " 'file',\n",
       " 'fire_engine',\n",
       " 'flamingo',\n",
       " 'four-poster',\n",
       " 'frilled_lizard',\n",
       " 'fur_coat',\n",
       " 'gar',\n",
       " 'gas_pump',\n",
       " 'geyser',\n",
       " 'gibbon',\n",
       " 'go-kart',\n",
       " 'goldfish',\n",
       " 'golfcart',\n",
       " 'gondola',\n",
       " 'gorilla',\n",
       " 'grand_piano',\n",
       " 'great_grey_owl',\n",
       " 'green_lizard',\n",
       " 'greenhouse',\n",
       " 'grille',\n",
       " 'grocery_store',\n",
       " 'guenon',\n",
       " 'guillotine',\n",
       " 'hammer',\n",
       " 'hammerhead',\n",
       " 'hand-held_computer',\n",
       " 'handkerchief',\n",
       " 'harp',\n",
       " 'hatchet',\n",
       " 'hay',\n",
       " 'hermit_crab',\n",
       " 'home_theater',\n",
       " 'hotdog',\n",
       " 'hummingbird',\n",
       " 'hyena',\n",
       " \"jack-o'-lantern\",\n",
       " 'jaguar',\n",
       " 'jeep',\n",
       " 'jellyfish',\n",
       " 'joystick',\n",
       " 'killer_whale',\n",
       " 'kimono',\n",
       " 'lacewing',\n",
       " 'lampshade',\n",
       " 'laptop',\n",
       " 'lawn_mower',\n",
       " 'leaf_beetle',\n",
       " 'leafhopper',\n",
       " 'leatherback_turtle',\n",
       " 'leopard',\n",
       " 'loggerhead',\n",
       " 'long-horned_beetle',\n",
       " 'lorikeet',\n",
       " 'lumbermill',\n",
       " 'lynx',\n",
       " 'macaque',\n",
       " 'mailbox',\n",
       " 'maillot',\n",
       " 'maraca',\n",
       " 'mask',\n",
       " 'menu',\n",
       " 'microphone',\n",
       " 'military_uniform',\n",
       " 'minivan',\n",
       " 'mink',\n",
       " 'mitten',\n",
       " 'mongoose',\n",
       " 'moped',\n",
       " 'mortarboard',\n",
       " 'mosquito_net',\n",
       " 'motor_scooter',\n",
       " 'mountain_tent',\n",
       " 'mouse',\n",
       " 'mud_turtle',\n",
       " 'mushroom',\n",
       " 'neck_brace',\n",
       " 'nipple',\n",
       " 'notebook',\n",
       " 'ocarina',\n",
       " 'orange',\n",
       " 'orangutan',\n",
       " 'oscilloscope',\n",
       " 'ostrich',\n",
       " 'otterhound',\n",
       " 'oxcart',\n",
       " 'paddle',\n",
       " 'paddlewheel',\n",
       " 'paintbrush',\n",
       " 'pajama',\n",
       " 'parachute',\n",
       " 'parallel_bars',\n",
       " 'partridge',\n",
       " 'passenger_car',\n",
       " 'patio',\n",
       " 'peacock',\n",
       " 'pedestal',\n",
       " 'pencil_box',\n",
       " 'picket_fence',\n",
       " 'pickup',\n",
       " 'pier',\n",
       " 'piggy_bank',\n",
       " 'ping-pong_ball',\n",
       " 'pitcher',\n",
       " 'pizza',\n",
       " 'plastic_bag',\n",
       " 'platypus',\n",
       " 'plunger',\n",
       " 'pole',\n",
       " 'poncho',\n",
       " 'pop_bottle',\n",
       " 'porcupine',\n",
       " 'power_drill',\n",
       " 'prairie_chicken',\n",
       " 'prayer_rug',\n",
       " 'pretzel',\n",
       " 'printer',\n",
       " 'purse',\n",
       " 'quill',\n",
       " 'racket',\n",
       " 'radio_telescope',\n",
       " 'red_wolf',\n",
       " 'remote_control',\n",
       " 'revolver',\n",
       " 'rhinoceros_beetle',\n",
       " 'rifle',\n",
       " 'robin',\n",
       " 'rock_crab',\n",
       " 'school_bus',\n",
       " 'scorpion',\n",
       " 'screen',\n",
       " 'screw',\n",
       " 'scuba_diver',\n",
       " 'sea_cucumber',\n",
       " 'sea_urchin',\n",
       " 'shield',\n",
       " 'shoji',\n",
       " 'shovel',\n",
       " 'shower_cap',\n",
       " 'skunk',\n",
       " 'slug',\n",
       " 'snow_leopard',\n",
       " 'snowmobile',\n",
       " 'soap_dispenser',\n",
       " 'sombrero',\n",
       " 'sorrel',\n",
       " 'space_shuttle',\n",
       " 'spatula',\n",
       " 'squirrel_monkey',\n",
       " 'starfish',\n",
       " 'steam_locomotive',\n",
       " 'stinkhorn',\n",
       " 'stone_wall',\n",
       " 'stove',\n",
       " 'street_sign',\n",
       " 'studio_couch',\n",
       " 'suit',\n",
       " 'sulphur-crested_cockatoo',\n",
       " 'sunglass',\n",
       " 'swimming_trunks',\n",
       " 'switch',\n",
       " 'syringe',\n",
       " 'tabby',\n",
       " 'tailed_frog',\n",
       " 'teapot',\n",
       " 'television',\n",
       " 'theater_curtain',\n",
       " 'tick',\n",
       " 'tiger_cat',\n",
       " 'tiger_shark',\n",
       " 'timber_wolf',\n",
       " 'titi',\n",
       " 'tricycle',\n",
       " 'tripod',\n",
       " 'trombone',\n",
       " 'tusker',\n",
       " 'umbrella',\n",
       " 'upright',\n",
       " 'valley',\n",
       " 'viaduct',\n",
       " 'walking_stick',\n",
       " 'wallet',\n",
       " 'warthog',\n",
       " 'washer',\n",
       " 'water_bottle',\n",
       " 'web_site',\n",
       " 'whiptail',\n",
       " 'wig',\n",
       " 'window_screen',\n",
       " 'window_shade',\n",
       " 'wing',\n",
       " 'wok',\n",
       " 'wolf_spider',\n",
       " 'wooden_spoon',\n",
       " 'wreck'}"
      ]
     },
     "execution_count": 775,
     "metadata": {},
     "output_type": "execute_result"
    }
   ],
   "source": [
    "#checking for the values of the anti_intersection of each pair of anti_intersections\n",
    "nondog1 = antintersect1 ^ antintersect2\n",
    "nondog1"
   ]
  },
  {
   "cell_type": "code",
   "execution_count": 776,
   "metadata": {},
   "outputs": [
    {
     "data": {
      "text/plain": [
       "{'African_crocodile',\n",
       " 'African_grey',\n",
       " 'American_alligator',\n",
       " 'Egyptian_cat',\n",
       " 'English_foxhound',\n",
       " 'European_gallinule',\n",
       " 'Gila_monster',\n",
       " 'Gordon_setter',\n",
       " 'Indian_elephant',\n",
       " 'Irish_water_spaniel',\n",
       " 'Irish_wolfhound',\n",
       " 'Kerry_blue_terrier',\n",
       " 'Loafer',\n",
       " 'Persian_cat',\n",
       " 'Scottish_deerhound',\n",
       " 'Sealyham_terrier',\n",
       " 'Windsor_tie',\n",
       " 'academic_gown',\n",
       " 'accordion',\n",
       " 'acorn_squash',\n",
       " 'affenpinscher',\n",
       " 'agama',\n",
       " 'alp',\n",
       " 'apron',\n",
       " 'armadillo',\n",
       " 'ashcan',\n",
       " 'assault_rifle',\n",
       " 'axolotl',\n",
       " 'bagel',\n",
       " 'bald_eagle',\n",
       " 'balloon',\n",
       " 'banana',\n",
       " 'banded_gecko',\n",
       " 'barbell',\n",
       " 'barbershop',\n",
       " 'barracouta',\n",
       " 'barrel',\n",
       " 'barrow',\n",
       " 'bathing_cap',\n",
       " 'bee_eater',\n",
       " 'black_widow',\n",
       " 'bobsled',\n",
       " 'bonnet',\n",
       " 'book_jacket',\n",
       " 'bookcase',\n",
       " 'bookshop',\n",
       " 'box_turtle',\n",
       " 'breakwater',\n",
       " 'breastplate',\n",
       " 'bubble',\n",
       " 'bucket',\n",
       " 'bustard',\n",
       " 'cab',\n",
       " 'can_opener',\n",
       " 'candle',\n",
       " 'cannon',\n",
       " 'car_mirror',\n",
       " 'cardigan',\n",
       " 'carousel',\n",
       " 'chain_mail',\n",
       " 'chain_saw',\n",
       " 'cheeseburger',\n",
       " 'cheetah',\n",
       " 'cloak',\n",
       " 'clog',\n",
       " 'clumber',\n",
       " 'cock',\n",
       " 'cockroach',\n",
       " 'coho',\n",
       " 'coil',\n",
       " 'common_iguana',\n",
       " 'common_newt',\n",
       " 'computer_keyboard',\n",
       " 'conch',\n",
       " 'confectionery',\n",
       " 'convertible',\n",
       " 'coral_fungus',\n",
       " 'corn',\n",
       " 'cornet',\n",
       " 'cradle',\n",
       " 'crane',\n",
       " 'crash_helmet',\n",
       " 'crate',\n",
       " 'crib',\n",
       " 'crossword_puzzle',\n",
       " 'crutch',\n",
       " 'cuirass',\n",
       " 'dam',\n",
       " 'damselfly',\n",
       " 'desk',\n",
       " 'desktop_computer',\n",
       " 'dock',\n",
       " 'dogsled',\n",
       " 'dough',\n",
       " 'drake',\n",
       " 'dugong',\n",
       " 'dumbbell',\n",
       " 'earthstar',\n",
       " 'electric_fan',\n",
       " 'entertainment_center',\n",
       " 'espresso',\n",
       " 'fiddler_crab',\n",
       " 'fire_engine',\n",
       " 'flamingo',\n",
       " 'folding_chair',\n",
       " 'fur_coat',\n",
       " 'gas_pump',\n",
       " 'geyser',\n",
       " 'gibbon',\n",
       " 'goldfish',\n",
       " 'gondola',\n",
       " 'gorilla',\n",
       " 'great_white_shark',\n",
       " 'grey_whale',\n",
       " 'grille',\n",
       " 'guenon',\n",
       " 'hair_slide',\n",
       " 'hair_spray',\n",
       " 'hammer',\n",
       " 'hamper',\n",
       " 'hand-held_computer',\n",
       " 'hand_blower',\n",
       " 'harp',\n",
       " 'harvester',\n",
       " 'hatchet',\n",
       " 'hermit_crab',\n",
       " 'hippopotamus',\n",
       " 'horse_cart',\n",
       " 'house_finch',\n",
       " 'iPod',\n",
       " 'ibex',\n",
       " 'indri',\n",
       " \"jack-o'-lantern\",\n",
       " 'jaguar',\n",
       " 'jean',\n",
       " 'jellyfish',\n",
       " 'jersey',\n",
       " 'junco',\n",
       " 'king_penguin',\n",
       " 'knee_pad',\n",
       " 'lacewing',\n",
       " 'lampshade',\n",
       " 'leaf_beetle',\n",
       " 'leafhopper',\n",
       " 'leatherback_turtle',\n",
       " 'leopard',\n",
       " 'lesser_panda',\n",
       " 'lifeboat',\n",
       " 'lighter',\n",
       " 'limousine',\n",
       " 'lion',\n",
       " 'loggerhead',\n",
       " 'long-horned_beetle',\n",
       " 'lorikeet',\n",
       " 'loupe',\n",
       " 'lynx',\n",
       " 'macaque',\n",
       " 'mashed_potato',\n",
       " 'mask',\n",
       " 'maze',\n",
       " 'medicine_chest',\n",
       " 'menu',\n",
       " 'microphone',\n",
       " 'microwave',\n",
       " 'military_uniform',\n",
       " 'mink',\n",
       " 'mongoose',\n",
       " 'monitor',\n",
       " 'moped',\n",
       " 'mortarboard',\n",
       " 'mosquito_net',\n",
       " 'motor_scooter',\n",
       " 'mousetrap',\n",
       " 'neck_brace',\n",
       " 'necklace',\n",
       " 'ocarina',\n",
       " 'oscilloscope',\n",
       " 'ostrich',\n",
       " 'otterhound',\n",
       " 'oxygen_mask',\n",
       " 'padlock',\n",
       " 'palace',\n",
       " 'panpipe',\n",
       " 'park_bench',\n",
       " 'pedestal',\n",
       " 'pelican',\n",
       " 'pencil_box',\n",
       " 'picket_fence',\n",
       " 'pickup',\n",
       " 'pier',\n",
       " 'piggy_bank',\n",
       " 'ping-pong_ball',\n",
       " 'pitcher',\n",
       " 'plow',\n",
       " 'pole',\n",
       " 'police_van',\n",
       " 'pool_table',\n",
       " 'pot',\n",
       " 'printer',\n",
       " 'projectile',\n",
       " 'promontory',\n",
       " 'punching_bag',\n",
       " 'purse',\n",
       " 'quail',\n",
       " 'quill',\n",
       " 'racket',\n",
       " 'radiator',\n",
       " 'radio_telescope',\n",
       " 'rapeseed',\n",
       " 'red_fox',\n",
       " 'refrigerator',\n",
       " 'remote_control',\n",
       " 'restaurant',\n",
       " 'revolver',\n",
       " 'rhinoceros_beetle',\n",
       " 'rifle',\n",
       " 'robin',\n",
       " 'rule',\n",
       " 'saltshaker',\n",
       " 'sandal',\n",
       " 'sarong',\n",
       " 'school_bus',\n",
       " 'scorpion',\n",
       " 'screw',\n",
       " 'shield',\n",
       " 'shoji',\n",
       " 'shovel',\n",
       " 'shower_cap',\n",
       " 'siamang',\n",
       " 'ski_mask',\n",
       " 'sleeping_bag',\n",
       " 'sock',\n",
       " 'solar_dish',\n",
       " 'sombrero',\n",
       " 'sorrel',\n",
       " 'spatula',\n",
       " 'spindle',\n",
       " 'sports_car',\n",
       " 'spotlight',\n",
       " 'spotted_salamander',\n",
       " 'starfish',\n",
       " 'stingray',\n",
       " 'stone_wall',\n",
       " 'street_sign',\n",
       " 'streetcar',\n",
       " 'suit',\n",
       " 'sulphur-crested_cockatoo',\n",
       " 'sulphur_butterfly',\n",
       " 'sundial',\n",
       " 'sunglass',\n",
       " 'sweatshirt',\n",
       " 'syringe',\n",
       " 'table_lamp',\n",
       " 'tarantula',\n",
       " 'teapot',\n",
       " 'television',\n",
       " 'three-toed_sloth',\n",
       " 'tiger',\n",
       " 'tiger_shark',\n",
       " 'toaster',\n",
       " 'toilet_tissue',\n",
       " 'torch',\n",
       " 'toucan',\n",
       " 'tow_truck',\n",
       " 'traffic_light',\n",
       " 'tray',\n",
       " 'tree_frog',\n",
       " 'trench_coat',\n",
       " 'tricycle',\n",
       " 'trombone',\n",
       " 'turnstile',\n",
       " 'tusker',\n",
       " 'umbrella',\n",
       " 'upright',\n",
       " 'vacuum',\n",
       " 'volcano',\n",
       " 'waffle_iron',\n",
       " 'walking_stick',\n",
       " 'wallet',\n",
       " 'warthog',\n",
       " 'washer',\n",
       " 'wig',\n",
       " 'wild_boar',\n",
       " 'window_screen',\n",
       " 'wooden_spoon',\n",
       " 'wool',\n",
       " 'zebra'}"
      ]
     },
     "execution_count": 776,
     "metadata": {},
     "output_type": "execute_result"
    }
   ],
   "source": [
    "#checking for the values of the anti_intersection of each pair of anti_intersections\n",
    "nondog2 = antintersect2 ^ antintersect3\n",
    "nondog2"
   ]
  },
  {
   "cell_type": "code",
   "execution_count": 777,
   "metadata": {},
   "outputs": [
    {
     "data": {
      "text/plain": [
       "{'African_chameleon',\n",
       " 'African_grey',\n",
       " 'African_hunting_dog',\n",
       " 'American_alligator',\n",
       " 'Band_Aid',\n",
       " 'Bedlington_terrier',\n",
       " 'Bouvier_des_Flandres',\n",
       " 'Egyptian_cat',\n",
       " 'European_fire_salamander',\n",
       " 'European_gallinule',\n",
       " 'French_horn',\n",
       " 'French_loaf',\n",
       " 'Gila_monster',\n",
       " 'Gordon_setter',\n",
       " 'Irish_water_spaniel',\n",
       " 'Madagascar_cat',\n",
       " 'Scotch_terrier',\n",
       " 'Scottish_deerhound',\n",
       " 'abaya',\n",
       " 'academic_gown',\n",
       " 'accordion',\n",
       " 'acorn',\n",
       " 'agama',\n",
       " 'apron',\n",
       " 'armadillo',\n",
       " 'axolotl',\n",
       " 'bakery',\n",
       " 'balance_beam',\n",
       " 'ballplayer',\n",
       " 'banana',\n",
       " 'banded_gecko',\n",
       " 'barbell',\n",
       " 'barber_chair',\n",
       " 'barbershop',\n",
       " 'barracouta',\n",
       " 'barrel',\n",
       " 'barrow',\n",
       " 'basketball',\n",
       " 'bassinet',\n",
       " 'beacon',\n",
       " 'bearskin',\n",
       " 'bell_cote',\n",
       " 'bighorn',\n",
       " 'binder',\n",
       " 'binoculars',\n",
       " 'birdhouse',\n",
       " 'black_swan',\n",
       " 'black_widow',\n",
       " 'bobsled',\n",
       " 'bolete',\n",
       " 'bonnet',\n",
       " 'book_jacket',\n",
       " 'bookcase',\n",
       " 'box_turtle',\n",
       " 'brass',\n",
       " 'breakwater',\n",
       " 'breastplate',\n",
       " 'broccoli',\n",
       " 'bubble',\n",
       " 'buckeye',\n",
       " 'bulletproof_vest',\n",
       " 'bullfrog',\n",
       " 'cannon',\n",
       " 'car_wheel',\n",
       " 'cardigan',\n",
       " 'cardoon',\n",
       " 'cash_machine',\n",
       " 'chain',\n",
       " 'chain_mail',\n",
       " 'chain_saw',\n",
       " 'cheetah',\n",
       " 'chest',\n",
       " 'chickadee',\n",
       " 'chime',\n",
       " 'china_cabinet',\n",
       " 'clumber',\n",
       " 'cock',\n",
       " 'cockroach',\n",
       " 'coffee_mug',\n",
       " 'coffeepot',\n",
       " 'comic_book',\n",
       " 'common_iguana',\n",
       " 'computer_keyboard',\n",
       " 'conch',\n",
       " 'confectionery',\n",
       " 'consomme',\n",
       " 'convertible',\n",
       " 'coral_fungus',\n",
       " 'corn',\n",
       " 'cornet',\n",
       " 'cowboy_hat',\n",
       " 'coyote',\n",
       " 'cradle',\n",
       " 'crane',\n",
       " 'crate',\n",
       " 'crayfish',\n",
       " 'crib',\n",
       " 'croquet_ball',\n",
       " 'crutch',\n",
       " 'cuirass',\n",
       " 'dam',\n",
       " 'desk',\n",
       " 'desktop_computer',\n",
       " 'dining_table',\n",
       " 'dishwasher',\n",
       " 'dock',\n",
       " 'drake',\n",
       " 'drumstick',\n",
       " 'dumbbell',\n",
       " 'echidna',\n",
       " 'eel',\n",
       " 'electric_fan',\n",
       " 'file',\n",
       " 'folding_chair',\n",
       " 'four-poster',\n",
       " 'frilled_lizard',\n",
       " 'gar',\n",
       " 'go-kart',\n",
       " 'golfcart',\n",
       " 'grand_piano',\n",
       " 'great_grey_owl',\n",
       " 'great_white_shark',\n",
       " 'green_lizard',\n",
       " 'greenhouse',\n",
       " 'grey_whale',\n",
       " 'grocery_store',\n",
       " 'guillotine',\n",
       " 'hair_slide',\n",
       " 'hair_spray',\n",
       " 'hammerhead',\n",
       " 'hamper',\n",
       " 'hand_blower',\n",
       " 'handkerchief',\n",
       " 'harvester',\n",
       " 'hay',\n",
       " 'hippopotamus',\n",
       " 'home_theater',\n",
       " 'horse_cart',\n",
       " 'hotdog',\n",
       " 'house_finch',\n",
       " 'hummingbird',\n",
       " 'hyena',\n",
       " 'iPod',\n",
       " 'ibex',\n",
       " 'indri',\n",
       " 'jean',\n",
       " 'jeep',\n",
       " 'jersey',\n",
       " 'joystick',\n",
       " 'junco',\n",
       " 'killer_whale',\n",
       " 'kimono',\n",
       " 'king_penguin',\n",
       " 'knee_pad',\n",
       " 'laptop',\n",
       " 'lawn_mower',\n",
       " 'lesser_panda',\n",
       " 'lifeboat',\n",
       " 'lighter',\n",
       " 'limousine',\n",
       " 'lion',\n",
       " 'loupe',\n",
       " 'lumbermill',\n",
       " 'mailbox',\n",
       " 'maillot',\n",
       " 'maraca',\n",
       " 'mashed_potato',\n",
       " 'maze',\n",
       " 'medicine_chest',\n",
       " 'microwave',\n",
       " 'minivan',\n",
       " 'mitten',\n",
       " 'monitor',\n",
       " 'mountain_tent',\n",
       " 'mouse',\n",
       " 'mousetrap',\n",
       " 'mud_turtle',\n",
       " 'mushroom',\n",
       " 'necklace',\n",
       " 'nipple',\n",
       " 'notebook',\n",
       " 'orange',\n",
       " 'orangutan',\n",
       " 'oxcart',\n",
       " 'oxygen_mask',\n",
       " 'paddle',\n",
       " 'paddlewheel',\n",
       " 'padlock',\n",
       " 'paintbrush',\n",
       " 'pajama',\n",
       " 'palace',\n",
       " 'panpipe',\n",
       " 'parachute',\n",
       " 'parallel_bars',\n",
       " 'park_bench',\n",
       " 'partridge',\n",
       " 'passenger_car',\n",
       " 'patio',\n",
       " 'peacock',\n",
       " 'pelican',\n",
       " 'pizza',\n",
       " 'plastic_bag',\n",
       " 'platypus',\n",
       " 'plow',\n",
       " 'plunger',\n",
       " 'police_van',\n",
       " 'poncho',\n",
       " 'pool_table',\n",
       " 'pop_bottle',\n",
       " 'porcupine',\n",
       " 'pot',\n",
       " 'power_drill',\n",
       " 'prairie_chicken',\n",
       " 'prayer_rug',\n",
       " 'pretzel',\n",
       " 'projectile',\n",
       " 'promontory',\n",
       " 'punching_bag',\n",
       " 'quail',\n",
       " 'radiator',\n",
       " 'rapeseed',\n",
       " 'red_fox',\n",
       " 'red_wolf',\n",
       " 'refrigerator',\n",
       " 'restaurant',\n",
       " 'rock_crab',\n",
       " 'rule',\n",
       " 'saltshaker',\n",
       " 'sandal',\n",
       " 'sarong',\n",
       " 'screen',\n",
       " 'scuba_diver',\n",
       " 'sea_cucumber',\n",
       " 'sea_urchin',\n",
       " 'siamang',\n",
       " 'ski_mask',\n",
       " 'skunk',\n",
       " 'sleeping_bag',\n",
       " 'slug',\n",
       " 'snow_leopard',\n",
       " 'snowmobile',\n",
       " 'soap_dispenser',\n",
       " 'sock',\n",
       " 'solar_dish',\n",
       " 'space_shuttle',\n",
       " 'spindle',\n",
       " 'sports_car',\n",
       " 'spotlight',\n",
       " 'spotted_salamander',\n",
       " 'squirrel_monkey',\n",
       " 'steam_locomotive',\n",
       " 'stingray',\n",
       " 'stinkhorn',\n",
       " 'stove',\n",
       " 'streetcar',\n",
       " 'studio_couch',\n",
       " 'sulphur_butterfly',\n",
       " 'sundial',\n",
       " 'sweatshirt',\n",
       " 'swimming_trunks',\n",
       " 'switch',\n",
       " 'tabby',\n",
       " 'table_lamp',\n",
       " 'tailed_frog',\n",
       " 'tarantula',\n",
       " 'theater_curtain',\n",
       " 'three-toed_sloth',\n",
       " 'tick',\n",
       " 'tiger',\n",
       " 'tiger_cat',\n",
       " 'timber_wolf',\n",
       " 'titi',\n",
       " 'toaster',\n",
       " 'toilet_tissue',\n",
       " 'torch',\n",
       " 'toucan',\n",
       " 'tow_truck',\n",
       " 'traffic_light',\n",
       " 'tray',\n",
       " 'tree_frog',\n",
       " 'trench_coat',\n",
       " 'tripod',\n",
       " 'turnstile',\n",
       " 'vacuum',\n",
       " 'valley',\n",
       " 'viaduct',\n",
       " 'volcano',\n",
       " 'waffle_iron',\n",
       " 'water_bottle',\n",
       " 'web_site',\n",
       " 'whiptail',\n",
       " 'wild_boar',\n",
       " 'window_shade',\n",
       " 'wing',\n",
       " 'wok',\n",
       " 'wolf_spider',\n",
       " 'wool',\n",
       " 'wreck',\n",
       " 'zebra'}"
      ]
     },
     "execution_count": 777,
     "metadata": {},
     "output_type": "execute_result"
    }
   ],
   "source": [
    "#checking for the values of the anti_intersection of each pair of anti_intersections\n",
    "nondog3 = antintersect3 ^ antintersect1\n",
    "nondog3"
   ]
  },
  {
   "cell_type": "code",
   "execution_count": 778,
   "metadata": {},
   "outputs": [
    {
     "name": "stdout",
     "output_type": "stream",
     "text": [
      "{'street_sign', 'damselfly', 'Loafer', 'shoji', 'pole', 'mink', 'robin', 'entertainment_center', 'bustard', 'shower_cap', 'microphone', \"jack-o'-lantern\", 'suit', 'English_foxhound', 'scorpion', 'gorilla', 'walking_stick', 'fur_coat', 'spatula', 'moped', 'window_screen', 'leaf_beetle', 'television', 'assault_rifle', 'school_bus', 'ashcan', 'cloak', 'bald_eagle', 'bucket', 'otterhound', 'ocarina', 'Indian_elephant', 'lacewing', 'purse', 'military_uniform', 'geyser', 'affenpinscher', 'screw', 'washer', 'rifle', 'shield', 'dough', 'ping-pong_ball', 'fiddler_crab', 'remote_control', 'wooden_spoon', 'balloon', 'coil', 'earthstar', 'jellyfish', 'dugong', 'carousel', 'grille', 'gas_pump', 'bookshop', 'lampshade', 'printer', 'sunglass', 'lorikeet', 'tusker', 'upright', 'syringe', 'starfish', 'trombone', 'harp', 'radio_telescope', 'ostrich', 'gibbon', 'quill', 'hatchet', 'piggy_bank', 'macaque', 'warthog', 'cheeseburger', 'pedestal', 'sombrero', 'pitcher', 'Sealyham_terrier', 'rhinoceros_beetle', 'crossword_puzzle', 'alp', 'wallet', 'hammer', 'African_crocodile', 'hand-held_computer', 'teapot', 'coho', 'car_mirror', 'Irish_wolfhound', 'umbrella', 'menu', 'racket', 'leopard', 'pickup', 'candle', 'oscilloscope', 'cab', 'long-horned_beetle', 'tiger_shark', 'sulphur-crested_cockatoo', 'espresso', 'pier', 'acorn_squash', 'flamingo', 'stone_wall', 'bathing_cap', 'can_opener', 'crash_helmet', 'jaguar', 'goldfish', 'guenon', 'wig', 'gondola', 'sorrel', 'hermit_crab', 'Windsor_tie', 'shovel', 'motor_scooter', 'neck_brace', 'fire_engine', 'revolver', 'Persian_cat', 'bagel', 'tricycle', 'picket_fence', 'clog', 'bee_eater', 'loggerhead', 'pencil_box', 'lynx', 'Kerry_blue_terrier', 'leafhopper', 'mask', 'common_newt', 'mosquito_net', 'mortarboard', 'leatherback_turtle', 'dogsled', 'mongoose'}\n"
     ]
    }
   ],
   "source": [
    "##checking for the values of the intersection of the non_dog breeds to see if they are really non_dog breeds\n",
    "m = set.intersection(nondog1,nondog2)\n",
    "print(m)"
   ]
  },
  {
   "cell_type": "code",
   "execution_count": 779,
   "metadata": {},
   "outputs": [
    {
     "name": "stdout",
     "output_type": "stream",
     "text": [
      "{'loupe', 'crane', 'lifeboat', 'monitor', 'quail', 'sweatshirt', 'palace', 'limousine', 'cheetah', 'Egyptian_cat', 'hamper', 'chain_mail', 'sleeping_bag', 'tree_frog', 'sarong', 'panpipe', 'stingray', 'horse_cart', 'jean', 'promontory', 'dam', 'apron', 'barbershop', 'padlock', 'confectionery', 'hippopotamus', 'clumber', 'knee_pad', 'folding_chair', 'convertible', 'drake', 'indri', 'common_iguana', 'solar_dish', 'hair_slide', 'axolotl', 'trench_coat', 'cuirass', 'breakwater', 'bookcase', 'dumbbell', 'volcano', 'torch', 'house_finch', 'sulphur_butterfly', 'punching_bag', 'table_lamp', 'toucan', 'Gila_monster', 'computer_keyboard', 'harvester', 'great_white_shark', 'grey_whale', 'hair_spray', 'tow_truck', 'box_turtle', 'cockroach', 'African_grey', 'Scottish_deerhound', 'desktop_computer', 'wild_boar', 'iPod', 'three-toed_sloth', 'plow', 'spotted_salamander', 'ski_mask', 'bubble', 'pot', 'armadillo', 'desk', 'waffle_iron', 'tray', 'lighter', 'zebra', 'crutch', 'cradle', 'pelican', 'maze', 'tiger', 'police_van', 'hand_blower', 'restaurant', 'book_jacket', 'junco', 'medicine_chest', 'rapeseed', 'ibex', 'turnstile', 'Irish_water_spaniel', 'radiator', 'sundial', 'bonnet', 'vacuum', 'park_bench', 'accordion', 'lesser_panda', 'spotlight', 'lion', 'refrigerator', 'Gordon_setter', 'bobsled', 'pool_table', 'academic_gown', 'banana', 'dock', 'cardigan', 'sock', 'crib', 'chain_saw', 'American_alligator', 'barbell', 'barrow', 'jersey', 'breastplate', 'sports_car', 'toaster', 'cannon', 'black_widow', 'barrel', 'streetcar', 'tarantula', 'crate', 'projectile', 'cornet', 'king_penguin', 'corn', 'electric_fan', 'red_fox', 'coral_fungus', 'rule', 'barracouta', 'necklace', 'wool', 'mousetrap', 'microwave', 'cock', 'banded_gecko', 'siamang', 'toilet_tissue', 'conch', 'mashed_potato', 'oxygen_mask', 'sandal', 'spindle', 'agama', 'saltshaker', 'European_gallinule', 'traffic_light'}\n"
     ]
    }
   ],
   "source": [
    "##checking for the values of the intersection of the non_dog breeds to see if they are really non_dog breeds\n",
    "n = set.intersection(nondog2,nondog3)\n",
    "print(n)"
   ]
  },
  {
   "cell_type": "code",
   "execution_count": 780,
   "metadata": {},
   "outputs": [
    {
     "name": "stdout",
     "output_type": "stream",
     "text": [
      "{'screen', 'studio_couch', 'whiptail', 'valley', 'squirrel_monkey', 'water_bottle', 'chickadee', 'chest', 'titi', 'pretzel', 'stinkhorn', 'prairie_chicken', 'paddle', 'tick', 'binoculars', 'green_lizard', 'hotdog', 'African_chameleon', 'wreck', 'dining_table', 'home_theater', 'crayfish', 'web_site', 'bakery', 'gar', 'scuba_diver', 'French_horn', 'wok', 'great_grey_owl', 'Bedlington_terrier', 'orange', 'maillot', 'plunger', 'theater_curtain', 'guillotine', 'joystick', 'slug', 'viaduct', 'pizza', 'binder', 'balance_beam', 'partridge', 'brass', 'drumstick', 'rock_crab', 'Madagascar_cat', 'car_wheel', 'buckeye', 'golfcart', 'frilled_lizard', 'oxcart', 'patio', 'power_drill', 'bolete', 'killer_whale', 'barber_chair', 'bulletproof_vest', 'echidna', 'porcupine', 'hay', 'ballplayer', 'tiger_cat', 'skunk', 'broccoli', 'abaya', 'paddlewheel', 'timber_wolf', 'passenger_car', 'cowboy_hat', 'chime', 'Band_Aid', 'china_cabinet', 'window_shade', 'soap_dispenser', 'comic_book', 'four-poster', 'wing', 'coffee_mug', 'birdhouse', 'bullfrog', 'mouse', 'red_wolf', 'laptop', 'plastic_bag', 'mud_turtle', 'African_hunting_dog', 'lawn_mower', 'French_loaf', 'beacon', 'coyote', 'bearskin', 'coffeepot', 'bell_cote', 'parachute', 'sea_urchin', 'tabby', 'mailbox', 'orangutan', 'eel', 'switch', 'jeep', 'swimming_trunks', 'grand_piano', 'Bouvier_des_Flandres', 'cash_machine', 'basketball', 'nipple', 'file', 'snow_leopard', 'stove', 'consomme', 'wolf_spider', 'black_swan', 'steam_locomotive', 'tripod', 'paintbrush', 'mushroom', 'poncho', 'kimono', 'parallel_bars', 'hummingbird', 'dishwasher', 'prayer_rug', 'hammerhead', 'croquet_ball', 'hyena', 'pajama', 'European_fire_salamander', 'maraca', 'go-kart', 'platypus', 'acorn', 'handkerchief', 'greenhouse', 'pop_bottle', 'notebook', 'bassinet', 'snowmobile', 'space_shuttle', 'grocery_store', 'sea_cucumber', 'bighorn', 'Scotch_terrier', 'cardoon', 'peacock', 'lumbermill', 'minivan', 'mitten', 'mountain_tent', 'tailed_frog', 'chain'}\n"
     ]
    }
   ],
   "source": [
    "##checking for the values of the intersection of the non_dog breeds to see if they are really non_dog breeds\n",
    "t = set.intersection(nondog3,nondog1)\n",
    "print(t)"
   ]
  },
  {
   "cell_type": "code",
   "execution_count": 781,
   "metadata": {},
   "outputs": [
    {
     "data": {
      "text/plain": [
       "438"
      ]
     },
     "execution_count": 781,
     "metadata": {},
     "output_type": "execute_result"
    }
   ],
   "source": [
    "#summing up the number of non_dog breeds\n",
    "numberofanti_dogbreednames = len(m) + len(n) + len(t)\n",
    "numberofanti_dogbreednames"
   ]
  },
  {
   "cell_type": "code",
   "execution_count": 782,
   "metadata": {},
   "outputs": [
    {
     "name": "stdout",
     "output_type": "stream",
     "text": [
      "[ True False]\n"
     ]
    }
   ],
   "source": [
    "#checking for unique values of first dog prediction\n",
    "print(image_pred.p1_dog.unique())"
   ]
  },
  {
   "cell_type": "code",
   "execution_count": 783,
   "metadata": {},
   "outputs": [
    {
     "name": "stdout",
     "output_type": "stream",
     "text": [
      "[ True False]\n"
     ]
    }
   ],
   "source": [
    "#checking for unique values of second dog prediction\n",
    "print(image_pred.p2_dog.unique())"
   ]
  },
  {
   "cell_type": "code",
   "execution_count": 784,
   "metadata": {},
   "outputs": [
    {
     "name": "stdout",
     "output_type": "stream",
     "text": [
      "[ True False]\n"
     ]
    }
   ],
   "source": [
    "#checking for unique values of third dog prediction\n",
    "print(image_pred.p3_dog.unique())"
   ]
  },
  {
   "cell_type": "code",
   "execution_count": 785,
   "metadata": {},
   "outputs": [
    {
     "name": "stdout",
     "output_type": "stream",
     "text": [
      "<class 'pandas.core.frame.DataFrame'>\n",
      "RangeIndex: 2075 entries, 0 to 2074\n",
      "Data columns (total 12 columns):\n",
      "tweet_id    2075 non-null int64\n",
      "jpg_url     2075 non-null object\n",
      "img_num     2075 non-null int64\n",
      "p1          2075 non-null object\n",
      "p1_conf     2075 non-null float64\n",
      "p1_dog      2075 non-null bool\n",
      "p2          2075 non-null object\n",
      "p2_conf     2075 non-null float64\n",
      "p2_dog      2075 non-null bool\n",
      "p3          2075 non-null object\n",
      "p3_conf     2075 non-null float64\n",
      "p3_dog      2075 non-null bool\n",
      "dtypes: bool(3), float64(3), int64(2), object(4)\n",
      "memory usage: 152.1+ KB\n"
     ]
    }
   ],
   "source": [
    "#checking for information about the dataset\n",
    "image_pred.info()"
   ]
  },
  {
   "cell_type": "code",
   "execution_count": 786,
   "metadata": {},
   "outputs": [
    {
     "data": {
      "text/plain": [
       "(2075, 12)"
      ]
     },
     "execution_count": 786,
     "metadata": {},
     "output_type": "execute_result"
    }
   ],
   "source": [
    "#dimension of dataset\n",
    "image_pred.shape"
   ]
  },
  {
   "cell_type": "code",
   "execution_count": 787,
   "metadata": {},
   "outputs": [
    {
     "data": {
      "text/plain": [
       "tweet_id    0\n",
       "jpg_url     0\n",
       "img_num     0\n",
       "p1          0\n",
       "p1_conf     0\n",
       "p1_dog      0\n",
       "p2          0\n",
       "p2_conf     0\n",
       "p2_dog      0\n",
       "p3          0\n",
       "p3_conf     0\n",
       "p3_dog      0\n",
       "dtype: int64"
      ]
     },
     "execution_count": 787,
     "metadata": {},
     "output_type": "execute_result"
    }
   ],
   "source": [
    "#sum of missing values of each column in the dataset\n",
    "image_pred.isnull().sum()"
   ]
  },
  {
   "cell_type": "code",
   "execution_count": 788,
   "metadata": {},
   "outputs": [],
   "source": [
    "#defining a function for the summary statistics of a dataframe\n",
    "def summarystats(dataframe):\n",
    "    print(dataframe.describe())"
   ]
  },
  {
   "cell_type": "code",
   "execution_count": 789,
   "metadata": {},
   "outputs": [
    {
     "name": "stdout",
     "output_type": "stream",
     "text": [
      "           tweet_id      img_num      p1_conf       p2_conf       p3_conf\n",
      "count  2.075000e+03  2075.000000  2075.000000  2.075000e+03  2.075000e+03\n",
      "mean   7.384514e+17     1.203855     0.594548  1.345886e-01  6.032417e-02\n",
      "std    6.785203e+16     0.561875     0.271174  1.006657e-01  5.090593e-02\n",
      "min    6.660209e+17     1.000000     0.044333  1.011300e-08  1.740170e-10\n",
      "25%    6.764835e+17     1.000000     0.364412  5.388625e-02  1.622240e-02\n",
      "50%    7.119988e+17     1.000000     0.588230  1.181810e-01  4.944380e-02\n",
      "75%    7.932034e+17     1.000000     0.843855  1.955655e-01  9.180755e-02\n",
      "max    8.924206e+17     4.000000     1.000000  4.880140e-01  2.734190e-01\n"
     ]
    }
   ],
   "source": [
    "#summary statistics\n",
    "summarystats(image_pred)"
   ]
  },
  {
   "cell_type": "code",
   "execution_count": 790,
   "metadata": {},
   "outputs": [
    {
     "data": {
      "text/plain": [
       "0"
      ]
     },
     "execution_count": 790,
     "metadata": {},
     "output_type": "execute_result"
    }
   ],
   "source": [
    "#duplicate rows\n",
    "sum(image_pred.duplicated())"
   ]
  },
  {
   "cell_type": "code",
   "execution_count": 791,
   "metadata": {},
   "outputs": [
    {
     "data": {
      "text/html": [
       "<div>\n",
       "<style scoped>\n",
       "    .dataframe tbody tr th:only-of-type {\n",
       "        vertical-align: middle;\n",
       "    }\n",
       "\n",
       "    .dataframe tbody tr th {\n",
       "        vertical-align: top;\n",
       "    }\n",
       "\n",
       "    .dataframe thead th {\n",
       "        text-align: right;\n",
       "    }\n",
       "</style>\n",
       "<table border=\"1\" class=\"dataframe\">\n",
       "  <thead>\n",
       "    <tr style=\"text-align: right;\">\n",
       "      <th></th>\n",
       "      <th>tweet_id</th>\n",
       "      <th>in_reply_to_status_id</th>\n",
       "      <th>in_reply_to_user_id</th>\n",
       "      <th>timestamp</th>\n",
       "      <th>source</th>\n",
       "      <th>text</th>\n",
       "      <th>retweeted_status_id</th>\n",
       "      <th>retweeted_status_user_id</th>\n",
       "      <th>retweeted_status_timestamp</th>\n",
       "      <th>expanded_urls</th>\n",
       "      <th>rating_numerator</th>\n",
       "      <th>rating_denominator</th>\n",
       "      <th>name</th>\n",
       "      <th>doggo</th>\n",
       "      <th>floofer</th>\n",
       "      <th>pupper</th>\n",
       "      <th>puppo</th>\n",
       "    </tr>\n",
       "  </thead>\n",
       "  <tbody>\n",
       "    <tr>\n",
       "      <td>0</td>\n",
       "      <td>892420643555336193</td>\n",
       "      <td>NaN</td>\n",
       "      <td>NaN</td>\n",
       "      <td>2017-08-01 16:23:56 +0000</td>\n",
       "      <td>&lt;a href=\"http://twitter.com/download/iphone\" r...</td>\n",
       "      <td>This is Phineas. He's a mystical boy. Only eve...</td>\n",
       "      <td>NaN</td>\n",
       "      <td>NaN</td>\n",
       "      <td>NaN</td>\n",
       "      <td>https://twitter.com/dog_rates/status/892420643...</td>\n",
       "      <td>13</td>\n",
       "      <td>10</td>\n",
       "      <td>Phineas</td>\n",
       "      <td>None</td>\n",
       "      <td>None</td>\n",
       "      <td>None</td>\n",
       "      <td>None</td>\n",
       "    </tr>\n",
       "    <tr>\n",
       "      <td>1</td>\n",
       "      <td>892177421306343426</td>\n",
       "      <td>NaN</td>\n",
       "      <td>NaN</td>\n",
       "      <td>2017-08-01 00:17:27 +0000</td>\n",
       "      <td>&lt;a href=\"http://twitter.com/download/iphone\" r...</td>\n",
       "      <td>This is Tilly. She's just checking pup on you....</td>\n",
       "      <td>NaN</td>\n",
       "      <td>NaN</td>\n",
       "      <td>NaN</td>\n",
       "      <td>https://twitter.com/dog_rates/status/892177421...</td>\n",
       "      <td>13</td>\n",
       "      <td>10</td>\n",
       "      <td>Tilly</td>\n",
       "      <td>None</td>\n",
       "      <td>None</td>\n",
       "      <td>None</td>\n",
       "      <td>None</td>\n",
       "    </tr>\n",
       "  </tbody>\n",
       "</table>\n",
       "</div>"
      ],
      "text/plain": [
       "             tweet_id  in_reply_to_status_id  in_reply_to_user_id  \\\n",
       "0  892420643555336193                    NaN                  NaN   \n",
       "1  892177421306343426                    NaN                  NaN   \n",
       "\n",
       "                   timestamp  \\\n",
       "0  2017-08-01 16:23:56 +0000   \n",
       "1  2017-08-01 00:17:27 +0000   \n",
       "\n",
       "                                              source  \\\n",
       "0  <a href=\"http://twitter.com/download/iphone\" r...   \n",
       "1  <a href=\"http://twitter.com/download/iphone\" r...   \n",
       "\n",
       "                                                text  retweeted_status_id  \\\n",
       "0  This is Phineas. He's a mystical boy. Only eve...                  NaN   \n",
       "1  This is Tilly. She's just checking pup on you....                  NaN   \n",
       "\n",
       "   retweeted_status_user_id retweeted_status_timestamp  \\\n",
       "0                       NaN                        NaN   \n",
       "1                       NaN                        NaN   \n",
       "\n",
       "                                       expanded_urls  rating_numerator  \\\n",
       "0  https://twitter.com/dog_rates/status/892420643...                13   \n",
       "1  https://twitter.com/dog_rates/status/892177421...                13   \n",
       "\n",
       "   rating_denominator     name doggo floofer pupper puppo  \n",
       "0                  10  Phineas  None    None   None  None  \n",
       "1                  10    Tilly  None    None   None  None  "
      ]
     },
     "execution_count": 791,
     "metadata": {},
     "output_type": "execute_result"
    }
   ],
   "source": [
    "#first two rows of the df_1 dataframe\n",
    "df_1.head(2)"
   ]
  },
  {
   "cell_type": "code",
   "execution_count": 792,
   "metadata": {},
   "outputs": [
    {
     "data": {
      "text/html": [
       "<div>\n",
       "<style scoped>\n",
       "    .dataframe tbody tr th:only-of-type {\n",
       "        vertical-align: middle;\n",
       "    }\n",
       "\n",
       "    .dataframe tbody tr th {\n",
       "        vertical-align: top;\n",
       "    }\n",
       "\n",
       "    .dataframe thead th {\n",
       "        text-align: right;\n",
       "    }\n",
       "</style>\n",
       "<table border=\"1\" class=\"dataframe\">\n",
       "  <thead>\n",
       "    <tr style=\"text-align: right;\">\n",
       "      <th></th>\n",
       "      <th>tweet_id</th>\n",
       "      <th>in_reply_to_status_id</th>\n",
       "      <th>in_reply_to_user_id</th>\n",
       "      <th>timestamp</th>\n",
       "      <th>source</th>\n",
       "      <th>text</th>\n",
       "      <th>retweeted_status_id</th>\n",
       "      <th>retweeted_status_user_id</th>\n",
       "      <th>retweeted_status_timestamp</th>\n",
       "      <th>expanded_urls</th>\n",
       "      <th>rating_numerator</th>\n",
       "      <th>rating_denominator</th>\n",
       "      <th>name</th>\n",
       "      <th>doggo</th>\n",
       "      <th>floofer</th>\n",
       "      <th>pupper</th>\n",
       "      <th>puppo</th>\n",
       "    </tr>\n",
       "  </thead>\n",
       "  <tbody>\n",
       "    <tr>\n",
       "      <td>2353</td>\n",
       "      <td>666033412701032449</td>\n",
       "      <td>NaN</td>\n",
       "      <td>NaN</td>\n",
       "      <td>2015-11-15 23:21:54 +0000</td>\n",
       "      <td>&lt;a href=\"http://twitter.com/download/iphone\" r...</td>\n",
       "      <td>Here is a very happy pup. Big fan of well-main...</td>\n",
       "      <td>NaN</td>\n",
       "      <td>NaN</td>\n",
       "      <td>NaN</td>\n",
       "      <td>https://twitter.com/dog_rates/status/666033412...</td>\n",
       "      <td>9</td>\n",
       "      <td>10</td>\n",
       "      <td>a</td>\n",
       "      <td>None</td>\n",
       "      <td>None</td>\n",
       "      <td>None</td>\n",
       "      <td>None</td>\n",
       "    </tr>\n",
       "    <tr>\n",
       "      <td>2354</td>\n",
       "      <td>666029285002620928</td>\n",
       "      <td>NaN</td>\n",
       "      <td>NaN</td>\n",
       "      <td>2015-11-15 23:05:30 +0000</td>\n",
       "      <td>&lt;a href=\"http://twitter.com/download/iphone\" r...</td>\n",
       "      <td>This is a western brown Mitsubishi terrier. Up...</td>\n",
       "      <td>NaN</td>\n",
       "      <td>NaN</td>\n",
       "      <td>NaN</td>\n",
       "      <td>https://twitter.com/dog_rates/status/666029285...</td>\n",
       "      <td>7</td>\n",
       "      <td>10</td>\n",
       "      <td>a</td>\n",
       "      <td>None</td>\n",
       "      <td>None</td>\n",
       "      <td>None</td>\n",
       "      <td>None</td>\n",
       "    </tr>\n",
       "    <tr>\n",
       "      <td>2355</td>\n",
       "      <td>666020888022790149</td>\n",
       "      <td>NaN</td>\n",
       "      <td>NaN</td>\n",
       "      <td>2015-11-15 22:32:08 +0000</td>\n",
       "      <td>&lt;a href=\"http://twitter.com/download/iphone\" r...</td>\n",
       "      <td>Here we have a Japanese Irish Setter. Lost eye...</td>\n",
       "      <td>NaN</td>\n",
       "      <td>NaN</td>\n",
       "      <td>NaN</td>\n",
       "      <td>https://twitter.com/dog_rates/status/666020888...</td>\n",
       "      <td>8</td>\n",
       "      <td>10</td>\n",
       "      <td>None</td>\n",
       "      <td>None</td>\n",
       "      <td>None</td>\n",
       "      <td>None</td>\n",
       "      <td>None</td>\n",
       "    </tr>\n",
       "  </tbody>\n",
       "</table>\n",
       "</div>"
      ],
      "text/plain": [
       "                tweet_id  in_reply_to_status_id  in_reply_to_user_id  \\\n",
       "2353  666033412701032449                    NaN                  NaN   \n",
       "2354  666029285002620928                    NaN                  NaN   \n",
       "2355  666020888022790149                    NaN                  NaN   \n",
       "\n",
       "                      timestamp  \\\n",
       "2353  2015-11-15 23:21:54 +0000   \n",
       "2354  2015-11-15 23:05:30 +0000   \n",
       "2355  2015-11-15 22:32:08 +0000   \n",
       "\n",
       "                                                 source  \\\n",
       "2353  <a href=\"http://twitter.com/download/iphone\" r...   \n",
       "2354  <a href=\"http://twitter.com/download/iphone\" r...   \n",
       "2355  <a href=\"http://twitter.com/download/iphone\" r...   \n",
       "\n",
       "                                                   text  retweeted_status_id  \\\n",
       "2353  Here is a very happy pup. Big fan of well-main...                  NaN   \n",
       "2354  This is a western brown Mitsubishi terrier. Up...                  NaN   \n",
       "2355  Here we have a Japanese Irish Setter. Lost eye...                  NaN   \n",
       "\n",
       "      retweeted_status_user_id retweeted_status_timestamp  \\\n",
       "2353                       NaN                        NaN   \n",
       "2354                       NaN                        NaN   \n",
       "2355                       NaN                        NaN   \n",
       "\n",
       "                                          expanded_urls  rating_numerator  \\\n",
       "2353  https://twitter.com/dog_rates/status/666033412...                 9   \n",
       "2354  https://twitter.com/dog_rates/status/666029285...                 7   \n",
       "2355  https://twitter.com/dog_rates/status/666020888...                 8   \n",
       "\n",
       "      rating_denominator  name doggo floofer pupper puppo  \n",
       "2353                  10     a  None    None   None  None  \n",
       "2354                  10     a  None    None   None  None  \n",
       "2355                  10  None  None    None   None  None  "
      ]
     },
     "execution_count": 792,
     "metadata": {},
     "output_type": "execute_result"
    }
   ],
   "source": [
    "#last three rows of the df_1 dataframe\n",
    "df_1.tail(3)"
   ]
  },
  {
   "cell_type": "code",
   "execution_count": 793,
   "metadata": {},
   "outputs": [
    {
     "data": {
      "text/plain": [
       "['tweet_id',\n",
       " 'in_reply_to_status_id',\n",
       " 'in_reply_to_user_id',\n",
       " 'timestamp',\n",
       " 'source',\n",
       " 'text',\n",
       " 'retweeted_status_id',\n",
       " 'retweeted_status_user_id',\n",
       " 'retweeted_status_timestamp',\n",
       " 'expanded_urls',\n",
       " 'rating_numerator',\n",
       " 'rating_denominator',\n",
       " 'name',\n",
       " 'doggo',\n",
       " 'floofer',\n",
       " 'pupper',\n",
       " 'puppo']"
      ]
     },
     "execution_count": 793,
     "metadata": {},
     "output_type": "execute_result"
    }
   ],
   "source": [
    "#columns in df_1\n",
    "list(df_1.columns)"
   ]
  },
  {
   "cell_type": "code",
   "execution_count": 794,
   "metadata": {},
   "outputs": [
    {
     "name": "stdout",
     "output_type": "stream",
     "text": [
      "[  13   12   14    5   17   11   10  420  666    6   15  182  960    0\n",
      "   75    7   84    9   24    8    1   27    3    4  165 1776  204   50\n",
      "   99   80   45   60   44  143  121   20   26    2  144   88]\n",
      "[ 10   0  15  70   7  11 150 170  20  50  90  80  40 130 110  16 120   2]\n",
      "['None' 'doggo']\n",
      "['None' 'floofer']\n",
      "['None' 'pupper']\n",
      "['None' 'puppo']\n",
      "None     2326\n",
      "puppo      30\n",
      "Name: puppo, dtype: int64\n",
      "None     2259\n",
      "doggo      97\n",
      "Name: doggo, dtype: int64\n",
      "None      2099\n",
      "pupper     257\n",
      "Name: pupper, dtype: int64\n",
      "None     2326\n",
      "puppo      30\n",
      "Name: puppo, dtype: int64\n",
      "None       2346\n",
      "floofer      10\n",
      "Name: floofer, dtype: int64\n"
     ]
    }
   ],
   "source": [
    "#unique values and value counts in the rating_denominator,rating_numerator,doggo,floofer,pupper and puppo columns\n",
    "print(df_1.rating_numerator.unique())\n",
    "print(df_1.rating_denominator.unique())\n",
    "print(df_1.doggo.unique())\n",
    "print(df_1.floofer.unique())\n",
    "print(df_1.pupper.unique())\n",
    "print(df_1.puppo.unique())\n",
    "print(df_1.puppo.value_counts())\n",
    "print(df_1.doggo.value_counts())\n",
    "print(df_1.pupper.value_counts())\n",
    "print(df_1.puppo.value_counts())\n",
    "print(df_1.floofer.value_counts())"
   ]
  },
  {
   "cell_type": "code",
   "execution_count": 795,
   "metadata": {},
   "outputs": [
    {
     "name": "stdout",
     "output_type": "stream",
     "text": [
      "<class 'pandas.core.frame.DataFrame'>\n",
      "RangeIndex: 2356 entries, 0 to 2355\n",
      "Data columns (total 17 columns):\n",
      "tweet_id                      2356 non-null int64\n",
      "in_reply_to_status_id         78 non-null float64\n",
      "in_reply_to_user_id           78 non-null float64\n",
      "timestamp                     2356 non-null object\n",
      "source                        2356 non-null object\n",
      "text                          2356 non-null object\n",
      "retweeted_status_id           181 non-null float64\n",
      "retweeted_status_user_id      181 non-null float64\n",
      "retweeted_status_timestamp    181 non-null object\n",
      "expanded_urls                 2297 non-null object\n",
      "rating_numerator              2356 non-null int64\n",
      "rating_denominator            2356 non-null int64\n",
      "name                          2356 non-null object\n",
      "doggo                         2356 non-null object\n",
      "floofer                       2356 non-null object\n",
      "pupper                        2356 non-null object\n",
      "puppo                         2356 non-null object\n",
      "dtypes: float64(4), int64(3), object(10)\n",
      "memory usage: 313.0+ KB\n"
     ]
    }
   ],
   "source": [
    "#df_1 dataframe information\n",
    "df_1.info()"
   ]
  },
  {
   "cell_type": "code",
   "execution_count": 796,
   "metadata": {},
   "outputs": [
    {
     "data": {
      "text/plain": [
       "(2356, 17)"
      ]
     },
     "execution_count": 796,
     "metadata": {},
     "output_type": "execute_result"
    }
   ],
   "source": [
    "#dimension of dataframe\n",
    "df_1.shape"
   ]
  },
  {
   "cell_type": "code",
   "execution_count": 797,
   "metadata": {},
   "outputs": [
    {
     "data": {
      "text/plain": [
       "tweet_id                         0\n",
       "in_reply_to_status_id         2278\n",
       "in_reply_to_user_id           2278\n",
       "timestamp                        0\n",
       "source                           0\n",
       "text                             0\n",
       "retweeted_status_id           2175\n",
       "retweeted_status_user_id      2175\n",
       "retweeted_status_timestamp    2175\n",
       "expanded_urls                   59\n",
       "rating_numerator                 0\n",
       "rating_denominator               0\n",
       "name                             0\n",
       "doggo                            0\n",
       "floofer                          0\n",
       "pupper                           0\n",
       "puppo                            0\n",
       "dtype: int64"
      ]
     },
     "execution_count": 797,
     "metadata": {},
     "output_type": "execute_result"
    }
   ],
   "source": [
    "#number of missing values\n",
    "df_1.isnull().sum()"
   ]
  },
  {
   "cell_type": "code",
   "execution_count": 798,
   "metadata": {},
   "outputs": [
    {
     "name": "stdout",
     "output_type": "stream",
     "text": [
      "           tweet_id  in_reply_to_status_id  in_reply_to_user_id  \\\n",
      "count  2.356000e+03           7.800000e+01         7.800000e+01   \n",
      "mean   7.427716e+17           7.455079e+17         2.014171e+16   \n",
      "std    6.856705e+16           7.582492e+16         1.252797e+17   \n",
      "min    6.660209e+17           6.658147e+17         1.185634e+07   \n",
      "25%    6.783989e+17           6.757419e+17         3.086374e+08   \n",
      "50%    7.196279e+17           7.038708e+17         4.196984e+09   \n",
      "75%    7.993373e+17           8.257804e+17         4.196984e+09   \n",
      "max    8.924206e+17           8.862664e+17         8.405479e+17   \n",
      "\n",
      "       retweeted_status_id  retweeted_status_user_id  rating_numerator  \\\n",
      "count         1.810000e+02              1.810000e+02       2356.000000   \n",
      "mean          7.720400e+17              1.241698e+16         13.126486   \n",
      "std           6.236928e+16              9.599254e+16         45.876648   \n",
      "min           6.661041e+17              7.832140e+05          0.000000   \n",
      "25%           7.186315e+17              4.196984e+09         10.000000   \n",
      "50%           7.804657e+17              4.196984e+09         11.000000   \n",
      "75%           8.203146e+17              4.196984e+09         12.000000   \n",
      "max           8.874740e+17              7.874618e+17       1776.000000   \n",
      "\n",
      "       rating_denominator  \n",
      "count         2356.000000  \n",
      "mean            10.455433  \n",
      "std              6.745237  \n",
      "min              0.000000  \n",
      "25%             10.000000  \n",
      "50%             10.000000  \n",
      "75%             10.000000  \n",
      "max            170.000000  \n"
     ]
    }
   ],
   "source": [
    "#summary statistics\n",
    "summarystats(df_1)"
   ]
  },
  {
   "cell_type": "code",
   "execution_count": 799,
   "metadata": {},
   "outputs": [
    {
     "data": {
      "text/plain": [
       "0"
      ]
     },
     "execution_count": 799,
     "metadata": {},
     "output_type": "execute_result"
    }
   ],
   "source": [
    "#check for duplicates\n",
    "sum(df_1.duplicated())"
   ]
  },
  {
   "cell_type": "code",
   "execution_count": 800,
   "metadata": {},
   "outputs": [
    {
     "data": {
      "text/html": [
       "<div>\n",
       "<style scoped>\n",
       "    .dataframe tbody tr th:only-of-type {\n",
       "        vertical-align: middle;\n",
       "    }\n",
       "\n",
       "    .dataframe tbody tr th {\n",
       "        vertical-align: top;\n",
       "    }\n",
       "\n",
       "    .dataframe thead th {\n",
       "        text-align: right;\n",
       "    }\n",
       "</style>\n",
       "<table border=\"1\" class=\"dataframe\">\n",
       "  <thead>\n",
       "    <tr style=\"text-align: right;\">\n",
       "      <th></th>\n",
       "      <th>tweet_id</th>\n",
       "      <th>likes</th>\n",
       "      <th>retweets</th>\n",
       "    </tr>\n",
       "  </thead>\n",
       "  <tbody>\n",
       "    <tr>\n",
       "      <td>0</td>\n",
       "      <td>892420643555336193</td>\n",
       "      <td>39467</td>\n",
       "      <td>8853</td>\n",
       "    </tr>\n",
       "    <tr>\n",
       "      <td>1</td>\n",
       "      <td>892177421306343426</td>\n",
       "      <td>33819</td>\n",
       "      <td>6514</td>\n",
       "    </tr>\n",
       "    <tr>\n",
       "      <td>2</td>\n",
       "      <td>891815181378084864</td>\n",
       "      <td>25461</td>\n",
       "      <td>4328</td>\n",
       "    </tr>\n",
       "    <tr>\n",
       "      <td>3</td>\n",
       "      <td>891689557279858688</td>\n",
       "      <td>42908</td>\n",
       "      <td>8964</td>\n",
       "    </tr>\n",
       "    <tr>\n",
       "      <td>4</td>\n",
       "      <td>891327558926688256</td>\n",
       "      <td>41048</td>\n",
       "      <td>9774</td>\n",
       "    </tr>\n",
       "  </tbody>\n",
       "</table>\n",
       "</div>"
      ],
      "text/plain": [
       "             tweet_id  likes  retweets\n",
       "0  892420643555336193  39467      8853\n",
       "1  892177421306343426  33819      6514\n",
       "2  891815181378084864  25461      4328\n",
       "3  891689557279858688  42908      8964\n",
       "4  891327558926688256  41048      9774"
      ]
     },
     "execution_count": 800,
     "metadata": {},
     "output_type": "execute_result"
    }
   ],
   "source": [
    "#first three rows of the new dataframe\n",
    "new_df.head()"
   ]
  },
  {
   "cell_type": "code",
   "execution_count": 801,
   "metadata": {},
   "outputs": [
    {
     "data": {
      "text/plain": [
       "['tweet_id', 'likes', 'retweets']"
      ]
     },
     "execution_count": 801,
     "metadata": {},
     "output_type": "execute_result"
    }
   ],
   "source": [
    "#columns of new dataframe\n",
    "list(new_df.columns)"
   ]
  },
  {
   "cell_type": "code",
   "execution_count": 802,
   "metadata": {},
   "outputs": [
    {
     "data": {
      "text/plain": [
       "(2354, 3)"
      ]
     },
     "execution_count": 802,
     "metadata": {},
     "output_type": "execute_result"
    }
   ],
   "source": [
    "#dimension of dataframe\n",
    "new_df.shape"
   ]
  },
  {
   "cell_type": "code",
   "execution_count": 803,
   "metadata": {},
   "outputs": [
    {
     "name": "stdout",
     "output_type": "stream",
     "text": [
      "<class 'pandas.core.frame.DataFrame'>\n",
      "RangeIndex: 2354 entries, 0 to 2353\n",
      "Data columns (total 3 columns):\n",
      "tweet_id    2354 non-null int64\n",
      "likes       2354 non-null int64\n",
      "retweets    2354 non-null int64\n",
      "dtypes: int64(3)\n",
      "memory usage: 55.3 KB\n"
     ]
    }
   ],
   "source": [
    "#new_df information\n",
    "new_df.info()"
   ]
  },
  {
   "cell_type": "code",
   "execution_count": 804,
   "metadata": {},
   "outputs": [
    {
     "name": "stdout",
     "output_type": "stream",
     "text": [
      "           tweet_id          likes      retweets\n",
      "count  2.354000e+03    2354.000000   2354.000000\n",
      "mean   7.426978e+17    8080.968564   3164.797366\n",
      "std    6.852812e+16   11814.771334   5284.770364\n",
      "min    6.660209e+17       0.000000      0.000000\n",
      "25%    6.783975e+17    1415.000000    624.500000\n",
      "50%    7.194596e+17    3603.500000   1473.500000\n",
      "75%    7.993058e+17   10122.250000   3652.000000\n",
      "max    8.924206e+17  132810.000000  79515.000000\n"
     ]
    }
   ],
   "source": [
    "#summary statistics\n",
    "summarystats(new_df)"
   ]
  },
  {
   "cell_type": "code",
   "execution_count": 805,
   "metadata": {},
   "outputs": [
    {
     "data": {
      "text/plain": [
       "179"
      ]
     },
     "execution_count": 805,
     "metadata": {},
     "output_type": "execute_result"
    }
   ],
   "source": [
    "#checking the number of rows like 0 likes\n",
    "len(new_df[new_df.likes == 0])"
   ]
  },
  {
   "cell_type": "code",
   "execution_count": 806,
   "metadata": {},
   "outputs": [
    {
     "data": {
      "text/html": [
       "<div>\n",
       "<style scoped>\n",
       "    .dataframe tbody tr th:only-of-type {\n",
       "        vertical-align: middle;\n",
       "    }\n",
       "\n",
       "    .dataframe tbody tr th {\n",
       "        vertical-align: top;\n",
       "    }\n",
       "\n",
       "    .dataframe thead th {\n",
       "        text-align: right;\n",
       "    }\n",
       "</style>\n",
       "<table border=\"1\" class=\"dataframe\">\n",
       "  <thead>\n",
       "    <tr style=\"text-align: right;\">\n",
       "      <th></th>\n",
       "      <th>tweet_id</th>\n",
       "      <th>likes</th>\n",
       "      <th>retweets</th>\n",
       "    </tr>\n",
       "  </thead>\n",
       "  <tbody>\n",
       "    <tr>\n",
       "      <td>290</td>\n",
       "      <td>838085839343206401</td>\n",
       "      <td>150</td>\n",
       "      <td>0</td>\n",
       "    </tr>\n",
       "  </tbody>\n",
       "</table>\n",
       "</div>"
      ],
      "text/plain": [
       "               tweet_id  likes  retweets\n",
       "290  838085839343206401    150         0"
      ]
     },
     "execution_count": 806,
     "metadata": {},
     "output_type": "execute_result"
    }
   ],
   "source": [
    "#check the rows with 0 retweets\n",
    "new_df[new_df.retweets == 0]"
   ]
  },
  {
   "cell_type": "code",
   "execution_count": 807,
   "metadata": {},
   "outputs": [
    {
     "data": {
      "text/plain": [
       "tweet_id    0\n",
       "likes       0\n",
       "retweets    0\n",
       "dtype: int64"
      ]
     },
     "execution_count": 807,
     "metadata": {},
     "output_type": "execute_result"
    }
   ],
   "source": [
    "#checking for missing values\n",
    "new_df.isnull().sum()"
   ]
  },
  {
   "cell_type": "code",
   "execution_count": 808,
   "metadata": {},
   "outputs": [
    {
     "data": {
      "text/plain": [
       "0"
      ]
     },
     "execution_count": 808,
     "metadata": {},
     "output_type": "execute_result"
    }
   ],
   "source": [
    "#Checking for duplicates\n",
    "sum(new_df.duplicated())"
   ]
  },
  {
   "cell_type": "markdown",
   "metadata": {},
   "source": [
    "### Quality issues\n",
    "1. p1,p1_conf,p1_dog,p2,p2_conf,p2_dog,p3,p3_conf,p3_dog in image_pred are not descriptive column names\n",
    "\n",
    "2. The rating denominator has some values that are not multiples of 10\n",
    "\n",
    "3. We have 179 rows with 0 likes and well-to-do number of retweets in new_df\n",
    "\n",
    "4. We have 1 row with 150 likes and 0 number of retweets in new_df\n",
    "\n",
    "5. df_1 has retweet columns with non-null values\n",
    "\n",
    "6. We have unequal row count in df_1 and new_df\n",
    "\n",
    "7. The predicted dog breed columns contain non-dog breed names of about 438 e.g screen\n",
    "\n",
    "8. The None values of the doggo,floofer,pupper,puppo columns is not a defined value so it would have been better as empty string\n",
    "\n",
    "# =====> We have alot of irrelevant columns in df_1 and image_pred"
   ]
  },
  {
   "cell_type": "markdown",
   "metadata": {
    "extensions": {
     "jupyter_dashboards": {
      "version": 1,
      "views": {
       "grid_default": {
        "col": 0,
        "height": 7,
        "hidden": false,
        "row": 40,
        "width": 12
       },
       "report_default": {
        "hidden": false
       }
      }
     }
    }
   },
   "source": [
    "### Tidiness issues\n",
    "1. The doggo,floofer,pupper,puppo columns are supposed to be row values of a single column(dog_stage) in image_pred\n",
    "\n",
    "2. The dog_stage column values should have a single value in its cells but since some tweed ids contain multiple dog_stages this makes our data untidy"
   ]
  },
  {
   "cell_type": "markdown",
   "metadata": {
    "extensions": {
     "jupyter_dashboards": {
      "version": 1,
      "views": {
       "grid_default": {
        "col": 4,
        "height": 4,
        "hidden": false,
        "row": 32,
        "width": 4
       },
       "report_default": {
        "hidden": false
       }
      }
     }
    }
   },
   "source": [
    "## Cleaning Data\n"
   ]
  },
  {
   "cell_type": "code",
   "execution_count": 809,
   "metadata": {},
   "outputs": [],
   "source": [
    "# Make copies of original pieces of data\n",
    "image_pred_copy = image_pred.copy()\n",
    "df_1_copy = df_1.copy()\n",
    "new_df_copy = new_df.copy()"
   ]
  },
  {
   "cell_type": "markdown",
   "metadata": {},
   "source": [
    "### Issue #1:"
   ]
  },
  {
   "cell_type": "markdown",
   "metadata": {
    "collapsed": true,
    "extensions": {
     "jupyter_dashboards": {
      "version": 1,
      "views": {
       "grid_default": {
        "hidden": true
       },
       "report_default": {
        "hidden": true
       }
      }
     }
    }
   },
   "source": [
    "#### Define :  p1,p1_conf,p1_dog,p2,p2_conf,p2_dog,p3,p3_conf,p3_dog in image_pred are not descriptive column names"
   ]
  },
  {
   "cell_type": "markdown",
   "metadata": {},
   "source": [
    "#### Code"
   ]
  },
  {
   "cell_type": "code",
   "execution_count": 810,
   "metadata": {},
   "outputs": [],
   "source": [
    "#renaming columns\n",
    "image_pred_clean_1 = image_pred_copy.rename(columns={'p1':'#1_prediction','p2':'#2_prediction','p3':'#3_prediction',\n",
    "                                                        'p1_conf':'#1_prediction_confidence','p2_conf':'#2_prediction_confidence',\n",
    "                                                       'p3_conf':'#3_prediction_confidence','img_num':'number_of_images',\n",
    "                                                       'p1_dog':'is_#1_prediction_a_dog?','p2_dog':'is_#2_prediction_a_dog?',\n",
    "                                                       'p3_dog':'is_#3_prediction_a_dog?'})"
   ]
  },
  {
   "cell_type": "markdown",
   "metadata": {},
   "source": [
    "#### Test"
   ]
  },
  {
   "cell_type": "code",
   "execution_count": 811,
   "metadata": {},
   "outputs": [
    {
     "data": {
      "text/html": [
       "<div>\n",
       "<style scoped>\n",
       "    .dataframe tbody tr th:only-of-type {\n",
       "        vertical-align: middle;\n",
       "    }\n",
       "\n",
       "    .dataframe tbody tr th {\n",
       "        vertical-align: top;\n",
       "    }\n",
       "\n",
       "    .dataframe thead th {\n",
       "        text-align: right;\n",
       "    }\n",
       "</style>\n",
       "<table border=\"1\" class=\"dataframe\">\n",
       "  <thead>\n",
       "    <tr style=\"text-align: right;\">\n",
       "      <th></th>\n",
       "      <th>tweet_id</th>\n",
       "      <th>jpg_url</th>\n",
       "      <th>number_of_images</th>\n",
       "      <th>#1_prediction</th>\n",
       "      <th>#1_prediction_confidence</th>\n",
       "      <th>is_#1_prediction_a_dog?</th>\n",
       "      <th>#2_prediction</th>\n",
       "      <th>#2_prediction_confidence</th>\n",
       "      <th>is_#2_prediction_a_dog?</th>\n",
       "      <th>#3_prediction</th>\n",
       "      <th>#3_prediction_confidence</th>\n",
       "      <th>is_#3_prediction_a_dog?</th>\n",
       "    </tr>\n",
       "  </thead>\n",
       "  <tbody>\n",
       "    <tr>\n",
       "      <td>0</td>\n",
       "      <td>666020888022790149</td>\n",
       "      <td>https://pbs.twimg.com/media/CT4udn0WwAA0aMy.jpg</td>\n",
       "      <td>1</td>\n",
       "      <td>Welsh_springer_spaniel</td>\n",
       "      <td>0.465074</td>\n",
       "      <td>True</td>\n",
       "      <td>collie</td>\n",
       "      <td>0.156665</td>\n",
       "      <td>True</td>\n",
       "      <td>Shetland_sheepdog</td>\n",
       "      <td>0.061428</td>\n",
       "      <td>True</td>\n",
       "    </tr>\n",
       "  </tbody>\n",
       "</table>\n",
       "</div>"
      ],
      "text/plain": [
       "             tweet_id                                          jpg_url  \\\n",
       "0  666020888022790149  https://pbs.twimg.com/media/CT4udn0WwAA0aMy.jpg   \n",
       "\n",
       "   number_of_images           #1_prediction  #1_prediction_confidence  \\\n",
       "0                 1  Welsh_springer_spaniel                  0.465074   \n",
       "\n",
       "   is_#1_prediction_a_dog? #2_prediction  #2_prediction_confidence  \\\n",
       "0                     True        collie                  0.156665   \n",
       "\n",
       "   is_#2_prediction_a_dog?      #3_prediction  #3_prediction_confidence  \\\n",
       "0                     True  Shetland_sheepdog                  0.061428   \n",
       "\n",
       "   is_#3_prediction_a_dog?  \n",
       "0                     True  "
      ]
     },
     "execution_count": 811,
     "metadata": {},
     "output_type": "execute_result"
    }
   ],
   "source": [
    "#first row \n",
    "image_pred_clean_1.head(1)"
   ]
  },
  {
   "cell_type": "markdown",
   "metadata": {},
   "source": [
    "### Issue #2:"
   ]
  },
  {
   "cell_type": "markdown",
   "metadata": {
    "collapsed": true,
    "extensions": {
     "jupyter_dashboards": {
      "version": 1,
      "views": {
       "grid_default": {
        "hidden": true
       },
       "report_default": {
        "hidden": true
       }
      }
     }
    }
   },
   "source": [
    "#### Define : The rating denominator has some values that are not multiples of 10"
   ]
  },
  {
   "cell_type": "markdown",
   "metadata": {},
   "source": [
    "#### Code"
   ]
  },
  {
   "cell_type": "code",
   "execution_count": 812,
   "metadata": {},
   "outputs": [],
   "source": [
    "#filtering our previously cleaned dataframe for rows with rating_numerator of with multiples of 10 \n",
    "df_1_clean_1 = df_1_copy[((df_1_copy['rating_denominator'] % 10) == 0)]"
   ]
  },
  {
   "cell_type": "code",
   "execution_count": 813,
   "metadata": {},
   "outputs": [],
   "source": [
    "#filtering our previously cleaned dataframe for rows with rating_numerator of not 0\n",
    "df_1_clean_2 = df_1_clean_1[df_1_clean_1['rating_denominator'] != 0]"
   ]
  },
  {
   "cell_type": "markdown",
   "metadata": {},
   "source": [
    "#### Test"
   ]
  },
  {
   "cell_type": "code",
   "execution_count": 814,
   "metadata": {},
   "outputs": [
    {
     "data": {
      "text/plain": [
       "array([ 10,   0,  70, 150, 170,  20,  50,  90,  80,  40, 130, 110, 120],\n",
       "      dtype=int64)"
      ]
     },
     "execution_count": 814,
     "metadata": {},
     "output_type": "execute_result"
    }
   ],
   "source": [
    "#unique values\n",
    "df_1_clean_1.rating_denominator.unique()"
   ]
  },
  {
   "cell_type": "code",
   "execution_count": 815,
   "metadata": {},
   "outputs": [
    {
     "data": {
      "text/plain": [
       "array([ 10,  70, 150, 170,  20,  50,  90,  80,  40, 130, 110, 120],\n",
       "      dtype=int64)"
      ]
     },
     "execution_count": 815,
     "metadata": {},
     "output_type": "execute_result"
    }
   ],
   "source": [
    "#unique values\n",
    "df_1_clean_2.rating_denominator.unique()"
   ]
  },
  {
   "cell_type": "markdown",
   "metadata": {},
   "source": [
    "### Issue #3:"
   ]
  },
  {
   "cell_type": "markdown",
   "metadata": {
    "collapsed": true,
    "extensions": {
     "jupyter_dashboards": {
      "version": 1,
      "views": {
       "grid_default": {
        "hidden": true
       },
       "report_default": {
        "hidden": true
       }
      }
     }
    }
   },
   "source": [
    "#### Define : We have 179 rows with 0 likes and well-to-do number of retweets in new_df"
   ]
  },
  {
   "cell_type": "markdown",
   "metadata": {},
   "source": [
    "#### Code"
   ]
  },
  {
   "cell_type": "code",
   "execution_count": 816,
   "metadata": {},
   "outputs": [],
   "source": [
    "#cleaning our new dataframe by removing all the rows with 0 likes since the api could have not \n",
    "#been able to return the number of likes for those tweets\n",
    "new_df_clean_1 = new_df_copy[new_df_copy.likes > 0]"
   ]
  },
  {
   "cell_type": "markdown",
   "metadata": {},
   "source": [
    "#### Test"
   ]
  },
  {
   "cell_type": "code",
   "execution_count": 817,
   "metadata": {},
   "outputs": [
    {
     "data": {
      "text/html": [
       "<div>\n",
       "<style scoped>\n",
       "    .dataframe tbody tr th:only-of-type {\n",
       "        vertical-align: middle;\n",
       "    }\n",
       "\n",
       "    .dataframe tbody tr th {\n",
       "        vertical-align: top;\n",
       "    }\n",
       "\n",
       "    .dataframe thead th {\n",
       "        text-align: right;\n",
       "    }\n",
       "</style>\n",
       "<table border=\"1\" class=\"dataframe\">\n",
       "  <thead>\n",
       "    <tr style=\"text-align: right;\">\n",
       "      <th></th>\n",
       "      <th>tweet_id</th>\n",
       "      <th>likes</th>\n",
       "      <th>retweets</th>\n",
       "    </tr>\n",
       "  </thead>\n",
       "  <tbody>\n",
       "  </tbody>\n",
       "</table>\n",
       "</div>"
      ],
      "text/plain": [
       "Empty DataFrame\n",
       "Columns: [tweet_id, likes, retweets]\n",
       "Index: []"
      ]
     },
     "execution_count": 817,
     "metadata": {},
     "output_type": "execute_result"
    }
   ],
   "source": [
    "#checking for rows with 0 likes\n",
    "new_df_clean_1\n",
    "new_df_clean_1[new_df_clean_1.likes == 0]"
   ]
  },
  {
   "cell_type": "markdown",
   "metadata": {},
   "source": [
    "### Issue #4:"
   ]
  },
  {
   "cell_type": "markdown",
   "metadata": {
    "collapsed": true,
    "extensions": {
     "jupyter_dashboards": {
      "version": 1,
      "views": {
       "grid_default": {
        "hidden": true
       },
       "report_default": {
        "hidden": true
       }
      }
     }
    }
   },
   "source": [
    "#### Define : We have 1 row with 150 likes and 0 number of retweets in new_df"
   ]
  },
  {
   "cell_type": "markdown",
   "metadata": {},
   "source": [
    "#### Code"
   ]
  },
  {
   "cell_type": "code",
   "execution_count": 818,
   "metadata": {},
   "outputs": [],
   "source": [
    "#removing the row with 0 retweets\n",
    "new_df_clean_2 = new_df_clean_1[new_df_clean_1.retweets > 0]"
   ]
  },
  {
   "cell_type": "markdown",
   "metadata": {},
   "source": [
    "#### Test"
   ]
  },
  {
   "cell_type": "code",
   "execution_count": 819,
   "metadata": {},
   "outputs": [
    {
     "data": {
      "text/html": [
       "<div>\n",
       "<style scoped>\n",
       "    .dataframe tbody tr th:only-of-type {\n",
       "        vertical-align: middle;\n",
       "    }\n",
       "\n",
       "    .dataframe tbody tr th {\n",
       "        vertical-align: top;\n",
       "    }\n",
       "\n",
       "    .dataframe thead th {\n",
       "        text-align: right;\n",
       "    }\n",
       "</style>\n",
       "<table border=\"1\" class=\"dataframe\">\n",
       "  <thead>\n",
       "    <tr style=\"text-align: right;\">\n",
       "      <th></th>\n",
       "      <th>tweet_id</th>\n",
       "      <th>likes</th>\n",
       "      <th>retweets</th>\n",
       "    </tr>\n",
       "  </thead>\n",
       "  <tbody>\n",
       "  </tbody>\n",
       "</table>\n",
       "</div>"
      ],
      "text/plain": [
       "Empty DataFrame\n",
       "Columns: [tweet_id, likes, retweets]\n",
       "Index: []"
      ]
     },
     "execution_count": 819,
     "metadata": {},
     "output_type": "execute_result"
    }
   ],
   "source": [
    "#checking for rows with 0 retweets\n",
    "new_df_clean_2[new_df_clean_2.retweets == 0]"
   ]
  },
  {
   "cell_type": "markdown",
   "metadata": {},
   "source": [
    "### Issue #5:"
   ]
  },
  {
   "cell_type": "markdown",
   "metadata": {
    "collapsed": true,
    "extensions": {
     "jupyter_dashboards": {
      "version": 1,
      "views": {
       "grid_default": {
        "hidden": true
       },
       "report_default": {
        "hidden": true
       }
      }
     }
    }
   },
   "source": [
    "#### Define : df_1 has retweet columns with non-null values"
   ]
  },
  {
   "cell_type": "markdown",
   "metadata": {},
   "source": [
    "### Code"
   ]
  },
  {
   "cell_type": "code",
   "execution_count": 820,
   "metadata": {},
   "outputs": [],
   "source": [
    "df_1_clean_3 = df_1_clean_2[df_1_clean_2.retweeted_status_id.isnull()]\n",
    "df_1_clean_3 = df_1_clean_3[df_1_clean_3.retweeted_status_user_id.isnull()]\n",
    "df_1_clean_3 = df_1_clean_3[df_1_clean_3.retweeted_status_timestamp.isnull()]"
   ]
  },
  {
   "cell_type": "markdown",
   "metadata": {},
   "source": [
    "#### Test"
   ]
  },
  {
   "cell_type": "code",
   "execution_count": 821,
   "metadata": {},
   "outputs": [
    {
     "name": "stdout",
     "output_type": "stream",
     "text": [
      "<class 'pandas.core.frame.DataFrame'>\n",
      "Int64Index: 2168 entries, 0 to 2355\n",
      "Data columns (total 17 columns):\n",
      "tweet_id                      2168 non-null int64\n",
      "in_reply_to_status_id         75 non-null float64\n",
      "in_reply_to_user_id           75 non-null float64\n",
      "timestamp                     2168 non-null object\n",
      "source                        2168 non-null object\n",
      "text                          2168 non-null object\n",
      "retweeted_status_id           0 non-null float64\n",
      "retweeted_status_user_id      0 non-null float64\n",
      "retweeted_status_timestamp    0 non-null object\n",
      "expanded_urls                 2113 non-null object\n",
      "rating_numerator              2168 non-null int64\n",
      "rating_denominator            2168 non-null int64\n",
      "name                          2168 non-null object\n",
      "doggo                         2168 non-null object\n",
      "floofer                       2168 non-null object\n",
      "pupper                        2168 non-null object\n",
      "puppo                         2168 non-null object\n",
      "dtypes: float64(4), int64(3), object(10)\n",
      "memory usage: 304.9+ KB\n"
     ]
    }
   ],
   "source": [
    "#checking for missing values\n",
    "df_1_clean_3.info()"
   ]
  },
  {
   "cell_type": "markdown",
   "metadata": {},
   "source": [
    "### Issue #6:"
   ]
  },
  {
   "cell_type": "markdown",
   "metadata": {
    "collapsed": true,
    "extensions": {
     "jupyter_dashboards": {
      "version": 1,
      "views": {
       "grid_default": {
        "hidden": true
       },
       "report_default": {
        "hidden": true
       }
      }
     }
    }
   },
   "source": [
    "#### Define : We have unequal row count in df_1 and new_df"
   ]
  },
  {
   "cell_type": "markdown",
   "metadata": {},
   "source": [
    "#### Code"
   ]
  },
  {
   "cell_type": "code",
   "execution_count": 822,
   "metadata": {},
   "outputs": [
    {
     "data": {
      "text/plain": [
       "2174"
      ]
     },
     "execution_count": 822,
     "metadata": {},
     "output_type": "execute_result"
    }
   ],
   "source": [
    "#row count of dataframes\n",
    "df_1_clean_3.shape[0]\n",
    "new_df_clean_2.shape[0]"
   ]
  },
  {
   "cell_type": "code",
   "execution_count": 823,
   "metadata": {},
   "outputs": [],
   "source": [
    "#merged both dataframes after cleaning\n",
    "merged_df = df_1_clean_3.merge(new_df_clean_2 , how = 'inner' , on = 'tweet_id')"
   ]
  },
  {
   "cell_type": "markdown",
   "metadata": {},
   "source": [
    "#### Test"
   ]
  },
  {
   "cell_type": "code",
   "execution_count": 824,
   "metadata": {},
   "outputs": [
    {
     "name": "stdout",
     "output_type": "stream",
     "text": [
      "2167\n"
     ]
    },
    {
     "data": {
      "text/html": [
       "<div>\n",
       "<style scoped>\n",
       "    .dataframe tbody tr th:only-of-type {\n",
       "        vertical-align: middle;\n",
       "    }\n",
       "\n",
       "    .dataframe tbody tr th {\n",
       "        vertical-align: top;\n",
       "    }\n",
       "\n",
       "    .dataframe thead th {\n",
       "        text-align: right;\n",
       "    }\n",
       "</style>\n",
       "<table border=\"1\" class=\"dataframe\">\n",
       "  <thead>\n",
       "    <tr style=\"text-align: right;\">\n",
       "      <th></th>\n",
       "      <th>tweet_id</th>\n",
       "      <th>in_reply_to_status_id</th>\n",
       "      <th>in_reply_to_user_id</th>\n",
       "      <th>timestamp</th>\n",
       "      <th>source</th>\n",
       "      <th>text</th>\n",
       "      <th>retweeted_status_id</th>\n",
       "      <th>retweeted_status_user_id</th>\n",
       "      <th>retweeted_status_timestamp</th>\n",
       "      <th>expanded_urls</th>\n",
       "      <th>rating_numerator</th>\n",
       "      <th>rating_denominator</th>\n",
       "      <th>name</th>\n",
       "      <th>doggo</th>\n",
       "      <th>floofer</th>\n",
       "      <th>pupper</th>\n",
       "      <th>puppo</th>\n",
       "      <th>likes</th>\n",
       "      <th>retweets</th>\n",
       "    </tr>\n",
       "  </thead>\n",
       "  <tbody>\n",
       "    <tr>\n",
       "      <td>0</td>\n",
       "      <td>892420643555336193</td>\n",
       "      <td>NaN</td>\n",
       "      <td>NaN</td>\n",
       "      <td>2017-08-01 16:23:56 +0000</td>\n",
       "      <td>&lt;a href=\"http://twitter.com/download/iphone\" r...</td>\n",
       "      <td>This is Phineas. He's a mystical boy. Only eve...</td>\n",
       "      <td>NaN</td>\n",
       "      <td>NaN</td>\n",
       "      <td>NaN</td>\n",
       "      <td>https://twitter.com/dog_rates/status/892420643...</td>\n",
       "      <td>13</td>\n",
       "      <td>10</td>\n",
       "      <td>Phineas</td>\n",
       "      <td>None</td>\n",
       "      <td>None</td>\n",
       "      <td>None</td>\n",
       "      <td>None</td>\n",
       "      <td>39467</td>\n",
       "      <td>8853</td>\n",
       "    </tr>\n",
       "    <tr>\n",
       "      <td>1</td>\n",
       "      <td>892177421306343426</td>\n",
       "      <td>NaN</td>\n",
       "      <td>NaN</td>\n",
       "      <td>2017-08-01 00:17:27 +0000</td>\n",
       "      <td>&lt;a href=\"http://twitter.com/download/iphone\" r...</td>\n",
       "      <td>This is Tilly. She's just checking pup on you....</td>\n",
       "      <td>NaN</td>\n",
       "      <td>NaN</td>\n",
       "      <td>NaN</td>\n",
       "      <td>https://twitter.com/dog_rates/status/892177421...</td>\n",
       "      <td>13</td>\n",
       "      <td>10</td>\n",
       "      <td>Tilly</td>\n",
       "      <td>None</td>\n",
       "      <td>None</td>\n",
       "      <td>None</td>\n",
       "      <td>None</td>\n",
       "      <td>33819</td>\n",
       "      <td>6514</td>\n",
       "    </tr>\n",
       "    <tr>\n",
       "      <td>2</td>\n",
       "      <td>891815181378084864</td>\n",
       "      <td>NaN</td>\n",
       "      <td>NaN</td>\n",
       "      <td>2017-07-31 00:18:03 +0000</td>\n",
       "      <td>&lt;a href=\"http://twitter.com/download/iphone\" r...</td>\n",
       "      <td>This is Archie. He is a rare Norwegian Pouncin...</td>\n",
       "      <td>NaN</td>\n",
       "      <td>NaN</td>\n",
       "      <td>NaN</td>\n",
       "      <td>https://twitter.com/dog_rates/status/891815181...</td>\n",
       "      <td>12</td>\n",
       "      <td>10</td>\n",
       "      <td>Archie</td>\n",
       "      <td>None</td>\n",
       "      <td>None</td>\n",
       "      <td>None</td>\n",
       "      <td>None</td>\n",
       "      <td>25461</td>\n",
       "      <td>4328</td>\n",
       "    </tr>\n",
       "    <tr>\n",
       "      <td>3</td>\n",
       "      <td>891689557279858688</td>\n",
       "      <td>NaN</td>\n",
       "      <td>NaN</td>\n",
       "      <td>2017-07-30 15:58:51 +0000</td>\n",
       "      <td>&lt;a href=\"http://twitter.com/download/iphone\" r...</td>\n",
       "      <td>This is Darla. She commenced a snooze mid meal...</td>\n",
       "      <td>NaN</td>\n",
       "      <td>NaN</td>\n",
       "      <td>NaN</td>\n",
       "      <td>https://twitter.com/dog_rates/status/891689557...</td>\n",
       "      <td>13</td>\n",
       "      <td>10</td>\n",
       "      <td>Darla</td>\n",
       "      <td>None</td>\n",
       "      <td>None</td>\n",
       "      <td>None</td>\n",
       "      <td>None</td>\n",
       "      <td>42908</td>\n",
       "      <td>8964</td>\n",
       "    </tr>\n",
       "  </tbody>\n",
       "</table>\n",
       "</div>"
      ],
      "text/plain": [
       "             tweet_id  in_reply_to_status_id  in_reply_to_user_id  \\\n",
       "0  892420643555336193                    NaN                  NaN   \n",
       "1  892177421306343426                    NaN                  NaN   \n",
       "2  891815181378084864                    NaN                  NaN   \n",
       "3  891689557279858688                    NaN                  NaN   \n",
       "\n",
       "                   timestamp  \\\n",
       "0  2017-08-01 16:23:56 +0000   \n",
       "1  2017-08-01 00:17:27 +0000   \n",
       "2  2017-07-31 00:18:03 +0000   \n",
       "3  2017-07-30 15:58:51 +0000   \n",
       "\n",
       "                                              source  \\\n",
       "0  <a href=\"http://twitter.com/download/iphone\" r...   \n",
       "1  <a href=\"http://twitter.com/download/iphone\" r...   \n",
       "2  <a href=\"http://twitter.com/download/iphone\" r...   \n",
       "3  <a href=\"http://twitter.com/download/iphone\" r...   \n",
       "\n",
       "                                                text  retweeted_status_id  \\\n",
       "0  This is Phineas. He's a mystical boy. Only eve...                  NaN   \n",
       "1  This is Tilly. She's just checking pup on you....                  NaN   \n",
       "2  This is Archie. He is a rare Norwegian Pouncin...                  NaN   \n",
       "3  This is Darla. She commenced a snooze mid meal...                  NaN   \n",
       "\n",
       "   retweeted_status_user_id retweeted_status_timestamp  \\\n",
       "0                       NaN                        NaN   \n",
       "1                       NaN                        NaN   \n",
       "2                       NaN                        NaN   \n",
       "3                       NaN                        NaN   \n",
       "\n",
       "                                       expanded_urls  rating_numerator  \\\n",
       "0  https://twitter.com/dog_rates/status/892420643...                13   \n",
       "1  https://twitter.com/dog_rates/status/892177421...                13   \n",
       "2  https://twitter.com/dog_rates/status/891815181...                12   \n",
       "3  https://twitter.com/dog_rates/status/891689557...                13   \n",
       "\n",
       "   rating_denominator     name doggo floofer pupper puppo  likes  retweets  \n",
       "0                  10  Phineas  None    None   None  None  39467      8853  \n",
       "1                  10    Tilly  None    None   None  None  33819      6514  \n",
       "2                  10   Archie  None    None   None  None  25461      4328  \n",
       "3                  10    Darla  None    None   None  None  42908      8964  "
      ]
     },
     "execution_count": 824,
     "metadata": {},
     "output_type": "execute_result"
    }
   ],
   "source": [
    "#checking for dimension and first 4 rows of the merged dataframe\n",
    "print(merged_df.shape[0])\n",
    "merged_df.head(4)"
   ]
  },
  {
   "cell_type": "markdown",
   "metadata": {},
   "source": [
    "### Issue #7:"
   ]
  },
  {
   "cell_type": "markdown",
   "metadata": {
    "collapsed": true,
    "extensions": {
     "jupyter_dashboards": {
      "version": 1,
      "views": {
       "grid_default": {
        "hidden": true
       },
       "report_default": {
        "hidden": true
       }
      }
     }
    }
   },
   "source": [
    "#### Define : The predicted dog breed columns contain non-dog breed names of about 438 e.g screen,     in image_pred"
   ]
  },
  {
   "cell_type": "markdown",
   "metadata": {},
   "source": [
    "#### Code"
   ]
  },
  {
   "cell_type": "code",
   "execution_count": 825,
   "metadata": {},
   "outputs": [],
   "source": [
    "#removing the rows of values in the list of 438 non_dog breeds\n",
    "image_pred_clean_1.head(1)\n",
    "#list of non_dog breeds\n",
    "non_dog = list(set.union(m,n,t))\n",
    "clean_1 = image_pred_clean_1[~image_pred_clean_1['#1_prediction'].isin(non_dog)]\n",
    "clean_2 = clean_1[~clean_1['#2_prediction'].isin(non_dog)]\n",
    "clean_3 = clean_2[~clean_2['#3_prediction'].isin(non_dog)]\n",
    "image_pred_clean_2 = clean_3"
   ]
  },
  {
   "cell_type": "markdown",
   "metadata": {},
   "source": [
    "#### Test"
   ]
  },
  {
   "cell_type": "code",
   "execution_count": 826,
   "metadata": {},
   "outputs": [
    {
     "data": {
      "text/html": [
       "<div>\n",
       "<style scoped>\n",
       "    .dataframe tbody tr th:only-of-type {\n",
       "        vertical-align: middle;\n",
       "    }\n",
       "\n",
       "    .dataframe tbody tr th {\n",
       "        vertical-align: top;\n",
       "    }\n",
       "\n",
       "    .dataframe thead th {\n",
       "        text-align: right;\n",
       "    }\n",
       "</style>\n",
       "<table border=\"1\" class=\"dataframe\">\n",
       "  <thead>\n",
       "    <tr style=\"text-align: right;\">\n",
       "      <th></th>\n",
       "      <th>tweet_id</th>\n",
       "      <th>jpg_url</th>\n",
       "      <th>number_of_images</th>\n",
       "      <th>#1_prediction</th>\n",
       "      <th>#1_prediction_confidence</th>\n",
       "      <th>is_#1_prediction_a_dog?</th>\n",
       "      <th>#2_prediction</th>\n",
       "      <th>#2_prediction_confidence</th>\n",
       "      <th>is_#2_prediction_a_dog?</th>\n",
       "      <th>#3_prediction</th>\n",
       "      <th>#3_prediction_confidence</th>\n",
       "      <th>is_#3_prediction_a_dog?</th>\n",
       "    </tr>\n",
       "  </thead>\n",
       "  <tbody>\n",
       "    <tr>\n",
       "      <td>0</td>\n",
       "      <td>666020888022790149</td>\n",
       "      <td>https://pbs.twimg.com/media/CT4udn0WwAA0aMy.jpg</td>\n",
       "      <td>1</td>\n",
       "      <td>Welsh_springer_spaniel</td>\n",
       "      <td>0.465074</td>\n",
       "      <td>True</td>\n",
       "      <td>collie</td>\n",
       "      <td>0.156665</td>\n",
       "      <td>True</td>\n",
       "      <td>Shetland_sheepdog</td>\n",
       "      <td>0.061428</td>\n",
       "      <td>True</td>\n",
       "    </tr>\n",
       "    <tr>\n",
       "      <td>1</td>\n",
       "      <td>666029285002620928</td>\n",
       "      <td>https://pbs.twimg.com/media/CT42GRgUYAA5iDo.jpg</td>\n",
       "      <td>1</td>\n",
       "      <td>redbone</td>\n",
       "      <td>0.506826</td>\n",
       "      <td>True</td>\n",
       "      <td>miniature_pinscher</td>\n",
       "      <td>0.074192</td>\n",
       "      <td>True</td>\n",
       "      <td>Rhodesian_ridgeback</td>\n",
       "      <td>0.072010</td>\n",
       "      <td>True</td>\n",
       "    </tr>\n",
       "    <tr>\n",
       "      <td>2</td>\n",
       "      <td>666033412701032449</td>\n",
       "      <td>https://pbs.twimg.com/media/CT4521TWwAEvMyu.jpg</td>\n",
       "      <td>1</td>\n",
       "      <td>German_shepherd</td>\n",
       "      <td>0.596461</td>\n",
       "      <td>True</td>\n",
       "      <td>malinois</td>\n",
       "      <td>0.138584</td>\n",
       "      <td>True</td>\n",
       "      <td>bloodhound</td>\n",
       "      <td>0.116197</td>\n",
       "      <td>True</td>\n",
       "    </tr>\n",
       "    <tr>\n",
       "      <td>3</td>\n",
       "      <td>666044226329800704</td>\n",
       "      <td>https://pbs.twimg.com/media/CT5Dr8HUEAA-lEu.jpg</td>\n",
       "      <td>1</td>\n",
       "      <td>Rhodesian_ridgeback</td>\n",
       "      <td>0.408143</td>\n",
       "      <td>True</td>\n",
       "      <td>redbone</td>\n",
       "      <td>0.360687</td>\n",
       "      <td>True</td>\n",
       "      <td>miniature_pinscher</td>\n",
       "      <td>0.222752</td>\n",
       "      <td>True</td>\n",
       "    </tr>\n",
       "    <tr>\n",
       "      <td>4</td>\n",
       "      <td>666049248165822465</td>\n",
       "      <td>https://pbs.twimg.com/media/CT5IQmsXIAAKY4A.jpg</td>\n",
       "      <td>1</td>\n",
       "      <td>miniature_pinscher</td>\n",
       "      <td>0.560311</td>\n",
       "      <td>True</td>\n",
       "      <td>Rottweiler</td>\n",
       "      <td>0.243682</td>\n",
       "      <td>True</td>\n",
       "      <td>Doberman</td>\n",
       "      <td>0.154629</td>\n",
       "      <td>True</td>\n",
       "    </tr>\n",
       "  </tbody>\n",
       "</table>\n",
       "</div>"
      ],
      "text/plain": [
       "             tweet_id                                          jpg_url  \\\n",
       "0  666020888022790149  https://pbs.twimg.com/media/CT4udn0WwAA0aMy.jpg   \n",
       "1  666029285002620928  https://pbs.twimg.com/media/CT42GRgUYAA5iDo.jpg   \n",
       "2  666033412701032449  https://pbs.twimg.com/media/CT4521TWwAEvMyu.jpg   \n",
       "3  666044226329800704  https://pbs.twimg.com/media/CT5Dr8HUEAA-lEu.jpg   \n",
       "4  666049248165822465  https://pbs.twimg.com/media/CT5IQmsXIAAKY4A.jpg   \n",
       "\n",
       "   number_of_images           #1_prediction  #1_prediction_confidence  \\\n",
       "0                 1  Welsh_springer_spaniel                  0.465074   \n",
       "1                 1                 redbone                  0.506826   \n",
       "2                 1         German_shepherd                  0.596461   \n",
       "3                 1     Rhodesian_ridgeback                  0.408143   \n",
       "4                 1      miniature_pinscher                  0.560311   \n",
       "\n",
       "   is_#1_prediction_a_dog?       #2_prediction  #2_prediction_confidence  \\\n",
       "0                     True              collie                  0.156665   \n",
       "1                     True  miniature_pinscher                  0.074192   \n",
       "2                     True            malinois                  0.138584   \n",
       "3                     True             redbone                  0.360687   \n",
       "4                     True          Rottweiler                  0.243682   \n",
       "\n",
       "   is_#2_prediction_a_dog?        #3_prediction  #3_prediction_confidence  \\\n",
       "0                     True    Shetland_sheepdog                  0.061428   \n",
       "1                     True  Rhodesian_ridgeback                  0.072010   \n",
       "2                     True           bloodhound                  0.116197   \n",
       "3                     True   miniature_pinscher                  0.222752   \n",
       "4                     True             Doberman                  0.154629   \n",
       "\n",
       "   is_#3_prediction_a_dog?  \n",
       "0                     True  \n",
       "1                     True  \n",
       "2                     True  \n",
       "3                     True  \n",
       "4                     True  "
      ]
     },
     "execution_count": 826,
     "metadata": {},
     "output_type": "execute_result"
    }
   ],
   "source": [
    "#checking for shape and first 5 rows\n",
    "image_pred_clean_2.shape\n",
    "image_pred_clean_2.head()"
   ]
  },
  {
   "cell_type": "markdown",
   "metadata": {},
   "source": [
    "### Issue #8:"
   ]
  },
  {
   "cell_type": "markdown",
   "metadata": {
    "collapsed": true,
    "extensions": {
     "jupyter_dashboards": {
      "version": 1,
      "views": {
       "grid_default": {
        "hidden": true
       },
       "report_default": {
        "hidden": true
       }
      }
     }
    }
   },
   "source": [
    "#### Define : The dog_stage column values (not created yet) should have a single value in its cells but since some tweed ids contain multiple dog_stages this makes our data untidy"
   ]
  },
  {
   "cell_type": "markdown",
   "metadata": {},
   "source": [
    "#### Code"
   ]
  },
  {
   "cell_type": "code",
   "execution_count": 827,
   "metadata": {},
   "outputs": [
    {
     "data": {
      "text/html": [
       "<div>\n",
       "<style scoped>\n",
       "    .dataframe tbody tr th:only-of-type {\n",
       "        vertical-align: middle;\n",
       "    }\n",
       "\n",
       "    .dataframe tbody tr th {\n",
       "        vertical-align: top;\n",
       "    }\n",
       "\n",
       "    .dataframe thead th {\n",
       "        text-align: right;\n",
       "    }\n",
       "</style>\n",
       "<table border=\"1\" class=\"dataframe\">\n",
       "  <thead>\n",
       "    <tr style=\"text-align: right;\">\n",
       "      <th></th>\n",
       "      <th>tweet_id</th>\n",
       "      <th>in_reply_to_status_id</th>\n",
       "      <th>in_reply_to_user_id</th>\n",
       "      <th>timestamp</th>\n",
       "      <th>source</th>\n",
       "      <th>text</th>\n",
       "      <th>retweeted_status_id</th>\n",
       "      <th>retweeted_status_user_id</th>\n",
       "      <th>retweeted_status_timestamp</th>\n",
       "      <th>expanded_urls</th>\n",
       "      <th>rating_numerator</th>\n",
       "      <th>rating_denominator</th>\n",
       "      <th>name</th>\n",
       "      <th>doggo</th>\n",
       "      <th>floofer</th>\n",
       "      <th>pupper</th>\n",
       "      <th>puppo</th>\n",
       "      <th>likes</th>\n",
       "      <th>retweets</th>\n",
       "    </tr>\n",
       "  </thead>\n",
       "  <tbody>\n",
       "    <tr>\n",
       "      <td>0</td>\n",
       "      <td>892420643555336193</td>\n",
       "      <td>NaN</td>\n",
       "      <td>NaN</td>\n",
       "      <td>2017-08-01 16:23:56 +0000</td>\n",
       "      <td>&lt;a href=\"http://twitter.com/download/iphone\" r...</td>\n",
       "      <td>This is Phineas. He's a mystical boy. Only eve...</td>\n",
       "      <td>NaN</td>\n",
       "      <td>NaN</td>\n",
       "      <td>NaN</td>\n",
       "      <td>https://twitter.com/dog_rates/status/892420643...</td>\n",
       "      <td>13</td>\n",
       "      <td>10</td>\n",
       "      <td>Phineas</td>\n",
       "      <td>None</td>\n",
       "      <td>None</td>\n",
       "      <td>None</td>\n",
       "      <td>None</td>\n",
       "      <td>39467</td>\n",
       "      <td>8853</td>\n",
       "    </tr>\n",
       "  </tbody>\n",
       "</table>\n",
       "</div>"
      ],
      "text/plain": [
       "             tweet_id  in_reply_to_status_id  in_reply_to_user_id  \\\n",
       "0  892420643555336193                    NaN                  NaN   \n",
       "\n",
       "                   timestamp  \\\n",
       "0  2017-08-01 16:23:56 +0000   \n",
       "\n",
       "                                              source  \\\n",
       "0  <a href=\"http://twitter.com/download/iphone\" r...   \n",
       "\n",
       "                                                text  retweeted_status_id  \\\n",
       "0  This is Phineas. He's a mystical boy. Only eve...                  NaN   \n",
       "\n",
       "   retweeted_status_user_id retweeted_status_timestamp  \\\n",
       "0                       NaN                        NaN   \n",
       "\n",
       "                                       expanded_urls  rating_numerator  \\\n",
       "0  https://twitter.com/dog_rates/status/892420643...                13   \n",
       "\n",
       "   rating_denominator     name doggo floofer pupper puppo  likes  retweets  \n",
       "0                  10  Phineas  None    None   None  None  39467      8853  "
      ]
     },
     "execution_count": 827,
     "metadata": {},
     "output_type": "execute_result"
    }
   ],
   "source": [
    "#first row\n",
    "merged_df.head(1)"
   ]
  },
  {
   "cell_type": "code",
   "execution_count": 828,
   "metadata": {},
   "outputs": [
    {
     "data": {
      "text/html": [
       "<div>\n",
       "<style scoped>\n",
       "    .dataframe tbody tr th:only-of-type {\n",
       "        vertical-align: middle;\n",
       "    }\n",
       "\n",
       "    .dataframe tbody tr th {\n",
       "        vertical-align: top;\n",
       "    }\n",
       "\n",
       "    .dataframe thead th {\n",
       "        text-align: right;\n",
       "    }\n",
       "</style>\n",
       "<table border=\"1\" class=\"dataframe\">\n",
       "  <thead>\n",
       "    <tr style=\"text-align: right;\">\n",
       "      <th></th>\n",
       "      <th>tweet_id</th>\n",
       "      <th>in_reply_to_status_id</th>\n",
       "      <th>in_reply_to_user_id</th>\n",
       "      <th>timestamp</th>\n",
       "      <th>source</th>\n",
       "      <th>text</th>\n",
       "      <th>retweeted_status_id</th>\n",
       "      <th>retweeted_status_user_id</th>\n",
       "      <th>retweeted_status_timestamp</th>\n",
       "      <th>expanded_urls</th>\n",
       "      <th>rating_numerator</th>\n",
       "      <th>rating_denominator</th>\n",
       "      <th>name</th>\n",
       "      <th>doggo</th>\n",
       "      <th>floofer</th>\n",
       "      <th>pupper</th>\n",
       "      <th>puppo</th>\n",
       "      <th>likes</th>\n",
       "      <th>retweets</th>\n",
       "      <th>concat</th>\n",
       "    </tr>\n",
       "  </thead>\n",
       "  <tbody>\n",
       "    <tr>\n",
       "      <td>0</td>\n",
       "      <td>892420643555336193</td>\n",
       "      <td>NaN</td>\n",
       "      <td>NaN</td>\n",
       "      <td>2017-08-01 16:23:56 +0000</td>\n",
       "      <td>&lt;a href=\"http://twitter.com/download/iphone\" r...</td>\n",
       "      <td>This is Phineas. He's a mystical boy. Only eve...</td>\n",
       "      <td>NaN</td>\n",
       "      <td>NaN</td>\n",
       "      <td>NaN</td>\n",
       "      <td>https://twitter.com/dog_rates/status/892420643...</td>\n",
       "      <td>13</td>\n",
       "      <td>10</td>\n",
       "      <td>Phineas</td>\n",
       "      <td>None</td>\n",
       "      <td>None</td>\n",
       "      <td>None</td>\n",
       "      <td>None</td>\n",
       "      <td>39467</td>\n",
       "      <td>8853</td>\n",
       "      <td>NoneNoneNoneNone</td>\n",
       "    </tr>\n",
       "  </tbody>\n",
       "</table>\n",
       "</div>"
      ],
      "text/plain": [
       "             tweet_id  in_reply_to_status_id  in_reply_to_user_id  \\\n",
       "0  892420643555336193                    NaN                  NaN   \n",
       "\n",
       "                   timestamp  \\\n",
       "0  2017-08-01 16:23:56 +0000   \n",
       "\n",
       "                                              source  \\\n",
       "0  <a href=\"http://twitter.com/download/iphone\" r...   \n",
       "\n",
       "                                                text  retweeted_status_id  \\\n",
       "0  This is Phineas. He's a mystical boy. Only eve...                  NaN   \n",
       "\n",
       "   retweeted_status_user_id retweeted_status_timestamp  \\\n",
       "0                       NaN                        NaN   \n",
       "\n",
       "                                       expanded_urls  rating_numerator  \\\n",
       "0  https://twitter.com/dog_rates/status/892420643...                13   \n",
       "\n",
       "   rating_denominator     name doggo floofer pupper puppo  likes  retweets  \\\n",
       "0                  10  Phineas  None    None   None  None  39467      8853   \n",
       "\n",
       "             concat  \n",
       "0  NoneNoneNoneNone  "
      ]
     },
     "execution_count": 828,
     "metadata": {},
     "output_type": "execute_result"
    }
   ],
   "source": [
    "#concatenate the four dog stage columns as a new column\n",
    "merged_df['concat'] = merged_df['doggo'] + merged_df['floofer'] + merged_df['pupper'] + merged_df['puppo']\n",
    "merged_df.head(1)"
   ]
  },
  {
   "cell_type": "code",
   "execution_count": 829,
   "metadata": {},
   "outputs": [
    {
     "data": {
      "text/plain": [
       "['NoneNoneNoneNone',\n",
       " 'doggoNoneNoneNone',\n",
       " 'NoneNoneNonepuppo',\n",
       " 'NoneNonepupperNone',\n",
       " 'NoneflooferNoneNone',\n",
       " 'doggoNoneNonepuppo',\n",
       " 'doggoflooferNoneNone',\n",
       " 'doggoNonepupperNone']"
      ]
     },
     "execution_count": 829,
     "metadata": {},
     "output_type": "execute_result"
    }
   ],
   "source": [
    "#get a list of unique values in the concat column\n",
    "list(merged_df.concat.unique())"
   ]
  },
  {
   "cell_type": "code",
   "execution_count": 830,
   "metadata": {},
   "outputs": [],
   "source": [
    "#filter the merged dataframe\n",
    "merged_df = merged_df[~merged_df.concat.isin(['NoneNoneNoneNone','doggoNoneNonepuppo','doggoflooferNoneNone','doggoNonepupperNone'])]"
   ]
  },
  {
   "cell_type": "code",
   "execution_count": 831,
   "metadata": {},
   "outputs": [],
   "source": [
    "#drop the temporary column\n",
    "merged_df = merged_df.drop('concat',axis = 1)"
   ]
  },
  {
   "cell_type": "markdown",
   "metadata": {},
   "source": [
    "#### Test"
   ]
  },
  {
   "cell_type": "code",
   "execution_count": 832,
   "metadata": {},
   "outputs": [
    {
     "data": {
      "text/html": [
       "<div>\n",
       "<style scoped>\n",
       "    .dataframe tbody tr th:only-of-type {\n",
       "        vertical-align: middle;\n",
       "    }\n",
       "\n",
       "    .dataframe tbody tr th {\n",
       "        vertical-align: top;\n",
       "    }\n",
       "\n",
       "    .dataframe thead th {\n",
       "        text-align: right;\n",
       "    }\n",
       "</style>\n",
       "<table border=\"1\" class=\"dataframe\">\n",
       "  <thead>\n",
       "    <tr style=\"text-align: right;\">\n",
       "      <th></th>\n",
       "      <th>tweet_id</th>\n",
       "      <th>in_reply_to_status_id</th>\n",
       "      <th>in_reply_to_user_id</th>\n",
       "      <th>timestamp</th>\n",
       "      <th>source</th>\n",
       "      <th>text</th>\n",
       "      <th>retweeted_status_id</th>\n",
       "      <th>retweeted_status_user_id</th>\n",
       "      <th>retweeted_status_timestamp</th>\n",
       "      <th>expanded_urls</th>\n",
       "      <th>rating_numerator</th>\n",
       "      <th>rating_denominator</th>\n",
       "      <th>name</th>\n",
       "      <th>doggo</th>\n",
       "      <th>floofer</th>\n",
       "      <th>pupper</th>\n",
       "      <th>puppo</th>\n",
       "      <th>likes</th>\n",
       "      <th>retweets</th>\n",
       "    </tr>\n",
       "  </thead>\n",
       "  <tbody>\n",
       "    <tr>\n",
       "      <td>9</td>\n",
       "      <td>890240255349198849</td>\n",
       "      <td>NaN</td>\n",
       "      <td>NaN</td>\n",
       "      <td>2017-07-26 15:59:51 +0000</td>\n",
       "      <td>&lt;a href=\"http://twitter.com/download/iphone\" r...</td>\n",
       "      <td>This is Cassie. She is a college pup. Studying...</td>\n",
       "      <td>NaN</td>\n",
       "      <td>NaN</td>\n",
       "      <td>NaN</td>\n",
       "      <td>https://twitter.com/dog_rates/status/890240255...</td>\n",
       "      <td>14</td>\n",
       "      <td>10</td>\n",
       "      <td>Cassie</td>\n",
       "      <td>doggo</td>\n",
       "      <td>None</td>\n",
       "      <td>None</td>\n",
       "      <td>None</td>\n",
       "      <td>32467</td>\n",
       "      <td>7711</td>\n",
       "    </tr>\n",
       "    <tr>\n",
       "      <td>12</td>\n",
       "      <td>889665388333682689</td>\n",
       "      <td>NaN</td>\n",
       "      <td>NaN</td>\n",
       "      <td>2017-07-25 01:55:32 +0000</td>\n",
       "      <td>&lt;a href=\"http://twitter.com/download/iphone\" r...</td>\n",
       "      <td>Here's a puppo that seems to be on the fence a...</td>\n",
       "      <td>NaN</td>\n",
       "      <td>NaN</td>\n",
       "      <td>NaN</td>\n",
       "      <td>https://twitter.com/dog_rates/status/889665388...</td>\n",
       "      <td>13</td>\n",
       "      <td>10</td>\n",
       "      <td>None</td>\n",
       "      <td>None</td>\n",
       "      <td>None</td>\n",
       "      <td>None</td>\n",
       "      <td>puppo</td>\n",
       "      <td>38818</td>\n",
       "      <td>8538</td>\n",
       "    </tr>\n",
       "  </tbody>\n",
       "</table>\n",
       "</div>"
      ],
      "text/plain": [
       "              tweet_id  in_reply_to_status_id  in_reply_to_user_id  \\\n",
       "9   890240255349198849                    NaN                  NaN   \n",
       "12  889665388333682689                    NaN                  NaN   \n",
       "\n",
       "                    timestamp  \\\n",
       "9   2017-07-26 15:59:51 +0000   \n",
       "12  2017-07-25 01:55:32 +0000   \n",
       "\n",
       "                                               source  \\\n",
       "9   <a href=\"http://twitter.com/download/iphone\" r...   \n",
       "12  <a href=\"http://twitter.com/download/iphone\" r...   \n",
       "\n",
       "                                                 text  retweeted_status_id  \\\n",
       "9   This is Cassie. She is a college pup. Studying...                  NaN   \n",
       "12  Here's a puppo that seems to be on the fence a...                  NaN   \n",
       "\n",
       "    retweeted_status_user_id retweeted_status_timestamp  \\\n",
       "9                        NaN                        NaN   \n",
       "12                       NaN                        NaN   \n",
       "\n",
       "                                        expanded_urls  rating_numerator  \\\n",
       "9   https://twitter.com/dog_rates/status/890240255...                14   \n",
       "12  https://twitter.com/dog_rates/status/889665388...                13   \n",
       "\n",
       "    rating_denominator    name  doggo floofer pupper  puppo  likes  retweets  \n",
       "9                   10  Cassie  doggo    None   None   None  32467      7711  \n",
       "12                  10    None   None    None   None  puppo  38818      8538  "
      ]
     },
     "execution_count": 832,
     "metadata": {},
     "output_type": "execute_result"
    }
   ],
   "source": [
    "#first two rows\n",
    "merged_df.head(2)"
   ]
  },
  {
   "cell_type": "markdown",
   "metadata": {},
   "source": [
    "### Issue #9:"
   ]
  },
  {
   "cell_type": "markdown",
   "metadata": {
    "collapsed": true,
    "extensions": {
     "jupyter_dashboards": {
      "version": 1,
      "views": {
       "grid_default": {
        "hidden": true
       },
       "report_default": {
        "hidden": true
       }
      }
     }
    }
   },
   "source": [
    "#### Define : The None values of the doggo,floofer,pupper,puppo columns is not a defined value so it would have been better as empty string"
   ]
  },
  {
   "cell_type": "markdown",
   "metadata": {},
   "source": [
    "#### Code"
   ]
  },
  {
   "cell_type": "code",
   "execution_count": 833,
   "metadata": {},
   "outputs": [],
   "source": [
    "#replace None with empty string\n",
    "merged_df = merged_df.replace('None','')"
   ]
  },
  {
   "cell_type": "markdown",
   "metadata": {},
   "source": [
    "#### Test"
   ]
  },
  {
   "cell_type": "code",
   "execution_count": 834,
   "metadata": {},
   "outputs": [
    {
     "data": {
      "text/html": [
       "<div>\n",
       "<style scoped>\n",
       "    .dataframe tbody tr th:only-of-type {\n",
       "        vertical-align: middle;\n",
       "    }\n",
       "\n",
       "    .dataframe tbody tr th {\n",
       "        vertical-align: top;\n",
       "    }\n",
       "\n",
       "    .dataframe thead th {\n",
       "        text-align: right;\n",
       "    }\n",
       "</style>\n",
       "<table border=\"1\" class=\"dataframe\">\n",
       "  <thead>\n",
       "    <tr style=\"text-align: right;\">\n",
       "      <th></th>\n",
       "      <th>tweet_id</th>\n",
       "      <th>in_reply_to_status_id</th>\n",
       "      <th>in_reply_to_user_id</th>\n",
       "      <th>timestamp</th>\n",
       "      <th>source</th>\n",
       "      <th>text</th>\n",
       "      <th>retweeted_status_id</th>\n",
       "      <th>retweeted_status_user_id</th>\n",
       "      <th>retweeted_status_timestamp</th>\n",
       "      <th>expanded_urls</th>\n",
       "      <th>rating_numerator</th>\n",
       "      <th>rating_denominator</th>\n",
       "      <th>name</th>\n",
       "      <th>doggo</th>\n",
       "      <th>floofer</th>\n",
       "      <th>pupper</th>\n",
       "      <th>puppo</th>\n",
       "      <th>likes</th>\n",
       "      <th>retweets</th>\n",
       "    </tr>\n",
       "  </thead>\n",
       "  <tbody>\n",
       "    <tr>\n",
       "      <td>9</td>\n",
       "      <td>890240255349198849</td>\n",
       "      <td>NaN</td>\n",
       "      <td>NaN</td>\n",
       "      <td>2017-07-26 15:59:51 +0000</td>\n",
       "      <td>&lt;a href=\"http://twitter.com/download/iphone\" r...</td>\n",
       "      <td>This is Cassie. She is a college pup. Studying...</td>\n",
       "      <td>NaN</td>\n",
       "      <td>NaN</td>\n",
       "      <td>NaN</td>\n",
       "      <td>https://twitter.com/dog_rates/status/890240255...</td>\n",
       "      <td>14</td>\n",
       "      <td>10</td>\n",
       "      <td>Cassie</td>\n",
       "      <td>doggo</td>\n",
       "      <td></td>\n",
       "      <td></td>\n",
       "      <td></td>\n",
       "      <td>32467</td>\n",
       "      <td>7711</td>\n",
       "    </tr>\n",
       "    <tr>\n",
       "      <td>12</td>\n",
       "      <td>889665388333682689</td>\n",
       "      <td>NaN</td>\n",
       "      <td>NaN</td>\n",
       "      <td>2017-07-25 01:55:32 +0000</td>\n",
       "      <td>&lt;a href=\"http://twitter.com/download/iphone\" r...</td>\n",
       "      <td>Here's a puppo that seems to be on the fence a...</td>\n",
       "      <td>NaN</td>\n",
       "      <td>NaN</td>\n",
       "      <td>NaN</td>\n",
       "      <td>https://twitter.com/dog_rates/status/889665388...</td>\n",
       "      <td>13</td>\n",
       "      <td>10</td>\n",
       "      <td></td>\n",
       "      <td></td>\n",
       "      <td></td>\n",
       "      <td></td>\n",
       "      <td>puppo</td>\n",
       "      <td>38818</td>\n",
       "      <td>8538</td>\n",
       "    </tr>\n",
       "    <tr>\n",
       "      <td>14</td>\n",
       "      <td>889531135344209921</td>\n",
       "      <td>NaN</td>\n",
       "      <td>NaN</td>\n",
       "      <td>2017-07-24 17:02:04 +0000</td>\n",
       "      <td>&lt;a href=\"http://twitter.com/download/iphone\" r...</td>\n",
       "      <td>This is Stuart. He's sporting his favorite fan...</td>\n",
       "      <td>NaN</td>\n",
       "      <td>NaN</td>\n",
       "      <td>NaN</td>\n",
       "      <td>https://twitter.com/dog_rates/status/889531135...</td>\n",
       "      <td>13</td>\n",
       "      <td>10</td>\n",
       "      <td>Stuart</td>\n",
       "      <td></td>\n",
       "      <td></td>\n",
       "      <td></td>\n",
       "      <td>puppo</td>\n",
       "      <td>15359</td>\n",
       "      <td>2321</td>\n",
       "    </tr>\n",
       "  </tbody>\n",
       "</table>\n",
       "</div>"
      ],
      "text/plain": [
       "              tweet_id  in_reply_to_status_id  in_reply_to_user_id  \\\n",
       "9   890240255349198849                    NaN                  NaN   \n",
       "12  889665388333682689                    NaN                  NaN   \n",
       "14  889531135344209921                    NaN                  NaN   \n",
       "\n",
       "                    timestamp  \\\n",
       "9   2017-07-26 15:59:51 +0000   \n",
       "12  2017-07-25 01:55:32 +0000   \n",
       "14  2017-07-24 17:02:04 +0000   \n",
       "\n",
       "                                               source  \\\n",
       "9   <a href=\"http://twitter.com/download/iphone\" r...   \n",
       "12  <a href=\"http://twitter.com/download/iphone\" r...   \n",
       "14  <a href=\"http://twitter.com/download/iphone\" r...   \n",
       "\n",
       "                                                 text  retweeted_status_id  \\\n",
       "9   This is Cassie. She is a college pup. Studying...                  NaN   \n",
       "12  Here's a puppo that seems to be on the fence a...                  NaN   \n",
       "14  This is Stuart. He's sporting his favorite fan...                  NaN   \n",
       "\n",
       "    retweeted_status_user_id  retweeted_status_timestamp  \\\n",
       "9                        NaN                         NaN   \n",
       "12                       NaN                         NaN   \n",
       "14                       NaN                         NaN   \n",
       "\n",
       "                                        expanded_urls  rating_numerator  \\\n",
       "9   https://twitter.com/dog_rates/status/890240255...                14   \n",
       "12  https://twitter.com/dog_rates/status/889665388...                13   \n",
       "14  https://twitter.com/dog_rates/status/889531135...                13   \n",
       "\n",
       "    rating_denominator    name  doggo floofer pupper  puppo  likes  retweets  \n",
       "9                   10  Cassie  doggo                        32467      7711  \n",
       "12                  10                                puppo  38818      8538  \n",
       "14                  10  Stuart                        puppo  15359      2321  "
      ]
     },
     "execution_count": 834,
     "metadata": {},
     "output_type": "execute_result"
    }
   ],
   "source": [
    "#first 3 rows\n",
    "merged_df.head(3)"
   ]
  },
  {
   "cell_type": "code",
   "execution_count": 835,
   "metadata": {},
   "outputs": [],
   "source": [
    "#get relevant columns \n",
    "merged_df = merged_df.drop(columns = ['in_reply_to_status_id','name','in_reply_to_user_id','timestamp','source','text','retweeted_status_id','retweeted_status_user_id','retweeted_status_timestamp','expanded_urls'],axis = 1)"
   ]
  },
  {
   "cell_type": "markdown",
   "metadata": {},
   "source": [
    "### Issue #10:"
   ]
  },
  {
   "cell_type": "markdown",
   "metadata": {
    "collapsed": true,
    "extensions": {
     "jupyter_dashboards": {
      "version": 1,
      "views": {
       "grid_default": {
        "hidden": true
       },
       "report_default": {
        "hidden": true
       }
      }
     }
    }
   },
   "source": [
    "#### Define : The doggo,floofer,pupper,puppo columns are supposed to be row values of a single column(dog_stage) in df_1"
   ]
  },
  {
   "cell_type": "markdown",
   "metadata": {},
   "source": [
    "#### Code"
   ]
  },
  {
   "cell_type": "code",
   "execution_count": 836,
   "metadata": {},
   "outputs": [],
   "source": [
    "#merged the four columns into one column\n",
    "merged_df['dog_stage'] =merged_df['doggo'] + merged_df['floofer'] + merged_df['pupper'] + merged_df['puppo']"
   ]
  },
  {
   "cell_type": "code",
   "execution_count": 837,
   "metadata": {},
   "outputs": [],
   "source": [
    "#drop previous dog stages columns\n",
    "merged_df = merged_df.drop(columns = ['doggo','floofer','pupper','puppo'])"
   ]
  },
  {
   "cell_type": "markdown",
   "metadata": {},
   "source": [
    "#### Test"
   ]
  },
  {
   "cell_type": "code",
   "execution_count": 838,
   "metadata": {},
   "outputs": [
    {
     "data": {
      "text/html": [
       "<div>\n",
       "<style scoped>\n",
       "    .dataframe tbody tr th:only-of-type {\n",
       "        vertical-align: middle;\n",
       "    }\n",
       "\n",
       "    .dataframe tbody tr th {\n",
       "        vertical-align: top;\n",
       "    }\n",
       "\n",
       "    .dataframe thead th {\n",
       "        text-align: right;\n",
       "    }\n",
       "</style>\n",
       "<table border=\"1\" class=\"dataframe\">\n",
       "  <thead>\n",
       "    <tr style=\"text-align: right;\">\n",
       "      <th></th>\n",
       "      <th>tweet_id</th>\n",
       "      <th>rating_numerator</th>\n",
       "      <th>rating_denominator</th>\n",
       "      <th>likes</th>\n",
       "      <th>retweets</th>\n",
       "      <th>dog_stage</th>\n",
       "    </tr>\n",
       "  </thead>\n",
       "  <tbody>\n",
       "    <tr>\n",
       "      <td>9</td>\n",
       "      <td>890240255349198849</td>\n",
       "      <td>14</td>\n",
       "      <td>10</td>\n",
       "      <td>32467</td>\n",
       "      <td>7711</td>\n",
       "      <td>doggo</td>\n",
       "    </tr>\n",
       "    <tr>\n",
       "      <td>12</td>\n",
       "      <td>889665388333682689</td>\n",
       "      <td>13</td>\n",
       "      <td>10</td>\n",
       "      <td>38818</td>\n",
       "      <td>8538</td>\n",
       "      <td>puppo</td>\n",
       "    </tr>\n",
       "    <tr>\n",
       "      <td>14</td>\n",
       "      <td>889531135344209921</td>\n",
       "      <td>13</td>\n",
       "      <td>10</td>\n",
       "      <td>15359</td>\n",
       "      <td>2321</td>\n",
       "      <td>puppo</td>\n",
       "    </tr>\n",
       "    <tr>\n",
       "      <td>28</td>\n",
       "      <td>886366144734445568</td>\n",
       "      <td>12</td>\n",
       "      <td>10</td>\n",
       "      <td>21524</td>\n",
       "      <td>3316</td>\n",
       "      <td>pupper</td>\n",
       "    </tr>\n",
       "    <tr>\n",
       "      <td>40</td>\n",
       "      <td>884162670584377345</td>\n",
       "      <td>12</td>\n",
       "      <td>10</td>\n",
       "      <td>20771</td>\n",
       "      <td>3128</td>\n",
       "      <td>doggo</td>\n",
       "    </tr>\n",
       "    <tr>\n",
       "      <td>43</td>\n",
       "      <td>883360690899218434</td>\n",
       "      <td>13</td>\n",
       "      <td>10</td>\n",
       "      <td>22986</td>\n",
       "      <td>3825</td>\n",
       "      <td>floofer</td>\n",
       "    </tr>\n",
       "    <tr>\n",
       "      <td>46</td>\n",
       "      <td>882762694511734784</td>\n",
       "      <td>12</td>\n",
       "      <td>10</td>\n",
       "      <td>28903</td>\n",
       "      <td>5134</td>\n",
       "      <td>pupper</td>\n",
       "    </tr>\n",
       "    <tr>\n",
       "      <td>53</td>\n",
       "      <td>881536004380872706</td>\n",
       "      <td>14</td>\n",
       "      <td>10</td>\n",
       "      <td>50199</td>\n",
       "      <td>16570</td>\n",
       "      <td>pupper</td>\n",
       "    </tr>\n",
       "    <tr>\n",
       "      <td>67</td>\n",
       "      <td>878776093423087618</td>\n",
       "      <td>13</td>\n",
       "      <td>10</td>\n",
       "      <td>19763</td>\n",
       "      <td>4319</td>\n",
       "      <td>puppo</td>\n",
       "    </tr>\n",
       "    <tr>\n",
       "      <td>75</td>\n",
       "      <td>876838120628539392</td>\n",
       "      <td>12</td>\n",
       "      <td>10</td>\n",
       "      <td>21125</td>\n",
       "      <td>3506</td>\n",
       "      <td>pupper</td>\n",
       "    </tr>\n",
       "  </tbody>\n",
       "</table>\n",
       "</div>"
      ],
      "text/plain": [
       "              tweet_id  rating_numerator  rating_denominator  likes  retweets  \\\n",
       "9   890240255349198849                14                  10  32467      7711   \n",
       "12  889665388333682689                13                  10  38818      8538   \n",
       "14  889531135344209921                13                  10  15359      2321   \n",
       "28  886366144734445568                12                  10  21524      3316   \n",
       "40  884162670584377345                12                  10  20771      3128   \n",
       "43  883360690899218434                13                  10  22986      3825   \n",
       "46  882762694511734784                12                  10  28903      5134   \n",
       "53  881536004380872706                14                  10  50199     16570   \n",
       "67  878776093423087618                13                  10  19763      4319   \n",
       "75  876838120628539392                12                  10  21125      3506   \n",
       "\n",
       "   dog_stage  \n",
       "9      doggo  \n",
       "12     puppo  \n",
       "14     puppo  \n",
       "28    pupper  \n",
       "40     doggo  \n",
       "43   floofer  \n",
       "46    pupper  \n",
       "53    pupper  \n",
       "67     puppo  \n",
       "75    pupper  "
      ]
     },
     "execution_count": 838,
     "metadata": {},
     "output_type": "execute_result"
    }
   ],
   "source": [
    "#first 10 rows\n",
    "merged_df.head(10)"
   ]
  },
  {
   "cell_type": "markdown",
   "metadata": {},
   "source": [
    "## Storing Data\n",
    "Save gathered, assessed, and cleaned master dataset to a CSV file named \"twitter_archive_master.csv\"."
   ]
  },
  {
   "cell_type": "code",
   "execution_count": 839,
   "metadata": {},
   "outputs": [
    {
     "data": {
      "text/plain": [
       "tweet_id                    0\n",
       "rating_numerator            0\n",
       "rating_denominator          0\n",
       "likes                       0\n",
       "retweets                    0\n",
       "dog_stage                   0\n",
       "jpg_url                     0\n",
       "number_of_images            0\n",
       "#1_prediction               0\n",
       "#1_prediction_confidence    0\n",
       "is_#1_prediction_a_dog?     0\n",
       "#2_prediction               0\n",
       "#2_prediction_confidence    0\n",
       "is_#2_prediction_a_dog?     0\n",
       "#3_prediction               0\n",
       "#3_prediction_confidence    0\n",
       "is_#3_prediction_a_dog?     0\n",
       "dtype: int64"
      ]
     },
     "execution_count": 839,
     "metadata": {},
     "output_type": "execute_result"
    }
   ],
   "source": [
    "#merging all cleaned dataframes and checking for missing values\n",
    "merged_df = merged_df.merge(image_pred_clean_2,on = 'tweet_id',how = 'inner')\n",
    "merged_df.head(3)\n",
    "merged_df.isnull().sum()"
   ]
  },
  {
   "cell_type": "code",
   "execution_count": 840,
   "metadata": {},
   "outputs": [
    {
     "data": {
      "text/plain": [
       "220"
      ]
     },
     "execution_count": 840,
     "metadata": {},
     "output_type": "execute_result"
    }
   ],
   "source": [
    "#checking for row count of cleaned dataframe\n",
    "merged_df.shape[0]"
   ]
  },
  {
   "cell_type": "code",
   "execution_count": 841,
   "metadata": {},
   "outputs": [],
   "source": [
    "#saving new dataframe as csv\n",
    "merged_df.to_csv('twitter_archive_master.csv',index = False)"
   ]
  },
  {
   "cell_type": "markdown",
   "metadata": {},
   "source": [
    "## Analyzing and Visualizing Data\n"
   ]
  },
  {
   "cell_type": "code",
   "execution_count": 842,
   "metadata": {},
   "outputs": [
    {
     "data": {
      "text/html": [
       "<div>\n",
       "<style scoped>\n",
       "    .dataframe tbody tr th:only-of-type {\n",
       "        vertical-align: middle;\n",
       "    }\n",
       "\n",
       "    .dataframe tbody tr th {\n",
       "        vertical-align: top;\n",
       "    }\n",
       "\n",
       "    .dataframe thead th {\n",
       "        text-align: right;\n",
       "    }\n",
       "</style>\n",
       "<table border=\"1\" class=\"dataframe\">\n",
       "  <thead>\n",
       "    <tr style=\"text-align: right;\">\n",
       "      <th></th>\n",
       "      <th>tweet_id</th>\n",
       "      <th>rating_numerator</th>\n",
       "      <th>rating_denominator</th>\n",
       "      <th>likes</th>\n",
       "      <th>retweets</th>\n",
       "      <th>dog_stage</th>\n",
       "      <th>jpg_url</th>\n",
       "      <th>number_of_images</th>\n",
       "      <th>#1_prediction</th>\n",
       "      <th>#1_prediction_confidence</th>\n",
       "      <th>is_#1_prediction_a_dog?</th>\n",
       "      <th>#2_prediction</th>\n",
       "      <th>#2_prediction_confidence</th>\n",
       "      <th>is_#2_prediction_a_dog?</th>\n",
       "      <th>#3_prediction</th>\n",
       "      <th>#3_prediction_confidence</th>\n",
       "      <th>is_#3_prediction_a_dog?</th>\n",
       "    </tr>\n",
       "  </thead>\n",
       "  <tbody>\n",
       "    <tr>\n",
       "      <td>0</td>\n",
       "      <td>890240255349198849</td>\n",
       "      <td>14</td>\n",
       "      <td>10</td>\n",
       "      <td>32467</td>\n",
       "      <td>7711</td>\n",
       "      <td>doggo</td>\n",
       "      <td>https://pbs.twimg.com/media/DFrEyVuW0AAO3t9.jpg</td>\n",
       "      <td>1</td>\n",
       "      <td>Pembroke</td>\n",
       "      <td>0.511319</td>\n",
       "      <td>True</td>\n",
       "      <td>Cardigan</td>\n",
       "      <td>0.451038</td>\n",
       "      <td>True</td>\n",
       "      <td>Chihuahua</td>\n",
       "      <td>0.029248</td>\n",
       "      <td>True</td>\n",
       "    </tr>\n",
       "    <tr>\n",
       "      <td>1</td>\n",
       "      <td>889665388333682689</td>\n",
       "      <td>13</td>\n",
       "      <td>10</td>\n",
       "      <td>38818</td>\n",
       "      <td>8538</td>\n",
       "      <td>puppo</td>\n",
       "      <td>https://pbs.twimg.com/media/DFi579UWsAAatzw.jpg</td>\n",
       "      <td>1</td>\n",
       "      <td>Pembroke</td>\n",
       "      <td>0.966327</td>\n",
       "      <td>True</td>\n",
       "      <td>Cardigan</td>\n",
       "      <td>0.027356</td>\n",
       "      <td>True</td>\n",
       "      <td>basenji</td>\n",
       "      <td>0.004633</td>\n",
       "      <td>True</td>\n",
       "    </tr>\n",
       "    <tr>\n",
       "      <td>2</td>\n",
       "      <td>889531135344209921</td>\n",
       "      <td>13</td>\n",
       "      <td>10</td>\n",
       "      <td>15359</td>\n",
       "      <td>2321</td>\n",
       "      <td>puppo</td>\n",
       "      <td>https://pbs.twimg.com/media/DFg_2PVW0AEHN3p.jpg</td>\n",
       "      <td>1</td>\n",
       "      <td>golden_retriever</td>\n",
       "      <td>0.953442</td>\n",
       "      <td>True</td>\n",
       "      <td>Labrador_retriever</td>\n",
       "      <td>0.013834</td>\n",
       "      <td>True</td>\n",
       "      <td>redbone</td>\n",
       "      <td>0.007958</td>\n",
       "      <td>True</td>\n",
       "    </tr>\n",
       "    <tr>\n",
       "      <td>3</td>\n",
       "      <td>886366144734445568</td>\n",
       "      <td>12</td>\n",
       "      <td>10</td>\n",
       "      <td>21524</td>\n",
       "      <td>3316</td>\n",
       "      <td>pupper</td>\n",
       "      <td>https://pbs.twimg.com/media/DE0BTnQUwAApKEH.jpg</td>\n",
       "      <td>1</td>\n",
       "      <td>French_bulldog</td>\n",
       "      <td>0.999201</td>\n",
       "      <td>True</td>\n",
       "      <td>Chihuahua</td>\n",
       "      <td>0.000361</td>\n",
       "      <td>True</td>\n",
       "      <td>Boston_bull</td>\n",
       "      <td>0.000076</td>\n",
       "      <td>True</td>\n",
       "    </tr>\n",
       "    <tr>\n",
       "      <td>4</td>\n",
       "      <td>884162670584377345</td>\n",
       "      <td>12</td>\n",
       "      <td>10</td>\n",
       "      <td>20771</td>\n",
       "      <td>3128</td>\n",
       "      <td>doggo</td>\n",
       "      <td>https://pbs.twimg.com/media/DEUtQbzW0AUTv_o.jpg</td>\n",
       "      <td>1</td>\n",
       "      <td>German_shepherd</td>\n",
       "      <td>0.707046</td>\n",
       "      <td>True</td>\n",
       "      <td>malinois</td>\n",
       "      <td>0.199396</td>\n",
       "      <td>True</td>\n",
       "      <td>Norwegian_elkhound</td>\n",
       "      <td>0.049148</td>\n",
       "      <td>True</td>\n",
       "    </tr>\n",
       "  </tbody>\n",
       "</table>\n",
       "</div>"
      ],
      "text/plain": [
       "             tweet_id  rating_numerator  rating_denominator  likes  retweets  \\\n",
       "0  890240255349198849                14                  10  32467      7711   \n",
       "1  889665388333682689                13                  10  38818      8538   \n",
       "2  889531135344209921                13                  10  15359      2321   \n",
       "3  886366144734445568                12                  10  21524      3316   \n",
       "4  884162670584377345                12                  10  20771      3128   \n",
       "\n",
       "  dog_stage                                          jpg_url  \\\n",
       "0     doggo  https://pbs.twimg.com/media/DFrEyVuW0AAO3t9.jpg   \n",
       "1     puppo  https://pbs.twimg.com/media/DFi579UWsAAatzw.jpg   \n",
       "2     puppo  https://pbs.twimg.com/media/DFg_2PVW0AEHN3p.jpg   \n",
       "3    pupper  https://pbs.twimg.com/media/DE0BTnQUwAApKEH.jpg   \n",
       "4     doggo  https://pbs.twimg.com/media/DEUtQbzW0AUTv_o.jpg   \n",
       "\n",
       "   number_of_images     #1_prediction  #1_prediction_confidence  \\\n",
       "0                 1          Pembroke                  0.511319   \n",
       "1                 1          Pembroke                  0.966327   \n",
       "2                 1  golden_retriever                  0.953442   \n",
       "3                 1    French_bulldog                  0.999201   \n",
       "4                 1   German_shepherd                  0.707046   \n",
       "\n",
       "   is_#1_prediction_a_dog?       #2_prediction  #2_prediction_confidence  \\\n",
       "0                     True            Cardigan                  0.451038   \n",
       "1                     True            Cardigan                  0.027356   \n",
       "2                     True  Labrador_retriever                  0.013834   \n",
       "3                     True           Chihuahua                  0.000361   \n",
       "4                     True            malinois                  0.199396   \n",
       "\n",
       "   is_#2_prediction_a_dog?       #3_prediction  #3_prediction_confidence  \\\n",
       "0                     True           Chihuahua                  0.029248   \n",
       "1                     True             basenji                  0.004633   \n",
       "2                     True             redbone                  0.007958   \n",
       "3                     True         Boston_bull                  0.000076   \n",
       "4                     True  Norwegian_elkhound                  0.049148   \n",
       "\n",
       "   is_#3_prediction_a_dog?  \n",
       "0                     True  \n",
       "1                     True  \n",
       "2                     True  \n",
       "3                     True  \n",
       "4                     True  "
      ]
     },
     "execution_count": 842,
     "metadata": {},
     "output_type": "execute_result"
    }
   ],
   "source": [
    "#first five rows\n",
    "merged_df.head()"
   ]
  },
  {
   "cell_type": "code",
   "execution_count": 843,
   "metadata": {},
   "outputs": [
    {
     "data": {
      "text/html": [
       "<div>\n",
       "<style scoped>\n",
       "    .dataframe tbody tr th:only-of-type {\n",
       "        vertical-align: middle;\n",
       "    }\n",
       "\n",
       "    .dataframe tbody tr th {\n",
       "        vertical-align: top;\n",
       "    }\n",
       "\n",
       "    .dataframe thead th {\n",
       "        text-align: right;\n",
       "    }\n",
       "</style>\n",
       "<table border=\"1\" class=\"dataframe\">\n",
       "  <thead>\n",
       "    <tr style=\"text-align: right;\">\n",
       "      <th></th>\n",
       "      <th>tweet_id</th>\n",
       "      <th>rating_numerator</th>\n",
       "      <th>rating_denominator</th>\n",
       "      <th>likes</th>\n",
       "      <th>retweets</th>\n",
       "      <th>dog_stage</th>\n",
       "      <th>jpg_url</th>\n",
       "      <th>number_of_images</th>\n",
       "      <th>#1_prediction</th>\n",
       "      <th>#1_prediction_confidence</th>\n",
       "      <th>is_#1_prediction_a_dog?</th>\n",
       "      <th>#2_prediction</th>\n",
       "      <th>#2_prediction_confidence</th>\n",
       "      <th>is_#2_prediction_a_dog?</th>\n",
       "      <th>#3_prediction</th>\n",
       "      <th>#3_prediction_confidence</th>\n",
       "      <th>is_#3_prediction_a_dog?</th>\n",
       "    </tr>\n",
       "  </thead>\n",
       "  <tbody>\n",
       "    <tr>\n",
       "      <td>117</td>\n",
       "      <td>721001180231503872</td>\n",
       "      <td>11</td>\n",
       "      <td>10</td>\n",
       "      <td>2748</td>\n",
       "      <td>686</td>\n",
       "      <td>pupper</td>\n",
       "      <td>https://pbs.twimg.com/media/CgGCvxAUkAAx55r.jpg</td>\n",
       "      <td>1</td>\n",
       "      <td>Samoyed</td>\n",
       "      <td>0.950053</td>\n",
       "      <td>True</td>\n",
       "      <td>washbasin</td>\n",
       "      <td>0.006321</td>\n",
       "      <td>False</td>\n",
       "      <td>tub</td>\n",
       "      <td>0.006243</td>\n",
       "      <td>False</td>\n",
       "    </tr>\n",
       "  </tbody>\n",
       "</table>\n",
       "</div>"
      ],
      "text/plain": [
       "               tweet_id  rating_numerator  rating_denominator  likes  \\\n",
       "117  721001180231503872                11                  10   2748   \n",
       "\n",
       "     retweets dog_stage                                          jpg_url  \\\n",
       "117       686    pupper  https://pbs.twimg.com/media/CgGCvxAUkAAx55r.jpg   \n",
       "\n",
       "     number_of_images #1_prediction  #1_prediction_confidence  \\\n",
       "117                 1       Samoyed                  0.950053   \n",
       "\n",
       "     is_#1_prediction_a_dog? #2_prediction  #2_prediction_confidence  \\\n",
       "117                     True     washbasin                  0.006321   \n",
       "\n",
       "     is_#2_prediction_a_dog? #3_prediction  #3_prediction_confidence  \\\n",
       "117                    False           tub                  0.006243   \n",
       "\n",
       "     is_#3_prediction_a_dog?  \n",
       "117                    False  "
      ]
     },
     "execution_count": 843,
     "metadata": {},
     "output_type": "execute_result"
    }
   ],
   "source": [
    "#getting sample of the final dataset\n",
    "merged_df.sample()"
   ]
  },
  {
   "cell_type": "code",
   "execution_count": 844,
   "metadata": {},
   "outputs": [
    {
     "data": {
      "text/html": [
       "<div>\n",
       "<style scoped>\n",
       "    .dataframe tbody tr th:only-of-type {\n",
       "        vertical-align: middle;\n",
       "    }\n",
       "\n",
       "    .dataframe tbody tr th {\n",
       "        vertical-align: top;\n",
       "    }\n",
       "\n",
       "    .dataframe thead th {\n",
       "        text-align: right;\n",
       "    }\n",
       "</style>\n",
       "<table border=\"1\" class=\"dataframe\">\n",
       "  <thead>\n",
       "    <tr style=\"text-align: right;\">\n",
       "      <th></th>\n",
       "      <th>tweet_id</th>\n",
       "      <th>rating_numerator</th>\n",
       "      <th>rating_denominator</th>\n",
       "      <th>likes</th>\n",
       "      <th>retweets</th>\n",
       "      <th>number_of_images</th>\n",
       "      <th>#1_prediction_confidence</th>\n",
       "      <th>is_#1_prediction_a_dog?</th>\n",
       "      <th>#2_prediction_confidence</th>\n",
       "      <th>is_#2_prediction_a_dog?</th>\n",
       "      <th>#3_prediction_confidence</th>\n",
       "      <th>is_#3_prediction_a_dog?</th>\n",
       "    </tr>\n",
       "  </thead>\n",
       "  <tbody>\n",
       "    <tr>\n",
       "      <td>tweet_id</td>\n",
       "      <td>1.000000</td>\n",
       "      <td>0.587298</td>\n",
       "      <td>NaN</td>\n",
       "      <td>0.479461</td>\n",
       "      <td>0.264135</td>\n",
       "      <td>0.193554</td>\n",
       "      <td>0.079083</td>\n",
       "      <td>0.142938</td>\n",
       "      <td>0.051115</td>\n",
       "      <td>0.089732</td>\n",
       "      <td>-0.088601</td>\n",
       "      <td>0.045182</td>\n",
       "    </tr>\n",
       "    <tr>\n",
       "      <td>rating_numerator</td>\n",
       "      <td>0.587298</td>\n",
       "      <td>1.000000</td>\n",
       "      <td>NaN</td>\n",
       "      <td>0.452228</td>\n",
       "      <td>0.357048</td>\n",
       "      <td>0.184731</td>\n",
       "      <td>0.074547</td>\n",
       "      <td>0.301009</td>\n",
       "      <td>0.065034</td>\n",
       "      <td>0.086826</td>\n",
       "      <td>0.002780</td>\n",
       "      <td>0.224671</td>\n",
       "    </tr>\n",
       "    <tr>\n",
       "      <td>rating_denominator</td>\n",
       "      <td>NaN</td>\n",
       "      <td>NaN</td>\n",
       "      <td>NaN</td>\n",
       "      <td>NaN</td>\n",
       "      <td>NaN</td>\n",
       "      <td>NaN</td>\n",
       "      <td>NaN</td>\n",
       "      <td>NaN</td>\n",
       "      <td>NaN</td>\n",
       "      <td>NaN</td>\n",
       "      <td>NaN</td>\n",
       "      <td>NaN</td>\n",
       "    </tr>\n",
       "    <tr>\n",
       "      <td>likes</td>\n",
       "      <td>0.479461</td>\n",
       "      <td>0.452228</td>\n",
       "      <td>NaN</td>\n",
       "      <td>1.000000</td>\n",
       "      <td>0.928054</td>\n",
       "      <td>0.107046</td>\n",
       "      <td>-0.002365</td>\n",
       "      <td>0.108993</td>\n",
       "      <td>0.019175</td>\n",
       "      <td>-0.016104</td>\n",
       "      <td>-0.054698</td>\n",
       "      <td>0.061802</td>\n",
       "    </tr>\n",
       "    <tr>\n",
       "      <td>retweets</td>\n",
       "      <td>0.264135</td>\n",
       "      <td>0.357048</td>\n",
       "      <td>NaN</td>\n",
       "      <td>0.928054</td>\n",
       "      <td>1.000000</td>\n",
       "      <td>0.053584</td>\n",
       "      <td>-0.025341</td>\n",
       "      <td>0.076759</td>\n",
       "      <td>0.030261</td>\n",
       "      <td>-0.067784</td>\n",
       "      <td>-0.029045</td>\n",
       "      <td>0.066943</td>\n",
       "    </tr>\n",
       "    <tr>\n",
       "      <td>number_of_images</td>\n",
       "      <td>0.193554</td>\n",
       "      <td>0.184731</td>\n",
       "      <td>NaN</td>\n",
       "      <td>0.107046</td>\n",
       "      <td>0.053584</td>\n",
       "      <td>1.000000</td>\n",
       "      <td>0.233373</td>\n",
       "      <td>0.037447</td>\n",
       "      <td>-0.196337</td>\n",
       "      <td>0.146544</td>\n",
       "      <td>-0.144663</td>\n",
       "      <td>0.020460</td>\n",
       "    </tr>\n",
       "    <tr>\n",
       "      <td>#1_prediction_confidence</td>\n",
       "      <td>0.079083</td>\n",
       "      <td>0.074547</td>\n",
       "      <td>NaN</td>\n",
       "      <td>-0.002365</td>\n",
       "      <td>-0.025341</td>\n",
       "      <td>0.233373</td>\n",
       "      <td>1.000000</td>\n",
       "      <td>0.195254</td>\n",
       "      <td>-0.512161</td>\n",
       "      <td>0.193666</td>\n",
       "      <td>-0.709162</td>\n",
       "      <td>0.109794</td>\n",
       "    </tr>\n",
       "    <tr>\n",
       "      <td>is_#1_prediction_a_dog?</td>\n",
       "      <td>0.142938</td>\n",
       "      <td>0.301009</td>\n",
       "      <td>NaN</td>\n",
       "      <td>0.108993</td>\n",
       "      <td>0.076759</td>\n",
       "      <td>0.037447</td>\n",
       "      <td>0.195254</td>\n",
       "      <td>1.000000</td>\n",
       "      <td>0.086575</td>\n",
       "      <td>0.316228</td>\n",
       "      <td>-0.078565</td>\n",
       "      <td>0.397360</td>\n",
       "    </tr>\n",
       "    <tr>\n",
       "      <td>#2_prediction_confidence</td>\n",
       "      <td>0.051115</td>\n",
       "      <td>0.065034</td>\n",
       "      <td>NaN</td>\n",
       "      <td>0.019175</td>\n",
       "      <td>0.030261</td>\n",
       "      <td>-0.196337</td>\n",
       "      <td>-0.512161</td>\n",
       "      <td>0.086575</td>\n",
       "      <td>1.000000</td>\n",
       "      <td>0.085673</td>\n",
       "      <td>0.418235</td>\n",
       "      <td>0.075523</td>\n",
       "    </tr>\n",
       "    <tr>\n",
       "      <td>is_#2_prediction_a_dog?</td>\n",
       "      <td>0.089732</td>\n",
       "      <td>0.086826</td>\n",
       "      <td>NaN</td>\n",
       "      <td>-0.016104</td>\n",
       "      <td>-0.067784</td>\n",
       "      <td>0.146544</td>\n",
       "      <td>0.193666</td>\n",
       "      <td>0.316228</td>\n",
       "      <td>0.085673</td>\n",
       "      <td>1.000000</td>\n",
       "      <td>-0.105310</td>\n",
       "      <td>0.381157</td>\n",
       "    </tr>\n",
       "    <tr>\n",
       "      <td>#3_prediction_confidence</td>\n",
       "      <td>-0.088601</td>\n",
       "      <td>0.002780</td>\n",
       "      <td>NaN</td>\n",
       "      <td>-0.054698</td>\n",
       "      <td>-0.029045</td>\n",
       "      <td>-0.144663</td>\n",
       "      <td>-0.709162</td>\n",
       "      <td>-0.078565</td>\n",
       "      <td>0.418235</td>\n",
       "      <td>-0.105310</td>\n",
       "      <td>1.000000</td>\n",
       "      <td>-0.034074</td>\n",
       "    </tr>\n",
       "    <tr>\n",
       "      <td>is_#3_prediction_a_dog?</td>\n",
       "      <td>0.045182</td>\n",
       "      <td>0.224671</td>\n",
       "      <td>NaN</td>\n",
       "      <td>0.061802</td>\n",
       "      <td>0.066943</td>\n",
       "      <td>0.020460</td>\n",
       "      <td>0.109794</td>\n",
       "      <td>0.397360</td>\n",
       "      <td>0.075523</td>\n",
       "      <td>0.381157</td>\n",
       "      <td>-0.034074</td>\n",
       "      <td>1.000000</td>\n",
       "    </tr>\n",
       "  </tbody>\n",
       "</table>\n",
       "</div>"
      ],
      "text/plain": [
       "                          tweet_id  rating_numerator  rating_denominator  \\\n",
       "tweet_id                  1.000000          0.587298                 NaN   \n",
       "rating_numerator          0.587298          1.000000                 NaN   \n",
       "rating_denominator             NaN               NaN                 NaN   \n",
       "likes                     0.479461          0.452228                 NaN   \n",
       "retweets                  0.264135          0.357048                 NaN   \n",
       "number_of_images          0.193554          0.184731                 NaN   \n",
       "#1_prediction_confidence  0.079083          0.074547                 NaN   \n",
       "is_#1_prediction_a_dog?   0.142938          0.301009                 NaN   \n",
       "#2_prediction_confidence  0.051115          0.065034                 NaN   \n",
       "is_#2_prediction_a_dog?   0.089732          0.086826                 NaN   \n",
       "#3_prediction_confidence -0.088601          0.002780                 NaN   \n",
       "is_#3_prediction_a_dog?   0.045182          0.224671                 NaN   \n",
       "\n",
       "                             likes  retweets  number_of_images  \\\n",
       "tweet_id                  0.479461  0.264135          0.193554   \n",
       "rating_numerator          0.452228  0.357048          0.184731   \n",
       "rating_denominator             NaN       NaN               NaN   \n",
       "likes                     1.000000  0.928054          0.107046   \n",
       "retweets                  0.928054  1.000000          0.053584   \n",
       "number_of_images          0.107046  0.053584          1.000000   \n",
       "#1_prediction_confidence -0.002365 -0.025341          0.233373   \n",
       "is_#1_prediction_a_dog?   0.108993  0.076759          0.037447   \n",
       "#2_prediction_confidence  0.019175  0.030261         -0.196337   \n",
       "is_#2_prediction_a_dog?  -0.016104 -0.067784          0.146544   \n",
       "#3_prediction_confidence -0.054698 -0.029045         -0.144663   \n",
       "is_#3_prediction_a_dog?   0.061802  0.066943          0.020460   \n",
       "\n",
       "                          #1_prediction_confidence  is_#1_prediction_a_dog?  \\\n",
       "tweet_id                                  0.079083                 0.142938   \n",
       "rating_numerator                          0.074547                 0.301009   \n",
       "rating_denominator                             NaN                      NaN   \n",
       "likes                                    -0.002365                 0.108993   \n",
       "retweets                                 -0.025341                 0.076759   \n",
       "number_of_images                          0.233373                 0.037447   \n",
       "#1_prediction_confidence                  1.000000                 0.195254   \n",
       "is_#1_prediction_a_dog?                   0.195254                 1.000000   \n",
       "#2_prediction_confidence                 -0.512161                 0.086575   \n",
       "is_#2_prediction_a_dog?                   0.193666                 0.316228   \n",
       "#3_prediction_confidence                 -0.709162                -0.078565   \n",
       "is_#3_prediction_a_dog?                   0.109794                 0.397360   \n",
       "\n",
       "                          #2_prediction_confidence  is_#2_prediction_a_dog?  \\\n",
       "tweet_id                                  0.051115                 0.089732   \n",
       "rating_numerator                          0.065034                 0.086826   \n",
       "rating_denominator                             NaN                      NaN   \n",
       "likes                                     0.019175                -0.016104   \n",
       "retweets                                  0.030261                -0.067784   \n",
       "number_of_images                         -0.196337                 0.146544   \n",
       "#1_prediction_confidence                 -0.512161                 0.193666   \n",
       "is_#1_prediction_a_dog?                   0.086575                 0.316228   \n",
       "#2_prediction_confidence                  1.000000                 0.085673   \n",
       "is_#2_prediction_a_dog?                   0.085673                 1.000000   \n",
       "#3_prediction_confidence                  0.418235                -0.105310   \n",
       "is_#3_prediction_a_dog?                   0.075523                 0.381157   \n",
       "\n",
       "                          #3_prediction_confidence  is_#3_prediction_a_dog?  \n",
       "tweet_id                                 -0.088601                 0.045182  \n",
       "rating_numerator                          0.002780                 0.224671  \n",
       "rating_denominator                             NaN                      NaN  \n",
       "likes                                    -0.054698                 0.061802  \n",
       "retweets                                 -0.029045                 0.066943  \n",
       "number_of_images                         -0.144663                 0.020460  \n",
       "#1_prediction_confidence                 -0.709162                 0.109794  \n",
       "is_#1_prediction_a_dog?                  -0.078565                 0.397360  \n",
       "#2_prediction_confidence                  0.418235                 0.075523  \n",
       "is_#2_prediction_a_dog?                  -0.105310                 0.381157  \n",
       "#3_prediction_confidence                  1.000000                -0.034074  \n",
       "is_#3_prediction_a_dog?                  -0.034074                 1.000000  "
      ]
     },
     "execution_count": 844,
     "metadata": {},
     "output_type": "execute_result"
    }
   ],
   "source": [
    "#correlation between variables\n",
    "merged_df.corr()"
   ]
  },
  {
   "cell_type": "code",
   "execution_count": 845,
   "metadata": {},
   "outputs": [
    {
     "data": {
      "text/plain": [
       "0.9280539827916023"
      ]
     },
     "execution_count": 845,
     "metadata": {},
     "output_type": "execute_result"
    }
   ],
   "source": [
    "#checking for the correlation between number of likes and number of retweets\n",
    "merged_df['likes'].corr(merged_df['retweets'])"
   ]
  },
  {
   "cell_type": "code",
   "execution_count": 846,
   "metadata": {},
   "outputs": [
    {
     "data": {
      "text/plain": [
       "-0.5121613591148019"
      ]
     },
     "execution_count": 846,
     "metadata": {},
     "output_type": "execute_result"
    }
   ],
   "source": [
    "#checking for the correlation between probability of first and second predictions\n",
    "merged_df['#1_prediction_confidence'].corr(merged_df['#2_prediction_confidence'])"
   ]
  },
  {
   "cell_type": "code",
   "execution_count": 847,
   "metadata": {},
   "outputs": [
    {
     "data": {
      "text/plain": [
       "0.4182352156510442"
      ]
     },
     "execution_count": 847,
     "metadata": {},
     "output_type": "execute_result"
    }
   ],
   "source": [
    "#checking for the correlation between probability of second and third predictions\n",
    "merged_df['#2_prediction_confidence'].corr(merged_df['#3_prediction_confidence'])"
   ]
  },
  {
   "cell_type": "code",
   "execution_count": 848,
   "metadata": {},
   "outputs": [
    {
     "data": {
      "text/html": [
       "<div>\n",
       "<style scoped>\n",
       "    .dataframe tbody tr th:only-of-type {\n",
       "        vertical-align: middle;\n",
       "    }\n",
       "\n",
       "    .dataframe tbody tr th {\n",
       "        vertical-align: top;\n",
       "    }\n",
       "\n",
       "    .dataframe thead th {\n",
       "        text-align: right;\n",
       "    }\n",
       "</style>\n",
       "<table border=\"1\" class=\"dataframe\">\n",
       "  <thead>\n",
       "    <tr style=\"text-align: right;\">\n",
       "      <th></th>\n",
       "      <th>tweet_id</th>\n",
       "      <th>rating_numerator</th>\n",
       "      <th>rating_denominator</th>\n",
       "      <th>likes</th>\n",
       "      <th>retweets</th>\n",
       "      <th>dog_stage</th>\n",
       "      <th>jpg_url</th>\n",
       "      <th>number_of_images</th>\n",
       "      <th>#1_prediction</th>\n",
       "      <th>#1_prediction_confidence</th>\n",
       "      <th>is_#1_prediction_a_dog?</th>\n",
       "      <th>#2_prediction</th>\n",
       "      <th>#2_prediction_confidence</th>\n",
       "      <th>is_#2_prediction_a_dog?</th>\n",
       "      <th>#3_prediction</th>\n",
       "      <th>#3_prediction_confidence</th>\n",
       "      <th>is_#3_prediction_a_dog?</th>\n",
       "    </tr>\n",
       "  </thead>\n",
       "  <tbody>\n",
       "  </tbody>\n",
       "</table>\n",
       "</div>"
      ],
      "text/plain": [
       "Empty DataFrame\n",
       "Columns: [tweet_id, rating_numerator, rating_denominator, likes, retweets, dog_stage, jpg_url, number_of_images, #1_prediction, #1_prediction_confidence, is_#1_prediction_a_dog?, #2_prediction, #2_prediction_confidence, is_#2_prediction_a_dog?, #3_prediction, #3_prediction_confidence, is_#3_prediction_a_dog?]\n",
       "Index: []"
      ]
     },
     "execution_count": 848,
     "metadata": {},
     "output_type": "execute_result"
    }
   ],
   "source": [
    "#checking for rows with consistent predictions(i.e all predictions are the same)\n",
    "merged_df[(merged_df['#1_prediction'] == merged_df['#2_prediction']) & (merged_df['#2_prediction'] == merged_df['#3_prediction'])]"
   ]
  },
  {
   "cell_type": "code",
   "execution_count": 849,
   "metadata": {},
   "outputs": [
    {
     "data": {
      "text/html": [
       "<div>\n",
       "<style scoped>\n",
       "    .dataframe tbody tr th:only-of-type {\n",
       "        vertical-align: middle;\n",
       "    }\n",
       "\n",
       "    .dataframe tbody tr th {\n",
       "        vertical-align: top;\n",
       "    }\n",
       "\n",
       "    .dataframe thead th {\n",
       "        text-align: right;\n",
       "    }\n",
       "</style>\n",
       "<table border=\"1\" class=\"dataframe\">\n",
       "  <thead>\n",
       "    <tr style=\"text-align: right;\">\n",
       "      <th></th>\n",
       "      <th>tweet_id</th>\n",
       "      <th>rating_numerator</th>\n",
       "      <th>rating_denominator</th>\n",
       "      <th>likes</th>\n",
       "      <th>retweets</th>\n",
       "      <th>dog_stage</th>\n",
       "      <th>jpg_url</th>\n",
       "      <th>number_of_images</th>\n",
       "      <th>#1_prediction</th>\n",
       "      <th>#1_prediction_confidence</th>\n",
       "      <th>is_#1_prediction_a_dog?</th>\n",
       "      <th>#2_prediction</th>\n",
       "      <th>#2_prediction_confidence</th>\n",
       "      <th>is_#2_prediction_a_dog?</th>\n",
       "      <th>#3_prediction</th>\n",
       "      <th>#3_prediction_confidence</th>\n",
       "      <th>is_#3_prediction_a_dog?</th>\n",
       "    </tr>\n",
       "  </thead>\n",
       "  <tbody>\n",
       "  </tbody>\n",
       "</table>\n",
       "</div>"
      ],
      "text/plain": [
       "Empty DataFrame\n",
       "Columns: [tweet_id, rating_numerator, rating_denominator, likes, retweets, dog_stage, jpg_url, number_of_images, #1_prediction, #1_prediction_confidence, is_#1_prediction_a_dog?, #2_prediction, #2_prediction_confidence, is_#2_prediction_a_dog?, #3_prediction, #3_prediction_confidence, is_#3_prediction_a_dog?]\n",
       "Index: []"
      ]
     },
     "execution_count": 849,
     "metadata": {},
     "output_type": "execute_result"
    }
   ],
   "source": [
    "#checking for rows where first and second predictions are the same\n",
    "merged_df[(merged_df['#1_prediction'] == merged_df['#2_prediction'])]"
   ]
  },
  {
   "cell_type": "code",
   "execution_count": 850,
   "metadata": {},
   "outputs": [
    {
     "data": {
      "text/html": [
       "<div>\n",
       "<style scoped>\n",
       "    .dataframe tbody tr th:only-of-type {\n",
       "        vertical-align: middle;\n",
       "    }\n",
       "\n",
       "    .dataframe tbody tr th {\n",
       "        vertical-align: top;\n",
       "    }\n",
       "\n",
       "    .dataframe thead th {\n",
       "        text-align: right;\n",
       "    }\n",
       "</style>\n",
       "<table border=\"1\" class=\"dataframe\">\n",
       "  <thead>\n",
       "    <tr style=\"text-align: right;\">\n",
       "      <th></th>\n",
       "      <th>tweet_id</th>\n",
       "      <th>rating_numerator</th>\n",
       "      <th>rating_denominator</th>\n",
       "      <th>likes</th>\n",
       "      <th>retweets</th>\n",
       "      <th>dog_stage</th>\n",
       "      <th>jpg_url</th>\n",
       "      <th>number_of_images</th>\n",
       "      <th>#1_prediction</th>\n",
       "      <th>#1_prediction_confidence</th>\n",
       "      <th>is_#1_prediction_a_dog?</th>\n",
       "      <th>#2_prediction</th>\n",
       "      <th>#2_prediction_confidence</th>\n",
       "      <th>is_#2_prediction_a_dog?</th>\n",
       "      <th>#3_prediction</th>\n",
       "      <th>#3_prediction_confidence</th>\n",
       "      <th>is_#3_prediction_a_dog?</th>\n",
       "    </tr>\n",
       "  </thead>\n",
       "  <tbody>\n",
       "  </tbody>\n",
       "</table>\n",
       "</div>"
      ],
      "text/plain": [
       "Empty DataFrame\n",
       "Columns: [tweet_id, rating_numerator, rating_denominator, likes, retweets, dog_stage, jpg_url, number_of_images, #1_prediction, #1_prediction_confidence, is_#1_prediction_a_dog?, #2_prediction, #2_prediction_confidence, is_#2_prediction_a_dog?, #3_prediction, #3_prediction_confidence, is_#3_prediction_a_dog?]\n",
       "Index: []"
      ]
     },
     "execution_count": 850,
     "metadata": {},
     "output_type": "execute_result"
    }
   ],
   "source": [
    "#checking for rows where second and third predictions are the same\n",
    "merged_df[(merged_df['#2_prediction'] == merged_df['#3_prediction'])]"
   ]
  },
  {
   "cell_type": "code",
   "execution_count": 851,
   "metadata": {},
   "outputs": [
    {
     "data": {
      "text/html": [
       "<div>\n",
       "<style scoped>\n",
       "    .dataframe tbody tr th:only-of-type {\n",
       "        vertical-align: middle;\n",
       "    }\n",
       "\n",
       "    .dataframe tbody tr th {\n",
       "        vertical-align: top;\n",
       "    }\n",
       "\n",
       "    .dataframe thead th {\n",
       "        text-align: right;\n",
       "    }\n",
       "</style>\n",
       "<table border=\"1\" class=\"dataframe\">\n",
       "  <thead>\n",
       "    <tr style=\"text-align: right;\">\n",
       "      <th></th>\n",
       "      <th>tweet_id</th>\n",
       "      <th>rating_numerator</th>\n",
       "      <th>rating_denominator</th>\n",
       "      <th>likes</th>\n",
       "      <th>retweets</th>\n",
       "      <th>dog_stage</th>\n",
       "      <th>jpg_url</th>\n",
       "      <th>number_of_images</th>\n",
       "      <th>#1_prediction</th>\n",
       "      <th>#1_prediction_confidence</th>\n",
       "      <th>is_#1_prediction_a_dog?</th>\n",
       "      <th>#2_prediction</th>\n",
       "      <th>#2_prediction_confidence</th>\n",
       "      <th>is_#2_prediction_a_dog?</th>\n",
       "      <th>#3_prediction</th>\n",
       "      <th>#3_prediction_confidence</th>\n",
       "      <th>is_#3_prediction_a_dog?</th>\n",
       "    </tr>\n",
       "  </thead>\n",
       "  <tbody>\n",
       "  </tbody>\n",
       "</table>\n",
       "</div>"
      ],
      "text/plain": [
       "Empty DataFrame\n",
       "Columns: [tweet_id, rating_numerator, rating_denominator, likes, retweets, dog_stage, jpg_url, number_of_images, #1_prediction, #1_prediction_confidence, is_#1_prediction_a_dog?, #2_prediction, #2_prediction_confidence, is_#2_prediction_a_dog?, #3_prediction, #3_prediction_confidence, is_#3_prediction_a_dog?]\n",
       "Index: []"
      ]
     },
     "execution_count": 851,
     "metadata": {},
     "output_type": "execute_result"
    }
   ],
   "source": [
    "#checking for rows where third and first predictions are the same\n",
    "merged_df[(merged_df['#3_prediction'] == merged_df['#1_prediction'])]"
   ]
  },
  {
   "cell_type": "code",
   "execution_count": 852,
   "metadata": {},
   "outputs": [
    {
     "data": {
      "text/plain": [
       "0.10704562570876705"
      ]
     },
     "execution_count": 852,
     "metadata": {},
     "output_type": "execute_result"
    }
   ],
   "source": [
    "#checking for the correlation between number of images and number of likes\n",
    "merged_df['number_of_images'].corr(merged_df['likes'])"
   ]
  },
  {
   "cell_type": "code",
   "execution_count": 853,
   "metadata": {},
   "outputs": [
    {
     "data": {
      "text/plain": [
       "0.05358355497293149"
      ]
     },
     "execution_count": 853,
     "metadata": {},
     "output_type": "execute_result"
    }
   ],
   "source": [
    "#checking for the correlation between number of images and number of retweets\n",
    "merged_df['number_of_images'].corr(merged_df['retweets'])"
   ]
  },
  {
   "cell_type": "code",
   "execution_count": 854,
   "metadata": {},
   "outputs": [
    {
     "data": {
      "text/plain": [
       "0.4522278206032588"
      ]
     },
     "execution_count": 854,
     "metadata": {},
     "output_type": "execute_result"
    }
   ],
   "source": [
    "#checking for the correlation between rating_numerator and number of likes\n",
    "merged_df['rating_numerator'].corr(merged_df['likes'])"
   ]
  },
  {
   "cell_type": "code",
   "execution_count": 855,
   "metadata": {},
   "outputs": [
    {
     "data": {
      "text/plain": [
       "0.3570478168431689"
      ]
     },
     "execution_count": 855,
     "metadata": {},
     "output_type": "execute_result"
    }
   ],
   "source": [
    "#checking for the correlation between rating_numerator and number of retweets\n",
    "merged_df['rating_numerator'].corr(merged_df['retweets'])"
   ]
  },
  {
   "cell_type": "code",
   "execution_count": 856,
   "metadata": {},
   "outputs": [
    {
     "data": {
      "text/html": [
       "<div>\n",
       "<style scoped>\n",
       "    .dataframe tbody tr th:only-of-type {\n",
       "        vertical-align: middle;\n",
       "    }\n",
       "\n",
       "    .dataframe tbody tr th {\n",
       "        vertical-align: top;\n",
       "    }\n",
       "\n",
       "    .dataframe thead th {\n",
       "        text-align: right;\n",
       "    }\n",
       "</style>\n",
       "<table border=\"1\" class=\"dataframe\">\n",
       "  <thead>\n",
       "    <tr style=\"text-align: right;\">\n",
       "      <th></th>\n",
       "      <th>tweet_id</th>\n",
       "      <th>rating_numerator</th>\n",
       "      <th>rating_denominator</th>\n",
       "      <th>likes</th>\n",
       "      <th>retweets</th>\n",
       "      <th>dog_stage</th>\n",
       "      <th>jpg_url</th>\n",
       "      <th>number_of_images</th>\n",
       "      <th>#1_prediction</th>\n",
       "      <th>#1_prediction_confidence</th>\n",
       "      <th>is_#1_prediction_a_dog?</th>\n",
       "      <th>#2_prediction</th>\n",
       "      <th>#2_prediction_confidence</th>\n",
       "      <th>is_#2_prediction_a_dog?</th>\n",
       "      <th>#3_prediction</th>\n",
       "      <th>#3_prediction_confidence</th>\n",
       "      <th>is_#3_prediction_a_dog?</th>\n",
       "    </tr>\n",
       "  </thead>\n",
       "  <tbody>\n",
       "    <tr>\n",
       "      <td>0</td>\n",
       "      <td>890240255349198849</td>\n",
       "      <td>14</td>\n",
       "      <td>10</td>\n",
       "      <td>32467</td>\n",
       "      <td>7711</td>\n",
       "      <td>doggo</td>\n",
       "      <td>https://pbs.twimg.com/media/DFrEyVuW0AAO3t9.jpg</td>\n",
       "      <td>1</td>\n",
       "      <td>Pembroke</td>\n",
       "      <td>0.511319</td>\n",
       "      <td>True</td>\n",
       "      <td>Cardigan</td>\n",
       "      <td>0.451038</td>\n",
       "      <td>True</td>\n",
       "      <td>Chihuahua</td>\n",
       "      <td>0.029248</td>\n",
       "      <td>True</td>\n",
       "    </tr>\n",
       "    <tr>\n",
       "      <td>1</td>\n",
       "      <td>889665388333682689</td>\n",
       "      <td>13</td>\n",
       "      <td>10</td>\n",
       "      <td>38818</td>\n",
       "      <td>8538</td>\n",
       "      <td>puppo</td>\n",
       "      <td>https://pbs.twimg.com/media/DFi579UWsAAatzw.jpg</td>\n",
       "      <td>1</td>\n",
       "      <td>Pembroke</td>\n",
       "      <td>0.966327</td>\n",
       "      <td>True</td>\n",
       "      <td>Cardigan</td>\n",
       "      <td>0.027356</td>\n",
       "      <td>True</td>\n",
       "      <td>basenji</td>\n",
       "      <td>0.004633</td>\n",
       "      <td>True</td>\n",
       "    </tr>\n",
       "    <tr>\n",
       "      <td>2</td>\n",
       "      <td>889531135344209921</td>\n",
       "      <td>13</td>\n",
       "      <td>10</td>\n",
       "      <td>15359</td>\n",
       "      <td>2321</td>\n",
       "      <td>puppo</td>\n",
       "      <td>https://pbs.twimg.com/media/DFg_2PVW0AEHN3p.jpg</td>\n",
       "      <td>1</td>\n",
       "      <td>golden_retriever</td>\n",
       "      <td>0.953442</td>\n",
       "      <td>True</td>\n",
       "      <td>Labrador_retriever</td>\n",
       "      <td>0.013834</td>\n",
       "      <td>True</td>\n",
       "      <td>redbone</td>\n",
       "      <td>0.007958</td>\n",
       "      <td>True</td>\n",
       "    </tr>\n",
       "    <tr>\n",
       "      <td>3</td>\n",
       "      <td>886366144734445568</td>\n",
       "      <td>12</td>\n",
       "      <td>10</td>\n",
       "      <td>21524</td>\n",
       "      <td>3316</td>\n",
       "      <td>pupper</td>\n",
       "      <td>https://pbs.twimg.com/media/DE0BTnQUwAApKEH.jpg</td>\n",
       "      <td>1</td>\n",
       "      <td>French_bulldog</td>\n",
       "      <td>0.999201</td>\n",
       "      <td>True</td>\n",
       "      <td>Chihuahua</td>\n",
       "      <td>0.000361</td>\n",
       "      <td>True</td>\n",
       "      <td>Boston_bull</td>\n",
       "      <td>0.000076</td>\n",
       "      <td>True</td>\n",
       "    </tr>\n",
       "    <tr>\n",
       "      <td>4</td>\n",
       "      <td>884162670584377345</td>\n",
       "      <td>12</td>\n",
       "      <td>10</td>\n",
       "      <td>20771</td>\n",
       "      <td>3128</td>\n",
       "      <td>doggo</td>\n",
       "      <td>https://pbs.twimg.com/media/DEUtQbzW0AUTv_o.jpg</td>\n",
       "      <td>1</td>\n",
       "      <td>German_shepherd</td>\n",
       "      <td>0.707046</td>\n",
       "      <td>True</td>\n",
       "      <td>malinois</td>\n",
       "      <td>0.199396</td>\n",
       "      <td>True</td>\n",
       "      <td>Norwegian_elkhound</td>\n",
       "      <td>0.049148</td>\n",
       "      <td>True</td>\n",
       "    </tr>\n",
       "    <tr>\n",
       "      <td>...</td>\n",
       "      <td>...</td>\n",
       "      <td>...</td>\n",
       "      <td>...</td>\n",
       "      <td>...</td>\n",
       "      <td>...</td>\n",
       "      <td>...</td>\n",
       "      <td>...</td>\n",
       "      <td>...</td>\n",
       "      <td>...</td>\n",
       "      <td>...</td>\n",
       "      <td>...</td>\n",
       "      <td>...</td>\n",
       "      <td>...</td>\n",
       "      <td>...</td>\n",
       "      <td>...</td>\n",
       "      <td>...</td>\n",
       "      <td>...</td>\n",
       "    </tr>\n",
       "    <tr>\n",
       "      <td>215</td>\n",
       "      <td>672975131468300288</td>\n",
       "      <td>10</td>\n",
       "      <td>10</td>\n",
       "      <td>1813</td>\n",
       "      <td>1015</td>\n",
       "      <td>pupper</td>\n",
       "      <td>https://pbs.twimg.com/media/CVbjRSIWsAElw2s.jpg</td>\n",
       "      <td>1</td>\n",
       "      <td>pug</td>\n",
       "      <td>0.836421</td>\n",
       "      <td>True</td>\n",
       "      <td>Brabancon_griffon</td>\n",
       "      <td>0.044668</td>\n",
       "      <td>True</td>\n",
       "      <td>French_bulldog</td>\n",
       "      <td>0.036570</td>\n",
       "      <td>True</td>\n",
       "    </tr>\n",
       "    <tr>\n",
       "      <td>216</td>\n",
       "      <td>672594978741354496</td>\n",
       "      <td>9</td>\n",
       "      <td>10</td>\n",
       "      <td>1411</td>\n",
       "      <td>661</td>\n",
       "      <td>pupper</td>\n",
       "      <td>https://pbs.twimg.com/media/CVWJkJXWsAInlZl.jpg</td>\n",
       "      <td>1</td>\n",
       "      <td>Great_Pyrenees</td>\n",
       "      <td>0.755945</td>\n",
       "      <td>True</td>\n",
       "      <td>Old_English_sheepdog</td>\n",
       "      <td>0.082337</td>\n",
       "      <td>True</td>\n",
       "      <td>Afghan_hound</td>\n",
       "      <td>0.027037</td>\n",
       "      <td>True</td>\n",
       "    </tr>\n",
       "    <tr>\n",
       "      <td>217</td>\n",
       "      <td>672481316919734272</td>\n",
       "      <td>12</td>\n",
       "      <td>10</td>\n",
       "      <td>757</td>\n",
       "      <td>137</td>\n",
       "      <td>pupper</td>\n",
       "      <td>https://pbs.twimg.com/media/CVUiMUeW4AEQgkU.jpg</td>\n",
       "      <td>1</td>\n",
       "      <td>Border_collie</td>\n",
       "      <td>0.599454</td>\n",
       "      <td>True</td>\n",
       "      <td>collie</td>\n",
       "      <td>0.106227</td>\n",
       "      <td>True</td>\n",
       "      <td>Shetland_sheepdog</td>\n",
       "      <td>0.094465</td>\n",
       "      <td>True</td>\n",
       "    </tr>\n",
       "    <tr>\n",
       "      <td>218</td>\n",
       "      <td>672254177670729728</td>\n",
       "      <td>11</td>\n",
       "      <td>10</td>\n",
       "      <td>1515</td>\n",
       "      <td>800</td>\n",
       "      <td>pupper</td>\n",
       "      <td>https://pbs.twimg.com/media/CVRTmz1WcAA4uMF.jpg</td>\n",
       "      <td>1</td>\n",
       "      <td>pug</td>\n",
       "      <td>0.979487</td>\n",
       "      <td>True</td>\n",
       "      <td>French_bulldog</td>\n",
       "      <td>0.016850</td>\n",
       "      <td>True</td>\n",
       "      <td>Norwegian_elkhound</td>\n",
       "      <td>0.001618</td>\n",
       "      <td>True</td>\n",
       "    </tr>\n",
       "    <tr>\n",
       "      <td>219</td>\n",
       "      <td>672160042234327040</td>\n",
       "      <td>8</td>\n",
       "      <td>10</td>\n",
       "      <td>918</td>\n",
       "      <td>395</td>\n",
       "      <td>pupper</td>\n",
       "      <td>https://pbs.twimg.com/media/CVP9_beUEAAwURR.jpg</td>\n",
       "      <td>1</td>\n",
       "      <td>pug</td>\n",
       "      <td>0.561027</td>\n",
       "      <td>True</td>\n",
       "      <td>French_bulldog</td>\n",
       "      <td>0.222114</td>\n",
       "      <td>True</td>\n",
       "      <td>Labrador_retriever</td>\n",
       "      <td>0.065456</td>\n",
       "      <td>True</td>\n",
       "    </tr>\n",
       "  </tbody>\n",
       "</table>\n",
       "<p>179 rows × 17 columns</p>\n",
       "</div>"
      ],
      "text/plain": [
       "               tweet_id  rating_numerator  rating_denominator  likes  \\\n",
       "0    890240255349198849                14                  10  32467   \n",
       "1    889665388333682689                13                  10  38818   \n",
       "2    889531135344209921                13                  10  15359   \n",
       "3    886366144734445568                12                  10  21524   \n",
       "4    884162670584377345                12                  10  20771   \n",
       "..                  ...               ...                 ...    ...   \n",
       "215  672975131468300288                10                  10   1813   \n",
       "216  672594978741354496                 9                  10   1411   \n",
       "217  672481316919734272                12                  10    757   \n",
       "218  672254177670729728                11                  10   1515   \n",
       "219  672160042234327040                 8                  10    918   \n",
       "\n",
       "     retweets dog_stage                                          jpg_url  \\\n",
       "0        7711     doggo  https://pbs.twimg.com/media/DFrEyVuW0AAO3t9.jpg   \n",
       "1        8538     puppo  https://pbs.twimg.com/media/DFi579UWsAAatzw.jpg   \n",
       "2        2321     puppo  https://pbs.twimg.com/media/DFg_2PVW0AEHN3p.jpg   \n",
       "3        3316    pupper  https://pbs.twimg.com/media/DE0BTnQUwAApKEH.jpg   \n",
       "4        3128     doggo  https://pbs.twimg.com/media/DEUtQbzW0AUTv_o.jpg   \n",
       "..        ...       ...                                              ...   \n",
       "215      1015    pupper  https://pbs.twimg.com/media/CVbjRSIWsAElw2s.jpg   \n",
       "216       661    pupper  https://pbs.twimg.com/media/CVWJkJXWsAInlZl.jpg   \n",
       "217       137    pupper  https://pbs.twimg.com/media/CVUiMUeW4AEQgkU.jpg   \n",
       "218       800    pupper  https://pbs.twimg.com/media/CVRTmz1WcAA4uMF.jpg   \n",
       "219       395    pupper  https://pbs.twimg.com/media/CVP9_beUEAAwURR.jpg   \n",
       "\n",
       "     number_of_images     #1_prediction  #1_prediction_confidence  \\\n",
       "0                   1          Pembroke                  0.511319   \n",
       "1                   1          Pembroke                  0.966327   \n",
       "2                   1  golden_retriever                  0.953442   \n",
       "3                   1    French_bulldog                  0.999201   \n",
       "4                   1   German_shepherd                  0.707046   \n",
       "..                ...               ...                       ...   \n",
       "215                 1               pug                  0.836421   \n",
       "216                 1    Great_Pyrenees                  0.755945   \n",
       "217                 1     Border_collie                  0.599454   \n",
       "218                 1               pug                  0.979487   \n",
       "219                 1               pug                  0.561027   \n",
       "\n",
       "     is_#1_prediction_a_dog?         #2_prediction  #2_prediction_confidence  \\\n",
       "0                       True              Cardigan                  0.451038   \n",
       "1                       True              Cardigan                  0.027356   \n",
       "2                       True    Labrador_retriever                  0.013834   \n",
       "3                       True             Chihuahua                  0.000361   \n",
       "4                       True              malinois                  0.199396   \n",
       "..                       ...                   ...                       ...   \n",
       "215                     True     Brabancon_griffon                  0.044668   \n",
       "216                     True  Old_English_sheepdog                  0.082337   \n",
       "217                     True                collie                  0.106227   \n",
       "218                     True        French_bulldog                  0.016850   \n",
       "219                     True        French_bulldog                  0.222114   \n",
       "\n",
       "     is_#2_prediction_a_dog?       #3_prediction  #3_prediction_confidence  \\\n",
       "0                       True           Chihuahua                  0.029248   \n",
       "1                       True             basenji                  0.004633   \n",
       "2                       True             redbone                  0.007958   \n",
       "3                       True         Boston_bull                  0.000076   \n",
       "4                       True  Norwegian_elkhound                  0.049148   \n",
       "..                       ...                 ...                       ...   \n",
       "215                     True      French_bulldog                  0.036570   \n",
       "216                     True        Afghan_hound                  0.027037   \n",
       "217                     True   Shetland_sheepdog                  0.094465   \n",
       "218                     True  Norwegian_elkhound                  0.001618   \n",
       "219                     True  Labrador_retriever                  0.065456   \n",
       "\n",
       "     is_#3_prediction_a_dog?  \n",
       "0                       True  \n",
       "1                       True  \n",
       "2                       True  \n",
       "3                       True  \n",
       "4                       True  \n",
       "..                       ...  \n",
       "215                     True  \n",
       "216                     True  \n",
       "217                     True  \n",
       "218                     True  \n",
       "219                     True  \n",
       "\n",
       "[179 rows x 17 columns]"
      ]
     },
     "execution_count": 856,
     "metadata": {},
     "output_type": "execute_result"
    }
   ],
   "source": [
    "#check for rows with consistent predictions of if an images contains a dog\n",
    "merged_df[(merged_df['is_#1_prediction_a_dog?'] == merged_df['is_#2_prediction_a_dog?']) & (merged_df['is_#2_prediction_a_dog?'] == merged_df['is_#3_prediction_a_dog?'])]"
   ]
  },
  {
   "cell_type": "markdown",
   "metadata": {},
   "source": [
    "### Insights:\n",
    "1. We have 179 correct out of 220 predictions of an image containing a dog which shows that the predictive model(neural networks) might be able to predict future images with the question - 'Does this image contain a dog?'\n",
    "\n",
    "2. There is a very strong correlation of magnitude 0.93 which shows that,the higher the number of likes,the higher the number of retweets\n",
    "\n",
    "3. We have no consistent predictions of dog breeds which may indicate that the neural network or kind of neural network might not be able to predict dog breed from future images"
   ]
  },
  {
   "cell_type": "markdown",
   "metadata": {
    "collapsed": true
   },
   "source": [
    "### Visualizations"
   ]
  },
  {
   "cell_type": "code",
   "execution_count": 857,
   "metadata": {},
   "outputs": [
    {
     "data": {
      "text/plain": [
       "Text(0.5, 1, 'Scatterplot of Likes versus Retweets')"
      ]
     },
     "execution_count": 857,
     "metadata": {},
     "output_type": "execute_result"
    },
    {
     "data": {
      "image/png": "[encoded data removed]",
      "text/plain": [
       "<Figure size 360x360 with 1 Axes>"
      ]
     },
     "metadata": {
      "needs_background": "light"
     },
     "output_type": "display_data"
    }
   ],
   "source": [
    "#scatter plot for relationship between likes and retweets\n",
    "sb.lmplot(x = 'likes' ,y = 'retweets',data = merged_df)\n",
    "plt.title('Scatterplot of Likes versus Retweets')"
   ]
  },
  {
   "cell_type": "markdown",
   "metadata": {},
   "source": [
    "### This indicates a very strong positive correlation"
   ]
  },
  {
   "cell_type": "code",
   "execution_count": 858,
   "metadata": {},
   "outputs": [
    {
     "data": {
      "text/plain": [
       "Text(0.5, 1, 'First Prediction versus Second Prediction')"
      ]
     },
     "execution_count": 858,
     "metadata": {},
     "output_type": "execute_result"
    },
    {
     "data": {
      "image/png": "[encoded data removed]",
      "text/plain": [
       "<Figure size 360x360 with 1 Axes>"
      ]
     },
     "metadata": {
      "needs_background": "light"
     },
     "output_type": "display_data"
    }
   ],
   "source": [
    "#scatter plot for relationship between probability of first and second predictions\n",
    "sb.lmplot(x = '#1_prediction_confidence',y = '#2_prediction_confidence',data = merged_df)\n",
    "plt.xlabel('Probability of first prediction being accurate')\n",
    "plt.ylabel('Probability of second prediction being accurate')\n",
    "plt.title('First Prediction versus Second Prediction')"
   ]
  },
  {
   "cell_type": "markdown",
   "metadata": {},
   "source": [
    "### This indicates a strong negative correlation"
   ]
  },
  {
   "cell_type": "code",
   "execution_count": 859,
   "metadata": {},
   "outputs": [
    {
     "data": {
      "text/plain": [
       "Text(0.5, 1, 'Second Prediction versus Third Prediction')"
      ]
     },
     "execution_count": 859,
     "metadata": {},
     "output_type": "execute_result"
    },
    {
     "data": {
      "image/png": "[encoded data removed]",
      "text/plain": [
       "<Figure size 360x360 with 1 Axes>"
      ]
     },
     "metadata": {
      "needs_background": "light"
     },
     "output_type": "display_data"
    }
   ],
   "source": [
    "#scatter plot for relationship between probability of second and third predictions\n",
    "sb.lmplot(x = '#2_prediction_confidence',y = '#3_prediction_confidence',data = merged_df)\n",
    "plt.xlabel('Probability of second prediction being accurate')\n",
    "plt.ylabel('Probability of third prediction being accurate')\n",
    "plt.title('Second Prediction versus Third Prediction')"
   ]
  },
  {
   "cell_type": "markdown",
   "metadata": {},
   "source": [
    "### This indicates a weak positive correlation"
   ]
  },
  {
   "cell_type": "code",
   "execution_count": 860,
   "metadata": {},
   "outputs": [
    {
     "data": {
      "text/plain": [
       "Text(0.5, 1, 'Number of images vs number of likes')"
      ]
     },
     "execution_count": 860,
     "metadata": {},
     "output_type": "execute_result"
    },
    {
     "data": {
      "image/png": "[encoded data removed]",
      "text/plain": [
       "<Figure size 360x360 with 1 Axes>"
      ]
     },
     "metadata": {
      "needs_background": "light"
     },
     "output_type": "display_data"
    }
   ],
   "source": [
    "#scatter plot for relationship between number of images and likes\n",
    "sb.lmplot(x = 'number_of_images',y = 'likes',data = merged_df)\n",
    "plt.xlabel('Number of images')\n",
    "plt.ylabel('Number of likes')\n",
    "plt.title('Number of images vs number of likes')"
   ]
  },
  {
   "cell_type": "markdown",
   "metadata": {},
   "source": [
    "### This indicates a very weak positive correlation"
   ]
  },
  {
   "cell_type": "code",
   "execution_count": 861,
   "metadata": {},
   "outputs": [
    {
     "data": {
      "text/plain": [
       "Text(0.5, 1, 'Number of images vs number of retweets')"
      ]
     },
     "execution_count": 861,
     "metadata": {},
     "output_type": "execute_result"
    },
    {
     "data": {
      "image/png": "[encoded data removed]",
      "text/plain": [
       "<Figure size 360x360 with 1 Axes>"
      ]
     },
     "metadata": {
      "needs_background": "light"
     },
     "output_type": "display_data"
    }
   ],
   "source": [
    "#scatter plot for relationship between number of images and retweets\n",
    "sb.lmplot(x = 'number_of_images',y = 'retweets',data = merged_df)\n",
    "plt.xlabel('Number of Images')\n",
    "plt.ylabel('Number of retweets')\n",
    "plt.title('Number of images vs number of retweets')"
   ]
  },
  {
   "cell_type": "markdown",
   "metadata": {},
   "source": [
    "### This indicates a weak positive correlation"
   ]
  },
  {
   "cell_type": "code",
   "execution_count": 862,
   "metadata": {},
   "outputs": [
    {
     "data": {
      "text/plain": [
       "Text(0.5, 1, 'Rating Numerator vs Number of likes')"
      ]
     },
     "execution_count": 862,
     "metadata": {},
     "output_type": "execute_result"
    },
    {
     "data": {
      "image/png": "[encoded data removed]",
      "text/plain": [
       "<Figure size 360x360 with 1 Axes>"
      ]
     },
     "metadata": {
      "needs_background": "light"
     },
     "output_type": "display_data"
    }
   ],
   "source": [
    "#scatter plot for relationship between rating_numerator and likes\n",
    "sb.lmplot(x = 'rating_numerator',y = 'likes',data = merged_df)\n",
    "plt.xlabel('Rating Numerator')\n",
    "plt.ylabel('Number of likes')\n",
    "plt.title('Rating Numerator vs Number of likes')"
   ]
  },
  {
   "cell_type": "markdown",
   "metadata": {},
   "source": [
    "### This indicates a weak positive correlation"
   ]
  },
  {
   "cell_type": "code",
   "execution_count": 863,
   "metadata": {},
   "outputs": [
    {
     "data": {
      "text/plain": [
       "Text(0.5, 1, 'Ratings Numerator vs Number of retweets')"
      ]
     },
     "execution_count": 863,
     "metadata": {},
     "output_type": "execute_result"
    },
    {
     "data": {
      "image/png": "[encoded data removed]",
      "text/plain": [
       "<Figure size 360x360 with 1 Axes>"
      ]
     },
     "metadata": {
      "needs_background": "light"
     },
     "output_type": "display_data"
    }
   ],
   "source": [
    "#scatter plot for relationship between rating_numerator and retweets\n",
    "sb.lmplot(x = 'rating_numerator',y = 'retweets',data = merged_df)\n",
    "plt.xlabel('Ratings Numerator')\n",
    "plt.ylabel('Number of retweets')\n",
    "plt.title('Ratings Numerator vs Number of retweets')"
   ]
  },
  {
   "cell_type": "markdown",
   "metadata": {},
   "source": [
    "### This indicates a weak positive correlation"
   ]
  },
  {
   "cell_type": "code",
   "execution_count": 864,
   "metadata": {},
   "outputs": [
    {
     "data": {
      "text/plain": [
       "Text(0.5, 1.0, 'Count of Dog stage')"
      ]
     },
     "execution_count": 864,
     "metadata": {},
     "output_type": "execute_result"
    },
    {
     "data": {
      "image/png": "[encoded data removed]",
      "text/plain": [
       "<Figure size 432x288 with 1 Axes>"
      ]
     },
     "metadata": {
      "needs_background": "light"
     },
     "output_type": "display_data"
    }
   ],
   "source": [
    "#Bar chart of the frequency of each dog reference name\n",
    "merged_df['dog_stage'].value_counts().plot(kind = 'barh')\n",
    "plt.xlabel('Frequency',fontsize = 15)\n",
    "plt.ylabel('Dog stage',fontsize = 15)\n",
    "plt.title(\"Count of Dog stage\",fontsize = 18)"
   ]
  },
  {
   "cell_type": "markdown",
   "metadata": {},
   "source": [
    "### This indicates that most of the dogs were puppers"
   ]
  },
  {
   "cell_type": "code",
   "execution_count": 865,
   "metadata": {},
   "outputs": [
    {
     "data": {
      "text/plain": [
       "Text(0.5, 1.0, 'Distribution of Likes')"
      ]
     },
     "execution_count": 865,
     "metadata": {},
     "output_type": "execute_result"
    },
    {
     "data": {
      "image/png": "[encoded data removed]",
      "text/plain": [
       "<Figure size 432x288 with 1 Axes>"
      ]
     },
     "metadata": {
      "needs_background": "light"
     },
     "output_type": "display_data"
    }
   ],
   "source": [
    "#histogram for distribution of likes\n",
    "merged_df.hist('likes')\n",
    "plt.title('Distribution of Likes')"
   ]
  },
  {
   "cell_type": "markdown",
   "metadata": {},
   "source": [
    "### This indicates a right skew"
   ]
  },
  {
   "cell_type": "code",
   "execution_count": 866,
   "metadata": {},
   "outputs": [
    {
     "data": {
      "text/plain": [
       "Text(0.5, 1.0, 'Distribution of Retweets')"
      ]
     },
     "execution_count": 866,
     "metadata": {},
     "output_type": "execute_result"
    },
    {
     "data": {
      "image/png": "[encoded data removed]",
      "text/plain": [
       "<Figure size 432x288 with 1 Axes>"
      ]
     },
     "metadata": {
      "needs_background": "light"
     },
     "output_type": "display_data"
    }
   ],
   "source": [
    "#histogram for distribution of retweets\n",
    "merged_df.hist('retweets')\n",
    "plt.title('Distribution of Retweets')"
   ]
  },
  {
   "cell_type": "markdown",
   "metadata": {},
   "source": [
    "### This indicates a right skew"
   ]
  }
 ],
 "metadata": {
  "extensions": {
   "jupyter_dashboards": {
    "activeView": "report_default",
    "version": 1,
    "views": {
     "grid_default": {
      "cellMargin": 10,
      "defaultCellHeight": 20,
      "maxColumns": 12,
      "name": "grid",
      "type": "grid"
     },
     "report_default": {
      "name": "report",
      "type": "report"
     }
    }
   }
  },
  "kernelspec": {
   "display_name": "Python 3",
   "language": "python",
   "name": "python3"
  },
  "language_info": {
   "codemirror_mode": {
    "name": "ipython",
    "version": 3
   },
   "file_extension": ".py",
   "mimetype": "text/x-python",
   "name": "python",
   "nbconvert_exporter": "python",
   "pygments_lexer": "ipython3",
   "version": "3.7.4"
  }
 },
 "nbformat": 4,
 "nbformat_minor": 2
}
