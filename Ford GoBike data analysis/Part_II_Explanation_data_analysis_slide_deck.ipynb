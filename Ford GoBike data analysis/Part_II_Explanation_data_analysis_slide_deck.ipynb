{
 "cells": [
  {
   "cell_type": "markdown",
   "metadata": {
    "slideshow": {
     "slide_type": "slide"
    }
   },
   "source": [
    "# Optimizing User Experience and Sustainability in Ford GoBike's Bay Area Bike Sharing System\n",
    "## by (Giwa Temitopeoluwa Hafsat)"
   ]
  },
  {
   "cell_type": "markdown",
   "metadata": {
    "slideshow": {
     "slide_type": "slide"
    }
   },
   "source": [
    "\n",
    "\n",
    "\n",
    "## Investigation Overview\n",
    "\n",
    "\n",
    "> This presentation is to show how the age of users,their gender,their ride duration might affect how consistent they are with Ford GoBike sharing system i.e the user type(customer or subscriber). \n",
    "\n",
    "> Here are the key insights I arrived at in my data exploration:\n",
    "\n",
    "* There were more of subscribers than customers in february 2019 which is a really great deal for the bike sharing system.\n",
    "\n",
    "\n",
    "* More males rented bikes than other genders\n",
    "\n",
    "\n",
    "* Most bike users spend between 0 and 60 minutes while taking a ride with the bikes\n",
    "\n",
    "\n",
    "* The bike sharing system has more bike users on thursdays and even on weekdays in general\n",
    "\n",
    "\n",
    "* Most users are between the ages of 25 and 40 years old\n",
    "\n",
    "\n",
    "* Customers spend more time on rides before getting to their destinations\n",
    "\n",
    "\n",
    "* Users take more time before dropping the bikes are the nearest end stations on weekends\n",
    "\n",
    "\n",
    "* There is a weak negative relationship between age and ride duration of customers i.e the higher their age,the lower their ride durations\n",
    "\n",
    "\n",
    "* There is a weak positive relationship between age and ride duration of subscribers i.e the higher their age,the higher their ride durations\n",
    "\n",
    "\n",
    "\n",
    "\n"
   ]
  },
  {
   "cell_type": "markdown",
   "metadata": {
    "slideshow": {
     "slide_type": "slide"
    }
   },
   "source": [
    "## Dataset Overview\n",
    "\n",
    "> The dataset was gathered for the rides in February 2019.It is made up of 183412 rows and 16 columns where 9 of the columns are numeric in nature,5 are categorical while the rest are time format."
   ]
  },
  {
   "cell_type": "code",
   "execution_count": 227,
   "metadata": {
    "slideshow": {
     "slide_type": "skip"
    }
   },
   "outputs": [],
   "source": [
    "# import all packages and set plots to be embedded inline\n",
    "import numpy as np\n",
    "import pandas as pd\n",
    "import matplotlib.pyplot as plt\n",
    "import seaborn as sb\n",
    "\n",
    "%matplotlib inline\n",
    "\n",
    "# suppress warnings from final output\n",
    "import warnings\n",
    "warnings.simplefilter(\"ignore\")"
   ]
  },
  {
   "cell_type": "code",
   "execution_count": 228,
   "metadata": {
    "slideshow": {
     "slide_type": "skip"
    }
   },
   "outputs": [],
   "source": [
    "#read dataset and make copy\n",
    "ford = pd.read_csv('201902-fordgobike-tripdata.csv')\n",
    "ford_copy = ford.copy()"
   ]
  },
  {
   "cell_type": "code",
   "execution_count": 229,
   "metadata": {
    "slideshow": {
     "slide_type": "skip"
    }
   },
   "outputs": [
    {
     "data": {
      "text/html": [
       "<div>\n",
       "<style scoped>\n",
       "    .dataframe tbody tr th:only-of-type {\n",
       "        vertical-align: middle;\n",
       "    }\n",
       "\n",
       "    .dataframe tbody tr th {\n",
       "        vertical-align: top;\n",
       "    }\n",
       "\n",
       "    .dataframe thead th {\n",
       "        text-align: right;\n",
       "    }\n",
       "</style>\n",
       "<table border=\"1\" class=\"dataframe\">\n",
       "  <thead>\n",
       "    <tr style=\"text-align: right;\">\n",
       "      <th></th>\n",
       "      <th>duration_sec</th>\n",
       "      <th>start_time</th>\n",
       "      <th>end_time</th>\n",
       "      <th>start_station_id</th>\n",
       "      <th>start_station_name</th>\n",
       "      <th>start_station_latitude</th>\n",
       "      <th>start_station_longitude</th>\n",
       "      <th>end_station_id</th>\n",
       "      <th>end_station_name</th>\n",
       "      <th>end_station_latitude</th>\n",
       "      <th>end_station_longitude</th>\n",
       "      <th>bike_id</th>\n",
       "      <th>user_type</th>\n",
       "      <th>member_birth_year</th>\n",
       "      <th>member_gender</th>\n",
       "      <th>bike_share_for_all_trip</th>\n",
       "    </tr>\n",
       "  </thead>\n",
       "  <tbody>\n",
       "    <tr>\n",
       "      <td>0</td>\n",
       "      <td>52185</td>\n",
       "      <td>28/02/2019 17:32</td>\n",
       "      <td>01/03/2019 8:01</td>\n",
       "      <td>21.0</td>\n",
       "      <td>Montgomery St BART Station (Market St at 2nd St)</td>\n",
       "      <td>37.789625</td>\n",
       "      <td>-122.400811</td>\n",
       "      <td>13.0</td>\n",
       "      <td>Commercial St at Montgomery St</td>\n",
       "      <td>37.794231</td>\n",
       "      <td>-122.402923</td>\n",
       "      <td>4902</td>\n",
       "      <td>Customer</td>\n",
       "      <td>1984.0</td>\n",
       "      <td>Male</td>\n",
       "      <td>No</td>\n",
       "    </tr>\n",
       "    <tr>\n",
       "      <td>1</td>\n",
       "      <td>42521</td>\n",
       "      <td>28/02/2019 18:53</td>\n",
       "      <td>01/03/2019 6:42</td>\n",
       "      <td>23.0</td>\n",
       "      <td>The Embarcadero at Steuart St</td>\n",
       "      <td>37.791464</td>\n",
       "      <td>-122.391034</td>\n",
       "      <td>81.0</td>\n",
       "      <td>Berry St at 4th St</td>\n",
       "      <td>37.775880</td>\n",
       "      <td>-122.393170</td>\n",
       "      <td>2535</td>\n",
       "      <td>Customer</td>\n",
       "      <td>NaN</td>\n",
       "      <td>NaN</td>\n",
       "      <td>No</td>\n",
       "    </tr>\n",
       "    <tr>\n",
       "      <td>2</td>\n",
       "      <td>61854</td>\n",
       "      <td>28/02/2019 12:13</td>\n",
       "      <td>01/03/2019 5:24</td>\n",
       "      <td>86.0</td>\n",
       "      <td>Market St at Dolores St</td>\n",
       "      <td>37.769305</td>\n",
       "      <td>-122.426826</td>\n",
       "      <td>3.0</td>\n",
       "      <td>Powell St BART Station (Market St at 4th St)</td>\n",
       "      <td>37.786375</td>\n",
       "      <td>-122.404904</td>\n",
       "      <td>5905</td>\n",
       "      <td>Customer</td>\n",
       "      <td>1972.0</td>\n",
       "      <td>Male</td>\n",
       "      <td>No</td>\n",
       "    </tr>\n",
       "    <tr>\n",
       "      <td>3</td>\n",
       "      <td>36490</td>\n",
       "      <td>28/02/2019 17:54</td>\n",
       "      <td>01/03/2019 4:02</td>\n",
       "      <td>375.0</td>\n",
       "      <td>Grove St at Masonic Ave</td>\n",
       "      <td>37.774836</td>\n",
       "      <td>-122.446546</td>\n",
       "      <td>70.0</td>\n",
       "      <td>Central Ave at Fell St</td>\n",
       "      <td>37.773311</td>\n",
       "      <td>-122.444293</td>\n",
       "      <td>6638</td>\n",
       "      <td>Subscriber</td>\n",
       "      <td>1989.0</td>\n",
       "      <td>Other</td>\n",
       "      <td>No</td>\n",
       "    </tr>\n",
       "    <tr>\n",
       "      <td>4</td>\n",
       "      <td>1585</td>\n",
       "      <td>28/02/2019 23:54</td>\n",
       "      <td>01/03/2019 0:20</td>\n",
       "      <td>7.0</td>\n",
       "      <td>Frank H Ogawa Plaza</td>\n",
       "      <td>37.804562</td>\n",
       "      <td>-122.271738</td>\n",
       "      <td>222.0</td>\n",
       "      <td>10th Ave at E 15th St</td>\n",
       "      <td>37.792714</td>\n",
       "      <td>-122.248780</td>\n",
       "      <td>4898</td>\n",
       "      <td>Subscriber</td>\n",
       "      <td>1974.0</td>\n",
       "      <td>Male</td>\n",
       "      <td>Yes</td>\n",
       "    </tr>\n",
       "    <tr>\n",
       "      <td>5</td>\n",
       "      <td>1793</td>\n",
       "      <td>28/02/2019 23:49</td>\n",
       "      <td>01/03/2019 0:19</td>\n",
       "      <td>93.0</td>\n",
       "      <td>4th St at Mission Bay Blvd S</td>\n",
       "      <td>37.770407</td>\n",
       "      <td>-122.391198</td>\n",
       "      <td>323.0</td>\n",
       "      <td>Broadway at Kearny</td>\n",
       "      <td>37.798014</td>\n",
       "      <td>-122.405950</td>\n",
       "      <td>5200</td>\n",
       "      <td>Subscriber</td>\n",
       "      <td>1959.0</td>\n",
       "      <td>Male</td>\n",
       "      <td>No</td>\n",
       "    </tr>\n",
       "    <tr>\n",
       "      <td>6</td>\n",
       "      <td>1147</td>\n",
       "      <td>28/02/2019 23:55</td>\n",
       "      <td>01/03/2019 0:14</td>\n",
       "      <td>300.0</td>\n",
       "      <td>Palm St at Willow St</td>\n",
       "      <td>37.317298</td>\n",
       "      <td>-121.884995</td>\n",
       "      <td>312.0</td>\n",
       "      <td>San Jose Diridon Station</td>\n",
       "      <td>37.329732</td>\n",
       "      <td>-121.901782</td>\n",
       "      <td>3803</td>\n",
       "      <td>Subscriber</td>\n",
       "      <td>1983.0</td>\n",
       "      <td>Female</td>\n",
       "      <td>No</td>\n",
       "    </tr>\n",
       "    <tr>\n",
       "      <td>7</td>\n",
       "      <td>1615</td>\n",
       "      <td>28/02/2019 23:41</td>\n",
       "      <td>01/03/2019 0:08</td>\n",
       "      <td>10.0</td>\n",
       "      <td>Washington St at Kearny St</td>\n",
       "      <td>37.795393</td>\n",
       "      <td>-122.404770</td>\n",
       "      <td>127.0</td>\n",
       "      <td>Valencia St at 21st St</td>\n",
       "      <td>37.756708</td>\n",
       "      <td>-122.421025</td>\n",
       "      <td>6329</td>\n",
       "      <td>Subscriber</td>\n",
       "      <td>1989.0</td>\n",
       "      <td>Male</td>\n",
       "      <td>No</td>\n",
       "    </tr>\n",
       "    <tr>\n",
       "      <td>8</td>\n",
       "      <td>1570</td>\n",
       "      <td>28/02/2019 23:41</td>\n",
       "      <td>01/03/2019 0:08</td>\n",
       "      <td>10.0</td>\n",
       "      <td>Washington St at Kearny St</td>\n",
       "      <td>37.795393</td>\n",
       "      <td>-122.404770</td>\n",
       "      <td>127.0</td>\n",
       "      <td>Valencia St at 21st St</td>\n",
       "      <td>37.756708</td>\n",
       "      <td>-122.421025</td>\n",
       "      <td>6548</td>\n",
       "      <td>Subscriber</td>\n",
       "      <td>1988.0</td>\n",
       "      <td>Other</td>\n",
       "      <td>No</td>\n",
       "    </tr>\n",
       "    <tr>\n",
       "      <td>9</td>\n",
       "      <td>1049</td>\n",
       "      <td>28/02/2019 23:49</td>\n",
       "      <td>01/03/2019 0:07</td>\n",
       "      <td>19.0</td>\n",
       "      <td>Post St at Kearny St</td>\n",
       "      <td>37.788975</td>\n",
       "      <td>-122.403452</td>\n",
       "      <td>121.0</td>\n",
       "      <td>Mission Playground</td>\n",
       "      <td>37.759210</td>\n",
       "      <td>-122.421339</td>\n",
       "      <td>6488</td>\n",
       "      <td>Subscriber</td>\n",
       "      <td>1992.0</td>\n",
       "      <td>Male</td>\n",
       "      <td>No</td>\n",
       "    </tr>\n",
       "  </tbody>\n",
       "</table>\n",
       "</div>"
      ],
      "text/plain": [
       "   duration_sec        start_time         end_time  start_station_id  \\\n",
       "0         52185  28/02/2019 17:32  01/03/2019 8:01              21.0   \n",
       "1         42521  28/02/2019 18:53  01/03/2019 6:42              23.0   \n",
       "2         61854  28/02/2019 12:13  01/03/2019 5:24              86.0   \n",
       "3         36490  28/02/2019 17:54  01/03/2019 4:02             375.0   \n",
       "4          1585  28/02/2019 23:54  01/03/2019 0:20               7.0   \n",
       "5          1793  28/02/2019 23:49  01/03/2019 0:19              93.0   \n",
       "6          1147  28/02/2019 23:55  01/03/2019 0:14             300.0   \n",
       "7          1615  28/02/2019 23:41  01/03/2019 0:08              10.0   \n",
       "8          1570  28/02/2019 23:41  01/03/2019 0:08              10.0   \n",
       "9          1049  28/02/2019 23:49  01/03/2019 0:07              19.0   \n",
       "\n",
       "                                 start_station_name  start_station_latitude  \\\n",
       "0  Montgomery St BART Station (Market St at 2nd St)               37.789625   \n",
       "1                     The Embarcadero at Steuart St               37.791464   \n",
       "2                           Market St at Dolores St               37.769305   \n",
       "3                           Grove St at Masonic Ave               37.774836   \n",
       "4                               Frank H Ogawa Plaza               37.804562   \n",
       "5                      4th St at Mission Bay Blvd S               37.770407   \n",
       "6                              Palm St at Willow St               37.317298   \n",
       "7                        Washington St at Kearny St               37.795393   \n",
       "8                        Washington St at Kearny St               37.795393   \n",
       "9                              Post St at Kearny St               37.788975   \n",
       "\n",
       "   start_station_longitude  end_station_id  \\\n",
       "0              -122.400811            13.0   \n",
       "1              -122.391034            81.0   \n",
       "2              -122.426826             3.0   \n",
       "3              -122.446546            70.0   \n",
       "4              -122.271738           222.0   \n",
       "5              -122.391198           323.0   \n",
       "6              -121.884995           312.0   \n",
       "7              -122.404770           127.0   \n",
       "8              -122.404770           127.0   \n",
       "9              -122.403452           121.0   \n",
       "\n",
       "                               end_station_name  end_station_latitude  \\\n",
       "0                Commercial St at Montgomery St             37.794231   \n",
       "1                            Berry St at 4th St             37.775880   \n",
       "2  Powell St BART Station (Market St at 4th St)             37.786375   \n",
       "3                        Central Ave at Fell St             37.773311   \n",
       "4                         10th Ave at E 15th St             37.792714   \n",
       "5                            Broadway at Kearny             37.798014   \n",
       "6                      San Jose Diridon Station             37.329732   \n",
       "7                        Valencia St at 21st St             37.756708   \n",
       "8                        Valencia St at 21st St             37.756708   \n",
       "9                            Mission Playground             37.759210   \n",
       "\n",
       "   end_station_longitude  bike_id   user_type  member_birth_year  \\\n",
       "0            -122.402923     4902    Customer             1984.0   \n",
       "1            -122.393170     2535    Customer                NaN   \n",
       "2            -122.404904     5905    Customer             1972.0   \n",
       "3            -122.444293     6638  Subscriber             1989.0   \n",
       "4            -122.248780     4898  Subscriber             1974.0   \n",
       "5            -122.405950     5200  Subscriber             1959.0   \n",
       "6            -121.901782     3803  Subscriber             1983.0   \n",
       "7            -122.421025     6329  Subscriber             1989.0   \n",
       "8            -122.421025     6548  Subscriber             1988.0   \n",
       "9            -122.421339     6488  Subscriber             1992.0   \n",
       "\n",
       "  member_gender bike_share_for_all_trip  \n",
       "0          Male                      No  \n",
       "1           NaN                      No  \n",
       "2          Male                      No  \n",
       "3         Other                      No  \n",
       "4          Male                     Yes  \n",
       "5          Male                      No  \n",
       "6        Female                      No  \n",
       "7          Male                      No  \n",
       "8         Other                      No  \n",
       "9          Male                      No  "
      ]
     },
     "execution_count": 229,
     "metadata": {},
     "output_type": "execute_result"
    }
   ],
   "source": [
    "#get first 10 rows\n",
    "ford_copy.head(10)"
   ]
  },
  {
   "cell_type": "code",
   "execution_count": 230,
   "metadata": {
    "slideshow": {
     "slide_type": "skip"
    }
   },
   "outputs": [
    {
     "data": {
      "text/html": [
       "<div>\n",
       "<style scoped>\n",
       "    .dataframe tbody tr th:only-of-type {\n",
       "        vertical-align: middle;\n",
       "    }\n",
       "\n",
       "    .dataframe tbody tr th {\n",
       "        vertical-align: top;\n",
       "    }\n",
       "\n",
       "    .dataframe thead th {\n",
       "        text-align: right;\n",
       "    }\n",
       "</style>\n",
       "<table border=\"1\" class=\"dataframe\">\n",
       "  <thead>\n",
       "    <tr style=\"text-align: right;\">\n",
       "      <th></th>\n",
       "      <th>duration_sec</th>\n",
       "      <th>start_time</th>\n",
       "      <th>end_time</th>\n",
       "      <th>start_station_id</th>\n",
       "      <th>start_station_name</th>\n",
       "      <th>start_station_latitude</th>\n",
       "      <th>start_station_longitude</th>\n",
       "      <th>end_station_id</th>\n",
       "      <th>end_station_name</th>\n",
       "      <th>end_station_latitude</th>\n",
       "      <th>end_station_longitude</th>\n",
       "      <th>bike_id</th>\n",
       "      <th>user_type</th>\n",
       "      <th>member_birth_year</th>\n",
       "      <th>member_gender</th>\n",
       "      <th>bike_share_for_all_trip</th>\n",
       "    </tr>\n",
       "  </thead>\n",
       "  <tbody>\n",
       "    <tr>\n",
       "      <td>183402</td>\n",
       "      <td>122</td>\n",
       "      <td>01/02/2019 0:17</td>\n",
       "      <td>01/02/2019 0:19</td>\n",
       "      <td>119.0</td>\n",
       "      <td>18th St at Noe St</td>\n",
       "      <td>37.761047</td>\n",
       "      <td>-122.432642</td>\n",
       "      <td>120.0</td>\n",
       "      <td>Mission Dolores Park</td>\n",
       "      <td>37.761420</td>\n",
       "      <td>-122.426435</td>\n",
       "      <td>4326</td>\n",
       "      <td>Subscriber</td>\n",
       "      <td>NaN</td>\n",
       "      <td>NaN</td>\n",
       "      <td>No</td>\n",
       "    </tr>\n",
       "    <tr>\n",
       "      <td>183403</td>\n",
       "      <td>249</td>\n",
       "      <td>01/02/2019 0:15</td>\n",
       "      <td>01/02/2019 0:19</td>\n",
       "      <td>256.0</td>\n",
       "      <td>Hearst Ave at Euclid Ave</td>\n",
       "      <td>37.875112</td>\n",
       "      <td>-122.260553</td>\n",
       "      <td>247.0</td>\n",
       "      <td>Fulton St at Bancroft Way</td>\n",
       "      <td>37.867789</td>\n",
       "      <td>-122.265896</td>\n",
       "      <td>4642</td>\n",
       "      <td>Subscriber</td>\n",
       "      <td>2000.0</td>\n",
       "      <td>Male</td>\n",
       "      <td>No</td>\n",
       "    </tr>\n",
       "    <tr>\n",
       "      <td>183404</td>\n",
       "      <td>256</td>\n",
       "      <td>01/02/2019 0:12</td>\n",
       "      <td>01/02/2019 0:17</td>\n",
       "      <td>241.0</td>\n",
       "      <td>Ashby BART Station</td>\n",
       "      <td>37.852477</td>\n",
       "      <td>-122.270213</td>\n",
       "      <td>248.0</td>\n",
       "      <td>Telegraph Ave at Ashby Ave</td>\n",
       "      <td>37.855956</td>\n",
       "      <td>-122.259795</td>\n",
       "      <td>4845</td>\n",
       "      <td>Subscriber</td>\n",
       "      <td>1980.0</td>\n",
       "      <td>Male</td>\n",
       "      <td>Yes</td>\n",
       "    </tr>\n",
       "    <tr>\n",
       "      <td>183405</td>\n",
       "      <td>111</td>\n",
       "      <td>01/02/2019 0:14</td>\n",
       "      <td>01/02/2019 0:16</td>\n",
       "      <td>324.0</td>\n",
       "      <td>Union Square (Powell St at Post St)</td>\n",
       "      <td>37.788300</td>\n",
       "      <td>-122.408531</td>\n",
       "      <td>19.0</td>\n",
       "      <td>Post St at Kearny St</td>\n",
       "      <td>37.788975</td>\n",
       "      <td>-122.403452</td>\n",
       "      <td>4832</td>\n",
       "      <td>Subscriber</td>\n",
       "      <td>1984.0</td>\n",
       "      <td>Male</td>\n",
       "      <td>No</td>\n",
       "    </tr>\n",
       "    <tr>\n",
       "      <td>183406</td>\n",
       "      <td>706</td>\n",
       "      <td>01/02/2019 0:04</td>\n",
       "      <td>01/02/2019 0:16</td>\n",
       "      <td>138.0</td>\n",
       "      <td>Jersey St at Church St</td>\n",
       "      <td>37.750900</td>\n",
       "      <td>-122.427411</td>\n",
       "      <td>78.0</td>\n",
       "      <td>Folsom St at 9th St</td>\n",
       "      <td>37.773717</td>\n",
       "      <td>-122.411647</td>\n",
       "      <td>5017</td>\n",
       "      <td>Subscriber</td>\n",
       "      <td>1988.0</td>\n",
       "      <td>Male</td>\n",
       "      <td>No</td>\n",
       "    </tr>\n",
       "    <tr>\n",
       "      <td>183407</td>\n",
       "      <td>480</td>\n",
       "      <td>01/02/2019 0:04</td>\n",
       "      <td>01/02/2019 0:12</td>\n",
       "      <td>27.0</td>\n",
       "      <td>Beale St at Harrison St</td>\n",
       "      <td>37.788059</td>\n",
       "      <td>-122.391865</td>\n",
       "      <td>324.0</td>\n",
       "      <td>Union Square (Powell St at Post St)</td>\n",
       "      <td>37.788300</td>\n",
       "      <td>-122.408531</td>\n",
       "      <td>4832</td>\n",
       "      <td>Subscriber</td>\n",
       "      <td>1996.0</td>\n",
       "      <td>Male</td>\n",
       "      <td>No</td>\n",
       "    </tr>\n",
       "    <tr>\n",
       "      <td>183408</td>\n",
       "      <td>313</td>\n",
       "      <td>01/02/2019 0:05</td>\n",
       "      <td>01/02/2019 0:10</td>\n",
       "      <td>21.0</td>\n",
       "      <td>Montgomery St BART Station (Market St at 2nd St)</td>\n",
       "      <td>37.789625</td>\n",
       "      <td>-122.400811</td>\n",
       "      <td>66.0</td>\n",
       "      <td>3rd St at Townsend St</td>\n",
       "      <td>37.778742</td>\n",
       "      <td>-122.392741</td>\n",
       "      <td>4960</td>\n",
       "      <td>Subscriber</td>\n",
       "      <td>1984.0</td>\n",
       "      <td>Male</td>\n",
       "      <td>No</td>\n",
       "    </tr>\n",
       "    <tr>\n",
       "      <td>183409</td>\n",
       "      <td>141</td>\n",
       "      <td>01/02/2019 0:06</td>\n",
       "      <td>01/02/2019 0:08</td>\n",
       "      <td>278.0</td>\n",
       "      <td>The Alameda at Bush St</td>\n",
       "      <td>37.331932</td>\n",
       "      <td>-121.904888</td>\n",
       "      <td>277.0</td>\n",
       "      <td>Morrison Ave at Julian St</td>\n",
       "      <td>37.333658</td>\n",
       "      <td>-121.908586</td>\n",
       "      <td>3824</td>\n",
       "      <td>Subscriber</td>\n",
       "      <td>1990.0</td>\n",
       "      <td>Male</td>\n",
       "      <td>Yes</td>\n",
       "    </tr>\n",
       "    <tr>\n",
       "      <td>183410</td>\n",
       "      <td>139</td>\n",
       "      <td>01/02/2019 0:05</td>\n",
       "      <td>01/02/2019 0:07</td>\n",
       "      <td>220.0</td>\n",
       "      <td>San Pablo Ave at MLK Jr Way</td>\n",
       "      <td>37.811351</td>\n",
       "      <td>-122.273422</td>\n",
       "      <td>216.0</td>\n",
       "      <td>San Pablo Ave at 27th St</td>\n",
       "      <td>37.817827</td>\n",
       "      <td>-122.275698</td>\n",
       "      <td>5095</td>\n",
       "      <td>Subscriber</td>\n",
       "      <td>1988.0</td>\n",
       "      <td>Male</td>\n",
       "      <td>No</td>\n",
       "    </tr>\n",
       "    <tr>\n",
       "      <td>183411</td>\n",
       "      <td>271</td>\n",
       "      <td>01/02/2019 0:00</td>\n",
       "      <td>01/02/2019 0:04</td>\n",
       "      <td>24.0</td>\n",
       "      <td>Spear St at Folsom St</td>\n",
       "      <td>37.789677</td>\n",
       "      <td>-122.390428</td>\n",
       "      <td>37.0</td>\n",
       "      <td>2nd St at Folsom St</td>\n",
       "      <td>37.785000</td>\n",
       "      <td>-122.395936</td>\n",
       "      <td>1057</td>\n",
       "      <td>Subscriber</td>\n",
       "      <td>1989.0</td>\n",
       "      <td>Male</td>\n",
       "      <td>No</td>\n",
       "    </tr>\n",
       "  </tbody>\n",
       "</table>\n",
       "</div>"
      ],
      "text/plain": [
       "        duration_sec       start_time         end_time  start_station_id  \\\n",
       "183402           122  01/02/2019 0:17  01/02/2019 0:19             119.0   \n",
       "183403           249  01/02/2019 0:15  01/02/2019 0:19             256.0   \n",
       "183404           256  01/02/2019 0:12  01/02/2019 0:17             241.0   \n",
       "183405           111  01/02/2019 0:14  01/02/2019 0:16             324.0   \n",
       "183406           706  01/02/2019 0:04  01/02/2019 0:16             138.0   \n",
       "183407           480  01/02/2019 0:04  01/02/2019 0:12              27.0   \n",
       "183408           313  01/02/2019 0:05  01/02/2019 0:10              21.0   \n",
       "183409           141  01/02/2019 0:06  01/02/2019 0:08             278.0   \n",
       "183410           139  01/02/2019 0:05  01/02/2019 0:07             220.0   \n",
       "183411           271  01/02/2019 0:00  01/02/2019 0:04              24.0   \n",
       "\n",
       "                                      start_station_name  \\\n",
       "183402                                 18th St at Noe St   \n",
       "183403                          Hearst Ave at Euclid Ave   \n",
       "183404                                Ashby BART Station   \n",
       "183405               Union Square (Powell St at Post St)   \n",
       "183406                            Jersey St at Church St   \n",
       "183407                           Beale St at Harrison St   \n",
       "183408  Montgomery St BART Station (Market St at 2nd St)   \n",
       "183409                            The Alameda at Bush St   \n",
       "183410                       San Pablo Ave at MLK Jr Way   \n",
       "183411                             Spear St at Folsom St   \n",
       "\n",
       "        start_station_latitude  start_station_longitude  end_station_id  \\\n",
       "183402               37.761047              -122.432642           120.0   \n",
       "183403               37.875112              -122.260553           247.0   \n",
       "183404               37.852477              -122.270213           248.0   \n",
       "183405               37.788300              -122.408531            19.0   \n",
       "183406               37.750900              -122.427411            78.0   \n",
       "183407               37.788059              -122.391865           324.0   \n",
       "183408               37.789625              -122.400811            66.0   \n",
       "183409               37.331932              -121.904888           277.0   \n",
       "183410               37.811351              -122.273422           216.0   \n",
       "183411               37.789677              -122.390428            37.0   \n",
       "\n",
       "                           end_station_name  end_station_latitude  \\\n",
       "183402                 Mission Dolores Park             37.761420   \n",
       "183403            Fulton St at Bancroft Way             37.867789   \n",
       "183404           Telegraph Ave at Ashby Ave             37.855956   \n",
       "183405                 Post St at Kearny St             37.788975   \n",
       "183406                  Folsom St at 9th St             37.773717   \n",
       "183407  Union Square (Powell St at Post St)             37.788300   \n",
       "183408                3rd St at Townsend St             37.778742   \n",
       "183409            Morrison Ave at Julian St             37.333658   \n",
       "183410             San Pablo Ave at 27th St             37.817827   \n",
       "183411                  2nd St at Folsom St             37.785000   \n",
       "\n",
       "        end_station_longitude  bike_id   user_type  member_birth_year  \\\n",
       "183402            -122.426435     4326  Subscriber                NaN   \n",
       "183403            -122.265896     4642  Subscriber             2000.0   \n",
       "183404            -122.259795     4845  Subscriber             1980.0   \n",
       "183405            -122.403452     4832  Subscriber             1984.0   \n",
       "183406            -122.411647     5017  Subscriber             1988.0   \n",
       "183407            -122.408531     4832  Subscriber             1996.0   \n",
       "183408            -122.392741     4960  Subscriber             1984.0   \n",
       "183409            -121.908586     3824  Subscriber             1990.0   \n",
       "183410            -122.275698     5095  Subscriber             1988.0   \n",
       "183411            -122.395936     1057  Subscriber             1989.0   \n",
       "\n",
       "       member_gender bike_share_for_all_trip  \n",
       "183402           NaN                      No  \n",
       "183403          Male                      No  \n",
       "183404          Male                     Yes  \n",
       "183405          Male                      No  \n",
       "183406          Male                      No  \n",
       "183407          Male                      No  \n",
       "183408          Male                      No  \n",
       "183409          Male                     Yes  \n",
       "183410          Male                      No  \n",
       "183411          Male                      No  "
      ]
     },
     "execution_count": 230,
     "metadata": {},
     "output_type": "execute_result"
    }
   ],
   "source": [
    "#get last 10 rows\n",
    "ford_copy.tail(10)"
   ]
  },
  {
   "cell_type": "code",
   "execution_count": 231,
   "metadata": {
    "slideshow": {
     "slide_type": "skip"
    }
   },
   "outputs": [
    {
     "data": {
      "text/html": [
       "<div>\n",
       "<style scoped>\n",
       "    .dataframe tbody tr th:only-of-type {\n",
       "        vertical-align: middle;\n",
       "    }\n",
       "\n",
       "    .dataframe tbody tr th {\n",
       "        vertical-align: top;\n",
       "    }\n",
       "\n",
       "    .dataframe thead th {\n",
       "        text-align: right;\n",
       "    }\n",
       "</style>\n",
       "<table border=\"1\" class=\"dataframe\">\n",
       "  <thead>\n",
       "    <tr style=\"text-align: right;\">\n",
       "      <th></th>\n",
       "      <th>duration_sec</th>\n",
       "      <th>start_time</th>\n",
       "      <th>end_time</th>\n",
       "      <th>start_station_id</th>\n",
       "      <th>start_station_name</th>\n",
       "      <th>start_station_latitude</th>\n",
       "      <th>start_station_longitude</th>\n",
       "      <th>end_station_id</th>\n",
       "      <th>end_station_name</th>\n",
       "      <th>end_station_latitude</th>\n",
       "      <th>end_station_longitude</th>\n",
       "      <th>bike_id</th>\n",
       "      <th>user_type</th>\n",
       "      <th>member_birth_year</th>\n",
       "      <th>member_gender</th>\n",
       "      <th>bike_share_for_all_trip</th>\n",
       "    </tr>\n",
       "  </thead>\n",
       "  <tbody>\n",
       "    <tr>\n",
       "      <td>149780</td>\n",
       "      <td>918</td>\n",
       "      <td>06/02/2019 18:43</td>\n",
       "      <td>06/02/2019 18:58</td>\n",
       "      <td>15.0</td>\n",
       "      <td>San Francisco Ferry Building (Harry Bridges Pl...</td>\n",
       "      <td>37.795392</td>\n",
       "      <td>-122.394203</td>\n",
       "      <td>115.0</td>\n",
       "      <td>Jackson Playground</td>\n",
       "      <td>37.765026</td>\n",
       "      <td>-122.398773</td>\n",
       "      <td>5357</td>\n",
       "      <td>Subscriber</td>\n",
       "      <td>1983.0</td>\n",
       "      <td>Female</td>\n",
       "      <td>No</td>\n",
       "    </tr>\n",
       "    <tr>\n",
       "      <td>167451</td>\n",
       "      <td>605</td>\n",
       "      <td>04/02/2019 17:12</td>\n",
       "      <td>04/02/2019 17:22</td>\n",
       "      <td>30.0</td>\n",
       "      <td>San Francisco Caltrain (Townsend St at 4th St)</td>\n",
       "      <td>37.776598</td>\n",
       "      <td>-122.395282</td>\n",
       "      <td>3.0</td>\n",
       "      <td>Powell St BART Station (Market St at 4th St)</td>\n",
       "      <td>37.786375</td>\n",
       "      <td>-122.404904</td>\n",
       "      <td>4924</td>\n",
       "      <td>Subscriber</td>\n",
       "      <td>1995.0</td>\n",
       "      <td>Male</td>\n",
       "      <td>No</td>\n",
       "    </tr>\n",
       "    <tr>\n",
       "      <td>146964</td>\n",
       "      <td>648</td>\n",
       "      <td>07/02/2019 8:16</td>\n",
       "      <td>07/02/2019 8:27</td>\n",
       "      <td>85.0</td>\n",
       "      <td>Church St at Duboce Ave</td>\n",
       "      <td>37.770083</td>\n",
       "      <td>-122.429156</td>\n",
       "      <td>3.0</td>\n",
       "      <td>Powell St BART Station (Market St at 4th St)</td>\n",
       "      <td>37.786375</td>\n",
       "      <td>-122.404904</td>\n",
       "      <td>5412</td>\n",
       "      <td>Customer</td>\n",
       "      <td>1984.0</td>\n",
       "      <td>Male</td>\n",
       "      <td>No</td>\n",
       "    </tr>\n",
       "    <tr>\n",
       "      <td>100915</td>\n",
       "      <td>494</td>\n",
       "      <td>14/02/2019 17:57</td>\n",
       "      <td>14/02/2019 18:05</td>\n",
       "      <td>372.0</td>\n",
       "      <td>Madison St at 17th St</td>\n",
       "      <td>37.804037</td>\n",
       "      <td>-122.262409</td>\n",
       "      <td>193.0</td>\n",
       "      <td>Grand Ave at Santa Clara Ave</td>\n",
       "      <td>37.812744</td>\n",
       "      <td>-122.247215</td>\n",
       "      <td>4807</td>\n",
       "      <td>Subscriber</td>\n",
       "      <td>1985.0</td>\n",
       "      <td>Female</td>\n",
       "      <td>No</td>\n",
       "    </tr>\n",
       "    <tr>\n",
       "      <td>13475</td>\n",
       "      <td>200</td>\n",
       "      <td>27/02/2019 16:05</td>\n",
       "      <td>27/02/2019 16:09</td>\n",
       "      <td>239.0</td>\n",
       "      <td>Bancroft Way at Telegraph Ave</td>\n",
       "      <td>37.868813</td>\n",
       "      <td>-122.258764</td>\n",
       "      <td>247.0</td>\n",
       "      <td>Fulton St at Bancroft Way</td>\n",
       "      <td>37.867789</td>\n",
       "      <td>-122.265896</td>\n",
       "      <td>4754</td>\n",
       "      <td>Subscriber</td>\n",
       "      <td>1997.0</td>\n",
       "      <td>Male</td>\n",
       "      <td>Yes</td>\n",
       "    </tr>\n",
       "    <tr>\n",
       "      <td>50983</td>\n",
       "      <td>483</td>\n",
       "      <td>21/02/2019 18:28</td>\n",
       "      <td>21/02/2019 18:36</td>\n",
       "      <td>58.0</td>\n",
       "      <td>Market St at 10th St</td>\n",
       "      <td>37.776619</td>\n",
       "      <td>-122.417385</td>\n",
       "      <td>107.0</td>\n",
       "      <td>17th St at Dolores St</td>\n",
       "      <td>37.763015</td>\n",
       "      <td>-122.426497</td>\n",
       "      <td>5084</td>\n",
       "      <td>Subscriber</td>\n",
       "      <td>1992.0</td>\n",
       "      <td>Male</td>\n",
       "      <td>No</td>\n",
       "    </tr>\n",
       "    <tr>\n",
       "      <td>165101</td>\n",
       "      <td>679</td>\n",
       "      <td>05/02/2019 7:41</td>\n",
       "      <td>05/02/2019 7:52</td>\n",
       "      <td>22.0</td>\n",
       "      <td>Howard St at Beale St</td>\n",
       "      <td>37.789756</td>\n",
       "      <td>-122.394643</td>\n",
       "      <td>10.0</td>\n",
       "      <td>Washington St at Kearny St</td>\n",
       "      <td>37.795393</td>\n",
       "      <td>-122.404770</td>\n",
       "      <td>3643</td>\n",
       "      <td>Subscriber</td>\n",
       "      <td>NaN</td>\n",
       "      <td>NaN</td>\n",
       "      <td>No</td>\n",
       "    </tr>\n",
       "    <tr>\n",
       "      <td>5031</td>\n",
       "      <td>311</td>\n",
       "      <td>28/02/2019 14:17</td>\n",
       "      <td>28/02/2019 14:22</td>\n",
       "      <td>269.0</td>\n",
       "      <td>Telegraph Ave at Carleton St</td>\n",
       "      <td>37.862320</td>\n",
       "      <td>-122.258801</td>\n",
       "      <td>243.0</td>\n",
       "      <td>Bancroft Way at College Ave</td>\n",
       "      <td>37.869360</td>\n",
       "      <td>-122.254337</td>\n",
       "      <td>4710</td>\n",
       "      <td>Subscriber</td>\n",
       "      <td>1985.0</td>\n",
       "      <td>Female</td>\n",
       "      <td>No</td>\n",
       "    </tr>\n",
       "    <tr>\n",
       "      <td>38688</td>\n",
       "      <td>2496</td>\n",
       "      <td>23/02/2019 10:54</td>\n",
       "      <td>23/02/2019 11:36</td>\n",
       "      <td>380.0</td>\n",
       "      <td>Masonic Ave at Turk St</td>\n",
       "      <td>37.779047</td>\n",
       "      <td>-122.447291</td>\n",
       "      <td>15.0</td>\n",
       "      <td>San Francisco Ferry Building (Harry Bridges Pl...</td>\n",
       "      <td>37.795392</td>\n",
       "      <td>-122.394203</td>\n",
       "      <td>6389</td>\n",
       "      <td>Subscriber</td>\n",
       "      <td>1991.0</td>\n",
       "      <td>Female</td>\n",
       "      <td>No</td>\n",
       "    </tr>\n",
       "    <tr>\n",
       "      <td>149012</td>\n",
       "      <td>267</td>\n",
       "      <td>06/02/2019 20:14</td>\n",
       "      <td>06/02/2019 20:19</td>\n",
       "      <td>80.0</td>\n",
       "      <td>Townsend St at 5th St</td>\n",
       "      <td>37.775235</td>\n",
       "      <td>-122.397437</td>\n",
       "      <td>114.0</td>\n",
       "      <td>Rhode Island St at 17th St</td>\n",
       "      <td>37.764478</td>\n",
       "      <td>-122.402570</td>\n",
       "      <td>5024</td>\n",
       "      <td>Subscriber</td>\n",
       "      <td>1990.0</td>\n",
       "      <td>Female</td>\n",
       "      <td>No</td>\n",
       "    </tr>\n",
       "  </tbody>\n",
       "</table>\n",
       "</div>"
      ],
      "text/plain": [
       "        duration_sec        start_time          end_time  start_station_id  \\\n",
       "149780           918  06/02/2019 18:43  06/02/2019 18:58              15.0   \n",
       "167451           605  04/02/2019 17:12  04/02/2019 17:22              30.0   \n",
       "146964           648   07/02/2019 8:16   07/02/2019 8:27              85.0   \n",
       "100915           494  14/02/2019 17:57  14/02/2019 18:05             372.0   \n",
       "13475            200  27/02/2019 16:05  27/02/2019 16:09             239.0   \n",
       "50983            483  21/02/2019 18:28  21/02/2019 18:36              58.0   \n",
       "165101           679   05/02/2019 7:41   05/02/2019 7:52              22.0   \n",
       "5031             311  28/02/2019 14:17  28/02/2019 14:22             269.0   \n",
       "38688           2496  23/02/2019 10:54  23/02/2019 11:36             380.0   \n",
       "149012           267  06/02/2019 20:14  06/02/2019 20:19              80.0   \n",
       "\n",
       "                                       start_station_name  \\\n",
       "149780  San Francisco Ferry Building (Harry Bridges Pl...   \n",
       "167451     San Francisco Caltrain (Townsend St at 4th St)   \n",
       "146964                            Church St at Duboce Ave   \n",
       "100915                              Madison St at 17th St   \n",
       "13475                       Bancroft Way at Telegraph Ave   \n",
       "50983                                Market St at 10th St   \n",
       "165101                              Howard St at Beale St   \n",
       "5031                         Telegraph Ave at Carleton St   \n",
       "38688                              Masonic Ave at Turk St   \n",
       "149012                              Townsend St at 5th St   \n",
       "\n",
       "        start_station_latitude  start_station_longitude  end_station_id  \\\n",
       "149780               37.795392              -122.394203           115.0   \n",
       "167451               37.776598              -122.395282             3.0   \n",
       "146964               37.770083              -122.429156             3.0   \n",
       "100915               37.804037              -122.262409           193.0   \n",
       "13475                37.868813              -122.258764           247.0   \n",
       "50983                37.776619              -122.417385           107.0   \n",
       "165101               37.789756              -122.394643            10.0   \n",
       "5031                 37.862320              -122.258801           243.0   \n",
       "38688                37.779047              -122.447291            15.0   \n",
       "149012               37.775235              -122.397437           114.0   \n",
       "\n",
       "                                         end_station_name  \\\n",
       "149780                                 Jackson Playground   \n",
       "167451       Powell St BART Station (Market St at 4th St)   \n",
       "146964       Powell St BART Station (Market St at 4th St)   \n",
       "100915                       Grand Ave at Santa Clara Ave   \n",
       "13475                           Fulton St at Bancroft Way   \n",
       "50983                               17th St at Dolores St   \n",
       "165101                         Washington St at Kearny St   \n",
       "5031                          Bancroft Way at College Ave   \n",
       "38688   San Francisco Ferry Building (Harry Bridges Pl...   \n",
       "149012                         Rhode Island St at 17th St   \n",
       "\n",
       "        end_station_latitude  end_station_longitude  bike_id   user_type  \\\n",
       "149780             37.765026            -122.398773     5357  Subscriber   \n",
       "167451             37.786375            -122.404904     4924  Subscriber   \n",
       "146964             37.786375            -122.404904     5412    Customer   \n",
       "100915             37.812744            -122.247215     4807  Subscriber   \n",
       "13475              37.867789            -122.265896     4754  Subscriber   \n",
       "50983              37.763015            -122.426497     5084  Subscriber   \n",
       "165101             37.795393            -122.404770     3643  Subscriber   \n",
       "5031               37.869360            -122.254337     4710  Subscriber   \n",
       "38688              37.795392            -122.394203     6389  Subscriber   \n",
       "149012             37.764478            -122.402570     5024  Subscriber   \n",
       "\n",
       "        member_birth_year member_gender bike_share_for_all_trip  \n",
       "149780             1983.0        Female                      No  \n",
       "167451             1995.0          Male                      No  \n",
       "146964             1984.0          Male                      No  \n",
       "100915             1985.0        Female                      No  \n",
       "13475              1997.0          Male                     Yes  \n",
       "50983              1992.0          Male                      No  \n",
       "165101                NaN           NaN                      No  \n",
       "5031               1985.0        Female                      No  \n",
       "38688              1991.0        Female                      No  \n",
       "149012             1990.0        Female                      No  "
      ]
     },
     "execution_count": 231,
     "metadata": {},
     "output_type": "execute_result"
    }
   ],
   "source": [
    "#get 10 random rows of dataset\n",
    "ford_copy.sample(10)"
   ]
  },
  {
   "cell_type": "code",
   "execution_count": 232,
   "metadata": {
    "slideshow": {
     "slide_type": "skip"
    }
   },
   "outputs": [
    {
     "name": "stdout",
     "output_type": "stream",
     "text": [
      "<class 'pandas.core.frame.DataFrame'>\n",
      "RangeIndex: 183412 entries, 0 to 183411\n",
      "Data columns (total 16 columns):\n",
      "duration_sec               183412 non-null int64\n",
      "start_time                 183412 non-null object\n",
      "end_time                   183412 non-null object\n",
      "start_station_id           183215 non-null float64\n",
      "start_station_name         183215 non-null object\n",
      "start_station_latitude     183412 non-null float64\n",
      "start_station_longitude    183412 non-null float64\n",
      "end_station_id             183215 non-null float64\n",
      "end_station_name           183215 non-null object\n",
      "end_station_latitude       183412 non-null float64\n",
      "end_station_longitude      183412 non-null float64\n",
      "bike_id                    183412 non-null int64\n",
      "user_type                  183412 non-null object\n",
      "member_birth_year          175147 non-null float64\n",
      "member_gender              175147 non-null object\n",
      "bike_share_for_all_trip    183412 non-null object\n",
      "dtypes: float64(7), int64(2), object(7)\n",
      "memory usage: 22.4+ MB\n"
     ]
    }
   ],
   "source": [
    "#obtain dataset information\n",
    "ford_copy.info()"
   ]
  },
  {
   "cell_type": "code",
   "execution_count": 233,
   "metadata": {
    "slideshow": {
     "slide_type": "skip"
    }
   },
   "outputs": [
    {
     "data": {
      "text/plain": [
       "(183412, 16)"
      ]
     },
     "execution_count": 233,
     "metadata": {},
     "output_type": "execute_result"
    }
   ],
   "source": [
    "#Check dataset dimension\n",
    "ford_copy.shape"
   ]
  },
  {
   "cell_type": "code",
   "execution_count": 234,
   "metadata": {
    "slideshow": {
     "slide_type": "skip"
    }
   },
   "outputs": [
    {
     "data": {
      "text/plain": [
       "duration_sec                  0\n",
       "start_time                    0\n",
       "end_time                      0\n",
       "start_station_id            197\n",
       "start_station_name          197\n",
       "start_station_latitude        0\n",
       "start_station_longitude       0\n",
       "end_station_id              197\n",
       "end_station_name            197\n",
       "end_station_latitude          0\n",
       "end_station_longitude         0\n",
       "bike_id                       0\n",
       "user_type                     0\n",
       "member_birth_year          8265\n",
       "member_gender              8265\n",
       "bike_share_for_all_trip       0\n",
       "dtype: int64"
      ]
     },
     "execution_count": 234,
     "metadata": {},
     "output_type": "execute_result"
    }
   ],
   "source": [
    "#check for missing values in each column\n",
    "ford_copy.isnull().sum()"
   ]
  },
  {
   "cell_type": "code",
   "execution_count": 235,
   "metadata": {
    "slideshow": {
     "slide_type": "skip"
    }
   },
   "outputs": [
    {
     "data": {
      "text/plain": [
       "0"
      ]
     },
     "execution_count": 235,
     "metadata": {},
     "output_type": "execute_result"
    }
   ],
   "source": [
    "#check for duplicates in dataset\n",
    "ford_copy.duplicated().sum()"
   ]
  },
  {
   "cell_type": "code",
   "execution_count": 236,
   "metadata": {
    "slideshow": {
     "slide_type": "skip"
    }
   },
   "outputs": [
    {
     "name": "stdout",
     "output_type": "stream",
     "text": [
      "This is the count of genders\n",
      "\n",
      "Male      130651\n",
      "Female     40844\n",
      "Other       3652\n",
      "Name: member_gender, dtype: int64\n",
      "\n",
      "This is the count of members year of birth\n",
      "\n",
      "1988.0    10236\n",
      "1993.0     9325\n",
      "1989.0     8972\n",
      "1990.0     8658\n",
      "1991.0     8498\n",
      "          ...  \n",
      "1930.0        1\n",
      "1910.0        1\n",
      "1927.0        1\n",
      "1928.0        1\n",
      "1878.0        1\n",
      "Name: member_birth_year, Length: 75, dtype: int64\n",
      "\n",
      "This is the count of shared and unshared trips\n",
      "\n",
      "No     166053\n",
      "Yes     17359\n",
      "Name: bike_share_for_all_trip, dtype: int64\n"
     ]
    }
   ],
   "source": [
    "def column_count(column):\n",
    "    return ford_copy[column].value_counts()\n",
    "\n",
    "#getting count of each gender\n",
    "print('This is the count of genders')\n",
    "print()\n",
    "print(column_count('member_gender'))\n",
    "\n",
    "#getting count of each birth year\n",
    "print()\n",
    "print('This is the count of members year of birth')\n",
    "print()\n",
    "print(column_count('member_birth_year'))\n",
    "\n",
    "#getting count for shared and unshared trips\n",
    "print()\n",
    "print('This is the count of shared and unshared trips')\n",
    "print()\n",
    "print(column_count('bike_share_for_all_trip'))"
   ]
  },
  {
   "cell_type": "code",
   "execution_count": 237,
   "metadata": {
    "slideshow": {
     "slide_type": "skip"
    }
   },
   "outputs": [
    {
     "name": "stdout",
     "output_type": "stream",
     "text": [
      "\n",
      "This is the count of bike start stations\n",
      "\n",
      "Market St at 10th St                                         3904\n",
      "San Francisco Caltrain Station 2  (Townsend St at 4th St)    3544\n",
      "Berry St at 4th St                                           3052\n",
      "Montgomery St BART Station (Market St at 2nd St)             2895\n",
      "Powell St BART Station (Market St at 4th St)                 2760\n",
      "                                                             ... \n",
      "Willow St at Vine St                                            9\n",
      "Parker Ave at McAllister St                                     7\n",
      "21st Ave at International Blvd                                  4\n",
      "Palm St at Willow St                                            4\n",
      "16th St Depot                                                   2\n",
      "Name: start_station_name, Length: 329, dtype: int64\n",
      "\n",
      "This is the count of bike end stations\n",
      "\n",
      "San Francisco Caltrain Station 2  (Townsend St at 4th St)    4857\n",
      "Market St at 10th St                                         3973\n",
      "Montgomery St BART Station (Market St at 2nd St)             3647\n",
      "San Francisco Ferry Building (Harry Bridges Plaza)           3368\n",
      "Powell St BART Station (Market St at 4th St)                 2997\n",
      "                                                             ... \n",
      "Parker Ave at McAllister St                                     9\n",
      "Palm St at Willow St                                            7\n",
      "16th St Depot                                                   6\n",
      "21st Ave at International Blvd                                  6\n",
      "Willow St at Vine St                                            5\n",
      "Name: end_station_name, Length: 329, dtype: int64\n"
     ]
    }
   ],
   "source": [
    "#count of start stations\n",
    "print()\n",
    "print('This is the count of bike start stations')\n",
    "print()\n",
    "print(column_count('start_station_name'))\n",
    "\n",
    "#count of end stations\n",
    "print()\n",
    "print('This is the count of bike end stations')\n",
    "print()\n",
    "print(column_count('end_station_name'))"
   ]
  },
  {
   "cell_type": "code",
   "execution_count": 238,
   "metadata": {
    "slideshow": {
     "slide_type": "skip"
    }
   },
   "outputs": [],
   "source": [
    "#converting start and end time of trips to datetime format\n",
    "ford_copy.end_time = pd.to_datetime(ford_copy.end_time)\n",
    "ford_copy.start_time = pd.to_datetime(ford_copy.start_time)"
   ]
  },
  {
   "cell_type": "code",
   "execution_count": 239,
   "metadata": {
    "slideshow": {
     "slide_type": "skip"
    }
   },
   "outputs": [
    {
     "data": {
      "text/html": [
       "<div>\n",
       "<style scoped>\n",
       "    .dataframe tbody tr th:only-of-type {\n",
       "        vertical-align: middle;\n",
       "    }\n",
       "\n",
       "    .dataframe tbody tr th {\n",
       "        vertical-align: top;\n",
       "    }\n",
       "\n",
       "    .dataframe thead th {\n",
       "        text-align: right;\n",
       "    }\n",
       "</style>\n",
       "<table border=\"1\" class=\"dataframe\">\n",
       "  <thead>\n",
       "    <tr style=\"text-align: right;\">\n",
       "      <th></th>\n",
       "      <th>duration_sec</th>\n",
       "      <th>start_time</th>\n",
       "      <th>end_time</th>\n",
       "      <th>start_station_id</th>\n",
       "      <th>start_station_name</th>\n",
       "      <th>start_station_latitude</th>\n",
       "      <th>start_station_longitude</th>\n",
       "      <th>end_station_id</th>\n",
       "      <th>end_station_name</th>\n",
       "      <th>end_station_latitude</th>\n",
       "      <th>end_station_longitude</th>\n",
       "      <th>bike_id</th>\n",
       "      <th>user_type</th>\n",
       "      <th>member_birth_year</th>\n",
       "      <th>member_gender</th>\n",
       "      <th>bike_share_for_all_trip</th>\n",
       "    </tr>\n",
       "  </thead>\n",
       "  <tbody>\n",
       "    <tr>\n",
       "      <td>157855</td>\n",
       "      <td>775</td>\n",
       "      <td>2019-05-02 20:19:00</td>\n",
       "      <td>2019-05-02 20:32:00</td>\n",
       "      <td>58.0</td>\n",
       "      <td>Market St at 10th St</td>\n",
       "      <td>37.776619</td>\n",
       "      <td>-122.417385</td>\n",
       "      <td>67.0</td>\n",
       "      <td>San Francisco Caltrain Station 2  (Townsend St...</td>\n",
       "      <td>37.776639</td>\n",
       "      <td>-122.395526</td>\n",
       "      <td>2053</td>\n",
       "      <td>Subscriber</td>\n",
       "      <td>1989.0</td>\n",
       "      <td>Male</td>\n",
       "      <td>No</td>\n",
       "    </tr>\n",
       "    <tr>\n",
       "      <td>34300</td>\n",
       "      <td>1135</td>\n",
       "      <td>2019-02-24 05:07:00</td>\n",
       "      <td>2019-02-24 05:26:00</td>\n",
       "      <td>10.0</td>\n",
       "      <td>Washington St at Kearny St</td>\n",
       "      <td>37.795393</td>\n",
       "      <td>-122.404770</td>\n",
       "      <td>132.0</td>\n",
       "      <td>24th St at Chattanooga St</td>\n",
       "      <td>37.751819</td>\n",
       "      <td>-122.426614</td>\n",
       "      <td>6533</td>\n",
       "      <td>Subscriber</td>\n",
       "      <td>1973.0</td>\n",
       "      <td>Male</td>\n",
       "      <td>Yes</td>\n",
       "    </tr>\n",
       "    <tr>\n",
       "      <td>104987</td>\n",
       "      <td>685</td>\n",
       "      <td>2019-02-14 07:48:00</td>\n",
       "      <td>2019-02-14 07:59:00</td>\n",
       "      <td>47.0</td>\n",
       "      <td>4th St at Harrison St</td>\n",
       "      <td>37.780955</td>\n",
       "      <td>-122.399749</td>\n",
       "      <td>93.0</td>\n",
       "      <td>4th St at Mission Bay Blvd S</td>\n",
       "      <td>37.770407</td>\n",
       "      <td>-122.391198</td>\n",
       "      <td>2101</td>\n",
       "      <td>Subscriber</td>\n",
       "      <td>1989.0</td>\n",
       "      <td>Female</td>\n",
       "      <td>No</td>\n",
       "    </tr>\n",
       "    <tr>\n",
       "      <td>93481</td>\n",
       "      <td>941</td>\n",
       "      <td>2019-02-15 17:29:00</td>\n",
       "      <td>2019-02-15 17:45:00</td>\n",
       "      <td>355.0</td>\n",
       "      <td>23rd St at Tennessee St</td>\n",
       "      <td>37.755367</td>\n",
       "      <td>-122.388795</td>\n",
       "      <td>44.0</td>\n",
       "      <td>Civic Center/UN Plaza BART Station (Market St ...</td>\n",
       "      <td>37.781074</td>\n",
       "      <td>-122.411738</td>\n",
       "      <td>6505</td>\n",
       "      <td>Customer</td>\n",
       "      <td>1994.0</td>\n",
       "      <td>Male</td>\n",
       "      <td>No</td>\n",
       "    </tr>\n",
       "    <tr>\n",
       "      <td>82534</td>\n",
       "      <td>1111</td>\n",
       "      <td>2019-02-18 09:41:00</td>\n",
       "      <td>2019-02-18 10:00:00</td>\n",
       "      <td>207.0</td>\n",
       "      <td>Broadway at Coronado Ave</td>\n",
       "      <td>37.835788</td>\n",
       "      <td>-122.251621</td>\n",
       "      <td>245.0</td>\n",
       "      <td>Downtown Berkeley BART</td>\n",
       "      <td>37.870139</td>\n",
       "      <td>-122.268422</td>\n",
       "      <td>52</td>\n",
       "      <td>Subscriber</td>\n",
       "      <td>1974.0</td>\n",
       "      <td>Male</td>\n",
       "      <td>No</td>\n",
       "    </tr>\n",
       "    <tr>\n",
       "      <td>130459</td>\n",
       "      <td>813</td>\n",
       "      <td>2019-09-02 17:14:00</td>\n",
       "      <td>2019-09-02 17:28:00</td>\n",
       "      <td>126.0</td>\n",
       "      <td>Esprit Park</td>\n",
       "      <td>37.761634</td>\n",
       "      <td>-122.390648</td>\n",
       "      <td>88.0</td>\n",
       "      <td>11th St at Bryant St</td>\n",
       "      <td>37.770030</td>\n",
       "      <td>-122.411726</td>\n",
       "      <td>3117</td>\n",
       "      <td>Customer</td>\n",
       "      <td>1994.0</td>\n",
       "      <td>Male</td>\n",
       "      <td>No</td>\n",
       "    </tr>\n",
       "    <tr>\n",
       "      <td>82756</td>\n",
       "      <td>299</td>\n",
       "      <td>2019-02-18 09:13:00</td>\n",
       "      <td>2019-02-18 09:18:00</td>\n",
       "      <td>60.0</td>\n",
       "      <td>8th St at Ringold St</td>\n",
       "      <td>37.774520</td>\n",
       "      <td>-122.409449</td>\n",
       "      <td>67.0</td>\n",
       "      <td>San Francisco Caltrain Station 2  (Townsend St...</td>\n",
       "      <td>37.776639</td>\n",
       "      <td>-122.395526</td>\n",
       "      <td>6514</td>\n",
       "      <td>Subscriber</td>\n",
       "      <td>1992.0</td>\n",
       "      <td>Male</td>\n",
       "      <td>No</td>\n",
       "    </tr>\n",
       "    <tr>\n",
       "      <td>27152</td>\n",
       "      <td>164</td>\n",
       "      <td>2019-02-25 10:11:00</td>\n",
       "      <td>2019-02-25 10:14:00</td>\n",
       "      <td>122.0</td>\n",
       "      <td>19th St at Mission St</td>\n",
       "      <td>37.760299</td>\n",
       "      <td>-122.418892</td>\n",
       "      <td>123.0</td>\n",
       "      <td>Folsom St at 19th St</td>\n",
       "      <td>37.760594</td>\n",
       "      <td>-122.414817</td>\n",
       "      <td>563</td>\n",
       "      <td>Customer</td>\n",
       "      <td>1986.0</td>\n",
       "      <td>Female</td>\n",
       "      <td>No</td>\n",
       "    </tr>\n",
       "    <tr>\n",
       "      <td>94988</td>\n",
       "      <td>783</td>\n",
       "      <td>2019-02-15 15:16:00</td>\n",
       "      <td>2019-02-15 15:29:00</td>\n",
       "      <td>126.0</td>\n",
       "      <td>Esprit Park</td>\n",
       "      <td>37.761634</td>\n",
       "      <td>-122.390648</td>\n",
       "      <td>16.0</td>\n",
       "      <td>Steuart St at Market St</td>\n",
       "      <td>37.794130</td>\n",
       "      <td>-122.394430</td>\n",
       "      <td>5431</td>\n",
       "      <td>Subscriber</td>\n",
       "      <td>1991.0</td>\n",
       "      <td>Male</td>\n",
       "      <td>No</td>\n",
       "    </tr>\n",
       "    <tr>\n",
       "      <td>69281</td>\n",
       "      <td>422</td>\n",
       "      <td>2019-02-19 19:50:00</td>\n",
       "      <td>2019-02-19 19:57:00</td>\n",
       "      <td>89.0</td>\n",
       "      <td>Division St at Potrero Ave</td>\n",
       "      <td>37.769218</td>\n",
       "      <td>-122.407646</td>\n",
       "      <td>33.0</td>\n",
       "      <td>Golden Gate Ave at Hyde St</td>\n",
       "      <td>37.781650</td>\n",
       "      <td>-122.415408</td>\n",
       "      <td>5013</td>\n",
       "      <td>Customer</td>\n",
       "      <td>1983.0</td>\n",
       "      <td>Male</td>\n",
       "      <td>No</td>\n",
       "    </tr>\n",
       "  </tbody>\n",
       "</table>\n",
       "</div>"
      ],
      "text/plain": [
       "        duration_sec          start_time            end_time  \\\n",
       "157855           775 2019-05-02 20:19:00 2019-05-02 20:32:00   \n",
       "34300           1135 2019-02-24 05:07:00 2019-02-24 05:26:00   \n",
       "104987           685 2019-02-14 07:48:00 2019-02-14 07:59:00   \n",
       "93481            941 2019-02-15 17:29:00 2019-02-15 17:45:00   \n",
       "82534           1111 2019-02-18 09:41:00 2019-02-18 10:00:00   \n",
       "130459           813 2019-09-02 17:14:00 2019-09-02 17:28:00   \n",
       "82756            299 2019-02-18 09:13:00 2019-02-18 09:18:00   \n",
       "27152            164 2019-02-25 10:11:00 2019-02-25 10:14:00   \n",
       "94988            783 2019-02-15 15:16:00 2019-02-15 15:29:00   \n",
       "69281            422 2019-02-19 19:50:00 2019-02-19 19:57:00   \n",
       "\n",
       "        start_station_id          start_station_name  start_station_latitude  \\\n",
       "157855              58.0        Market St at 10th St               37.776619   \n",
       "34300               10.0  Washington St at Kearny St               37.795393   \n",
       "104987              47.0       4th St at Harrison St               37.780955   \n",
       "93481              355.0     23rd St at Tennessee St               37.755367   \n",
       "82534              207.0    Broadway at Coronado Ave               37.835788   \n",
       "130459             126.0                 Esprit Park               37.761634   \n",
       "82756               60.0        8th St at Ringold St               37.774520   \n",
       "27152              122.0       19th St at Mission St               37.760299   \n",
       "94988              126.0                 Esprit Park               37.761634   \n",
       "69281               89.0  Division St at Potrero Ave               37.769218   \n",
       "\n",
       "        start_station_longitude  end_station_id  \\\n",
       "157855              -122.417385            67.0   \n",
       "34300               -122.404770           132.0   \n",
       "104987              -122.399749            93.0   \n",
       "93481               -122.388795            44.0   \n",
       "82534               -122.251621           245.0   \n",
       "130459              -122.390648            88.0   \n",
       "82756               -122.409449            67.0   \n",
       "27152               -122.418892           123.0   \n",
       "94988               -122.390648            16.0   \n",
       "69281               -122.407646            33.0   \n",
       "\n",
       "                                         end_station_name  \\\n",
       "157855  San Francisco Caltrain Station 2  (Townsend St...   \n",
       "34300                           24th St at Chattanooga St   \n",
       "104987                       4th St at Mission Bay Blvd S   \n",
       "93481   Civic Center/UN Plaza BART Station (Market St ...   \n",
       "82534                              Downtown Berkeley BART   \n",
       "130459                               11th St at Bryant St   \n",
       "82756   San Francisco Caltrain Station 2  (Townsend St...   \n",
       "27152                                Folsom St at 19th St   \n",
       "94988                             Steuart St at Market St   \n",
       "69281                          Golden Gate Ave at Hyde St   \n",
       "\n",
       "        end_station_latitude  end_station_longitude  bike_id   user_type  \\\n",
       "157855             37.776639            -122.395526     2053  Subscriber   \n",
       "34300              37.751819            -122.426614     6533  Subscriber   \n",
       "104987             37.770407            -122.391198     2101  Subscriber   \n",
       "93481              37.781074            -122.411738     6505    Customer   \n",
       "82534              37.870139            -122.268422       52  Subscriber   \n",
       "130459             37.770030            -122.411726     3117    Customer   \n",
       "82756              37.776639            -122.395526     6514  Subscriber   \n",
       "27152              37.760594            -122.414817      563    Customer   \n",
       "94988              37.794130            -122.394430     5431  Subscriber   \n",
       "69281              37.781650            -122.415408     5013    Customer   \n",
       "\n",
       "        member_birth_year member_gender bike_share_for_all_trip  \n",
       "157855             1989.0          Male                      No  \n",
       "34300              1973.0          Male                     Yes  \n",
       "104987             1989.0        Female                      No  \n",
       "93481              1994.0          Male                      No  \n",
       "82534              1974.0          Male                      No  \n",
       "130459             1994.0          Male                      No  \n",
       "82756              1992.0          Male                      No  \n",
       "27152              1986.0        Female                      No  \n",
       "94988              1991.0          Male                      No  \n",
       "69281              1983.0          Male                      No  "
      ]
     },
     "execution_count": 239,
     "metadata": {},
     "output_type": "execute_result"
    }
   ],
   "source": [
    "#get 10 random rows\n",
    "ford_copy.sample(10)"
   ]
  },
  {
   "cell_type": "code",
   "execution_count": 240,
   "metadata": {
    "slideshow": {
     "slide_type": "skip"
    }
   },
   "outputs": [
    {
     "name": "stdout",
     "output_type": "stream",
     "text": [
      "\n",
      "This is the count of bike user types\n",
      "\n",
      "Subscriber    163544\n",
      "Customer       19868\n",
      "Name: user_type, dtype: int64\n"
     ]
    }
   ],
   "source": [
    "#count of bike user types\n",
    "print()\n",
    "print('This is the count of bike user types')\n",
    "print()\n",
    "print(column_count('user_type'))"
   ]
  },
  {
   "cell_type": "code",
   "execution_count": 241,
   "metadata": {
    "slideshow": {
     "slide_type": "skip"
    }
   },
   "outputs": [],
   "source": [
    "#dropping missing values\n",
    "ford_copy.dropna(inplace = True)"
   ]
  },
  {
   "cell_type": "code",
   "execution_count": 242,
   "metadata": {
    "slideshow": {
     "slide_type": "skip"
    }
   },
   "outputs": [],
   "source": [
    "#converting station ids and member birth year to integers\n",
    "ford_copy[['start_station_id','end_station_id','member_birth_year']] = ford_copy[['start_station_id','end_station_id','member_birth_year']].astype(int)"
   ]
  },
  {
   "cell_type": "code",
   "execution_count": 243,
   "metadata": {
    "slideshow": {
     "slide_type": "skip"
    }
   },
   "outputs": [
    {
     "name": "stdout",
     "output_type": "stream",
     "text": [
      "<class 'pandas.core.frame.DataFrame'>\n",
      "Int64Index: 174952 entries, 0 to 183411\n",
      "Data columns (total 16 columns):\n",
      "duration_sec               174952 non-null int64\n",
      "start_time                 174952 non-null datetime64[ns]\n",
      "end_time                   174952 non-null datetime64[ns]\n",
      "start_station_id           174952 non-null int32\n",
      "start_station_name         174952 non-null object\n",
      "start_station_latitude     174952 non-null float64\n",
      "start_station_longitude    174952 non-null float64\n",
      "end_station_id             174952 non-null int32\n",
      "end_station_name           174952 non-null object\n",
      "end_station_latitude       174952 non-null float64\n",
      "end_station_longitude      174952 non-null float64\n",
      "bike_id                    174952 non-null int64\n",
      "user_type                  174952 non-null object\n",
      "member_birth_year          174952 non-null int32\n",
      "member_gender              174952 non-null object\n",
      "bike_share_for_all_trip    174952 non-null object\n",
      "dtypes: datetime64[ns](2), float64(4), int32(3), int64(2), object(5)\n",
      "memory usage: 20.7+ MB\n"
     ]
    }
   ],
   "source": [
    "#dataset information\n",
    "ford_copy.info()"
   ]
  },
  {
   "cell_type": "code",
   "execution_count": 244,
   "metadata": {
    "slideshow": {
     "slide_type": "skip"
    }
   },
   "outputs": [],
   "source": [
    "#converting trip duration to minutes\n",
    "ford_copy.duration_sec = ford_copy.duration_sec/60"
   ]
  },
  {
   "cell_type": "code",
   "execution_count": 245,
   "metadata": {
    "slideshow": {
     "slide_type": "skip"
    }
   },
   "outputs": [],
   "source": [
    "#renaming trip duration column\n",
    "ford_copy.rename(columns = {'duration_sec':'trip_duration_in_minutes'},inplace = True)"
   ]
  },
  {
   "cell_type": "code",
   "execution_count": 246,
   "metadata": {
    "slideshow": {
     "slide_type": "skip"
    }
   },
   "outputs": [],
   "source": [
    "#rounding trip durations in minute\n",
    "ford_copy.trip_duration_in_minutes = round(ford_copy.trip_duration_in_minutes).astype(int)"
   ]
  },
  {
   "cell_type": "code",
   "execution_count": 247,
   "metadata": {
    "slideshow": {
     "slide_type": "skip"
    }
   },
   "outputs": [
    {
     "data": {
      "text/html": [
       "<div>\n",
       "<style scoped>\n",
       "    .dataframe tbody tr th:only-of-type {\n",
       "        vertical-align: middle;\n",
       "    }\n",
       "\n",
       "    .dataframe tbody tr th {\n",
       "        vertical-align: top;\n",
       "    }\n",
       "\n",
       "    .dataframe thead th {\n",
       "        text-align: right;\n",
       "    }\n",
       "</style>\n",
       "<table border=\"1\" class=\"dataframe\">\n",
       "  <thead>\n",
       "    <tr style=\"text-align: right;\">\n",
       "      <th></th>\n",
       "      <th>trip_duration_in_minutes</th>\n",
       "      <th>start_time</th>\n",
       "      <th>end_time</th>\n",
       "      <th>start_station_id</th>\n",
       "      <th>start_station_name</th>\n",
       "      <th>start_station_latitude</th>\n",
       "      <th>start_station_longitude</th>\n",
       "      <th>end_station_id</th>\n",
       "      <th>end_station_name</th>\n",
       "      <th>end_station_latitude</th>\n",
       "      <th>end_station_longitude</th>\n",
       "      <th>bike_id</th>\n",
       "      <th>user_type</th>\n",
       "      <th>member_birth_year</th>\n",
       "      <th>member_gender</th>\n",
       "      <th>bike_share_for_all_trip</th>\n",
       "    </tr>\n",
       "  </thead>\n",
       "  <tbody>\n",
       "    <tr>\n",
       "      <td>0</td>\n",
       "      <td>870</td>\n",
       "      <td>2019-02-28 17:32:00</td>\n",
       "      <td>2019-01-03 08:01:00</td>\n",
       "      <td>21</td>\n",
       "      <td>Montgomery St BART Station (Market St at 2nd St)</td>\n",
       "      <td>37.789625</td>\n",
       "      <td>-122.400811</td>\n",
       "      <td>13</td>\n",
       "      <td>Commercial St at Montgomery St</td>\n",
       "      <td>37.794231</td>\n",
       "      <td>-122.402923</td>\n",
       "      <td>4902</td>\n",
       "      <td>Customer</td>\n",
       "      <td>1984</td>\n",
       "      <td>Male</td>\n",
       "      <td>No</td>\n",
       "    </tr>\n",
       "    <tr>\n",
       "      <td>2</td>\n",
       "      <td>1031</td>\n",
       "      <td>2019-02-28 12:13:00</td>\n",
       "      <td>2019-01-03 05:24:00</td>\n",
       "      <td>86</td>\n",
       "      <td>Market St at Dolores St</td>\n",
       "      <td>37.769305</td>\n",
       "      <td>-122.426826</td>\n",
       "      <td>3</td>\n",
       "      <td>Powell St BART Station (Market St at 4th St)</td>\n",
       "      <td>37.786375</td>\n",
       "      <td>-122.404904</td>\n",
       "      <td>5905</td>\n",
       "      <td>Customer</td>\n",
       "      <td>1972</td>\n",
       "      <td>Male</td>\n",
       "      <td>No</td>\n",
       "    </tr>\n",
       "    <tr>\n",
       "      <td>3</td>\n",
       "      <td>608</td>\n",
       "      <td>2019-02-28 17:54:00</td>\n",
       "      <td>2019-01-03 04:02:00</td>\n",
       "      <td>375</td>\n",
       "      <td>Grove St at Masonic Ave</td>\n",
       "      <td>37.774836</td>\n",
       "      <td>-122.446546</td>\n",
       "      <td>70</td>\n",
       "      <td>Central Ave at Fell St</td>\n",
       "      <td>37.773311</td>\n",
       "      <td>-122.444293</td>\n",
       "      <td>6638</td>\n",
       "      <td>Subscriber</td>\n",
       "      <td>1989</td>\n",
       "      <td>Other</td>\n",
       "      <td>No</td>\n",
       "    </tr>\n",
       "  </tbody>\n",
       "</table>\n",
       "</div>"
      ],
      "text/plain": [
       "   trip_duration_in_minutes          start_time            end_time  \\\n",
       "0                       870 2019-02-28 17:32:00 2019-01-03 08:01:00   \n",
       "2                      1031 2019-02-28 12:13:00 2019-01-03 05:24:00   \n",
       "3                       608 2019-02-28 17:54:00 2019-01-03 04:02:00   \n",
       "\n",
       "   start_station_id                                start_station_name  \\\n",
       "0                21  Montgomery St BART Station (Market St at 2nd St)   \n",
       "2                86                           Market St at Dolores St   \n",
       "3               375                           Grove St at Masonic Ave   \n",
       "\n",
       "   start_station_latitude  start_station_longitude  end_station_id  \\\n",
       "0               37.789625              -122.400811              13   \n",
       "2               37.769305              -122.426826               3   \n",
       "3               37.774836              -122.446546              70   \n",
       "\n",
       "                               end_station_name  end_station_latitude  \\\n",
       "0                Commercial St at Montgomery St             37.794231   \n",
       "2  Powell St BART Station (Market St at 4th St)             37.786375   \n",
       "3                        Central Ave at Fell St             37.773311   \n",
       "\n",
       "   end_station_longitude  bike_id   user_type  member_birth_year  \\\n",
       "0            -122.402923     4902    Customer               1984   \n",
       "2            -122.404904     5905    Customer               1972   \n",
       "3            -122.444293     6638  Subscriber               1989   \n",
       "\n",
       "  member_gender bike_share_for_all_trip  \n",
       "0          Male                      No  \n",
       "2          Male                      No  \n",
       "3         Other                      No  "
      ]
     },
     "execution_count": 247,
     "metadata": {},
     "output_type": "execute_result"
    }
   ],
   "source": [
    "#get first 3 rows\n",
    "ford_copy.head(3)"
   ]
  },
  {
   "cell_type": "code",
   "execution_count": 248,
   "metadata": {
    "slideshow": {
     "slide_type": "skip"
    }
   },
   "outputs": [],
   "source": [
    "#resetting index because we dropped null values but the dataset still retained the former index\n",
    "ford_copy = ford_copy.reset_index().drop(columns = ['index'])"
   ]
  },
  {
   "cell_type": "code",
   "execution_count": 249,
   "metadata": {
    "slideshow": {
     "slide_type": "skip"
    }
   },
   "outputs": [
    {
     "data": {
      "text/html": [
       "<div>\n",
       "<style scoped>\n",
       "    .dataframe tbody tr th:only-of-type {\n",
       "        vertical-align: middle;\n",
       "    }\n",
       "\n",
       "    .dataframe tbody tr th {\n",
       "        vertical-align: top;\n",
       "    }\n",
       "\n",
       "    .dataframe thead th {\n",
       "        text-align: right;\n",
       "    }\n",
       "</style>\n",
       "<table border=\"1\" class=\"dataframe\">\n",
       "  <thead>\n",
       "    <tr style=\"text-align: right;\">\n",
       "      <th></th>\n",
       "      <th>trip_duration_in_minutes</th>\n",
       "      <th>start_time</th>\n",
       "      <th>end_time</th>\n",
       "      <th>start_station_id</th>\n",
       "      <th>start_station_name</th>\n",
       "      <th>start_station_latitude</th>\n",
       "      <th>start_station_longitude</th>\n",
       "      <th>end_station_id</th>\n",
       "      <th>end_station_name</th>\n",
       "      <th>end_station_latitude</th>\n",
       "      <th>end_station_longitude</th>\n",
       "      <th>bike_id</th>\n",
       "      <th>user_type</th>\n",
       "      <th>member_birth_year</th>\n",
       "      <th>member_gender</th>\n",
       "      <th>bike_share_for_all_trip</th>\n",
       "    </tr>\n",
       "  </thead>\n",
       "  <tbody>\n",
       "    <tr>\n",
       "      <td>0</td>\n",
       "      <td>870</td>\n",
       "      <td>2019-02-28 17:32:00</td>\n",
       "      <td>2019-01-03 08:01:00</td>\n",
       "      <td>21</td>\n",
       "      <td>Montgomery St BART Station (Market St at 2nd St)</td>\n",
       "      <td>37.789625</td>\n",
       "      <td>-122.400811</td>\n",
       "      <td>13</td>\n",
       "      <td>Commercial St at Montgomery St</td>\n",
       "      <td>37.794231</td>\n",
       "      <td>-122.402923</td>\n",
       "      <td>4902</td>\n",
       "      <td>Customer</td>\n",
       "      <td>1984</td>\n",
       "      <td>Male</td>\n",
       "      <td>No</td>\n",
       "    </tr>\n",
       "    <tr>\n",
       "      <td>1</td>\n",
       "      <td>1031</td>\n",
       "      <td>2019-02-28 12:13:00</td>\n",
       "      <td>2019-01-03 05:24:00</td>\n",
       "      <td>86</td>\n",
       "      <td>Market St at Dolores St</td>\n",
       "      <td>37.769305</td>\n",
       "      <td>-122.426826</td>\n",
       "      <td>3</td>\n",
       "      <td>Powell St BART Station (Market St at 4th St)</td>\n",
       "      <td>37.786375</td>\n",
       "      <td>-122.404904</td>\n",
       "      <td>5905</td>\n",
       "      <td>Customer</td>\n",
       "      <td>1972</td>\n",
       "      <td>Male</td>\n",
       "      <td>No</td>\n",
       "    </tr>\n",
       "    <tr>\n",
       "      <td>2</td>\n",
       "      <td>608</td>\n",
       "      <td>2019-02-28 17:54:00</td>\n",
       "      <td>2019-01-03 04:02:00</td>\n",
       "      <td>375</td>\n",
       "      <td>Grove St at Masonic Ave</td>\n",
       "      <td>37.774836</td>\n",
       "      <td>-122.446546</td>\n",
       "      <td>70</td>\n",
       "      <td>Central Ave at Fell St</td>\n",
       "      <td>37.773311</td>\n",
       "      <td>-122.444293</td>\n",
       "      <td>6638</td>\n",
       "      <td>Subscriber</td>\n",
       "      <td>1989</td>\n",
       "      <td>Other</td>\n",
       "      <td>No</td>\n",
       "    </tr>\n",
       "    <tr>\n",
       "      <td>3</td>\n",
       "      <td>26</td>\n",
       "      <td>2019-02-28 23:54:00</td>\n",
       "      <td>2019-01-03 00:20:00</td>\n",
       "      <td>7</td>\n",
       "      <td>Frank H Ogawa Plaza</td>\n",
       "      <td>37.804562</td>\n",
       "      <td>-122.271738</td>\n",
       "      <td>222</td>\n",
       "      <td>10th Ave at E 15th St</td>\n",
       "      <td>37.792714</td>\n",
       "      <td>-122.248780</td>\n",
       "      <td>4898</td>\n",
       "      <td>Subscriber</td>\n",
       "      <td>1974</td>\n",
       "      <td>Male</td>\n",
       "      <td>Yes</td>\n",
       "    </tr>\n",
       "    <tr>\n",
       "      <td>4</td>\n",
       "      <td>30</td>\n",
       "      <td>2019-02-28 23:49:00</td>\n",
       "      <td>2019-01-03 00:19:00</td>\n",
       "      <td>93</td>\n",
       "      <td>4th St at Mission Bay Blvd S</td>\n",
       "      <td>37.770407</td>\n",
       "      <td>-122.391198</td>\n",
       "      <td>323</td>\n",
       "      <td>Broadway at Kearny</td>\n",
       "      <td>37.798014</td>\n",
       "      <td>-122.405950</td>\n",
       "      <td>5200</td>\n",
       "      <td>Subscriber</td>\n",
       "      <td>1959</td>\n",
       "      <td>Male</td>\n",
       "      <td>No</td>\n",
       "    </tr>\n",
       "  </tbody>\n",
       "</table>\n",
       "</div>"
      ],
      "text/plain": [
       "   trip_duration_in_minutes          start_time            end_time  \\\n",
       "0                       870 2019-02-28 17:32:00 2019-01-03 08:01:00   \n",
       "1                      1031 2019-02-28 12:13:00 2019-01-03 05:24:00   \n",
       "2                       608 2019-02-28 17:54:00 2019-01-03 04:02:00   \n",
       "3                        26 2019-02-28 23:54:00 2019-01-03 00:20:00   \n",
       "4                        30 2019-02-28 23:49:00 2019-01-03 00:19:00   \n",
       "\n",
       "   start_station_id                                start_station_name  \\\n",
       "0                21  Montgomery St BART Station (Market St at 2nd St)   \n",
       "1                86                           Market St at Dolores St   \n",
       "2               375                           Grove St at Masonic Ave   \n",
       "3                 7                               Frank H Ogawa Plaza   \n",
       "4                93                      4th St at Mission Bay Blvd S   \n",
       "\n",
       "   start_station_latitude  start_station_longitude  end_station_id  \\\n",
       "0               37.789625              -122.400811              13   \n",
       "1               37.769305              -122.426826               3   \n",
       "2               37.774836              -122.446546              70   \n",
       "3               37.804562              -122.271738             222   \n",
       "4               37.770407              -122.391198             323   \n",
       "\n",
       "                               end_station_name  end_station_latitude  \\\n",
       "0                Commercial St at Montgomery St             37.794231   \n",
       "1  Powell St BART Station (Market St at 4th St)             37.786375   \n",
       "2                        Central Ave at Fell St             37.773311   \n",
       "3                         10th Ave at E 15th St             37.792714   \n",
       "4                            Broadway at Kearny             37.798014   \n",
       "\n",
       "   end_station_longitude  bike_id   user_type  member_birth_year  \\\n",
       "0            -122.402923     4902    Customer               1984   \n",
       "1            -122.404904     5905    Customer               1972   \n",
       "2            -122.444293     6638  Subscriber               1989   \n",
       "3            -122.248780     4898  Subscriber               1974   \n",
       "4            -122.405950     5200  Subscriber               1959   \n",
       "\n",
       "  member_gender bike_share_for_all_trip  \n",
       "0          Male                      No  \n",
       "1          Male                      No  \n",
       "2         Other                      No  \n",
       "3          Male                     Yes  \n",
       "4          Male                      No  "
      ]
     },
     "execution_count": 249,
     "metadata": {},
     "output_type": "execute_result"
    }
   ],
   "source": [
    "#getting first five rows\n",
    "ford_copy.head()"
   ]
  },
  {
   "cell_type": "code",
   "execution_count": 250,
   "metadata": {
    "slideshow": {
     "slide_type": "skip"
    }
   },
   "outputs": [
    {
     "data": {
      "text/html": [
       "<div>\n",
       "<style scoped>\n",
       "    .dataframe tbody tr th:only-of-type {\n",
       "        vertical-align: middle;\n",
       "    }\n",
       "\n",
       "    .dataframe tbody tr th {\n",
       "        vertical-align: top;\n",
       "    }\n",
       "\n",
       "    .dataframe thead th {\n",
       "        text-align: right;\n",
       "    }\n",
       "</style>\n",
       "<table border=\"1\" class=\"dataframe\">\n",
       "  <thead>\n",
       "    <tr style=\"text-align: right;\">\n",
       "      <th></th>\n",
       "      <th>trip_duration_in_minutes</th>\n",
       "      <th>start_time</th>\n",
       "      <th>end_time</th>\n",
       "      <th>start_station_id</th>\n",
       "      <th>start_station_name</th>\n",
       "      <th>start_station_latitude</th>\n",
       "      <th>start_station_longitude</th>\n",
       "      <th>end_station_id</th>\n",
       "      <th>end_station_name</th>\n",
       "      <th>end_station_latitude</th>\n",
       "      <th>end_station_longitude</th>\n",
       "      <th>bike_id</th>\n",
       "      <th>user_type</th>\n",
       "      <th>member_gender</th>\n",
       "      <th>bike_share_for_all_trip</th>\n",
       "      <th>member_approximate_age</th>\n",
       "    </tr>\n",
       "  </thead>\n",
       "  <tbody>\n",
       "    <tr>\n",
       "      <td>0</td>\n",
       "      <td>870</td>\n",
       "      <td>2019-02-28 17:32:00</td>\n",
       "      <td>2019-01-03 08:01:00</td>\n",
       "      <td>21</td>\n",
       "      <td>Montgomery St BART Station (Market St at 2nd St)</td>\n",
       "      <td>37.789625</td>\n",
       "      <td>-122.400811</td>\n",
       "      <td>13</td>\n",
       "      <td>Commercial St at Montgomery St</td>\n",
       "      <td>37.794231</td>\n",
       "      <td>-122.402923</td>\n",
       "      <td>4902</td>\n",
       "      <td>Customer</td>\n",
       "      <td>Male</td>\n",
       "      <td>No</td>\n",
       "      <td>35</td>\n",
       "    </tr>\n",
       "    <tr>\n",
       "      <td>1</td>\n",
       "      <td>1031</td>\n",
       "      <td>2019-02-28 12:13:00</td>\n",
       "      <td>2019-01-03 05:24:00</td>\n",
       "      <td>86</td>\n",
       "      <td>Market St at Dolores St</td>\n",
       "      <td>37.769305</td>\n",
       "      <td>-122.426826</td>\n",
       "      <td>3</td>\n",
       "      <td>Powell St BART Station (Market St at 4th St)</td>\n",
       "      <td>37.786375</td>\n",
       "      <td>-122.404904</td>\n",
       "      <td>5905</td>\n",
       "      <td>Customer</td>\n",
       "      <td>Male</td>\n",
       "      <td>No</td>\n",
       "      <td>47</td>\n",
       "    </tr>\n",
       "    <tr>\n",
       "      <td>2</td>\n",
       "      <td>608</td>\n",
       "      <td>2019-02-28 17:54:00</td>\n",
       "      <td>2019-01-03 04:02:00</td>\n",
       "      <td>375</td>\n",
       "      <td>Grove St at Masonic Ave</td>\n",
       "      <td>37.774836</td>\n",
       "      <td>-122.446546</td>\n",
       "      <td>70</td>\n",
       "      <td>Central Ave at Fell St</td>\n",
       "      <td>37.773311</td>\n",
       "      <td>-122.444293</td>\n",
       "      <td>6638</td>\n",
       "      <td>Subscriber</td>\n",
       "      <td>Other</td>\n",
       "      <td>No</td>\n",
       "      <td>30</td>\n",
       "    </tr>\n",
       "    <tr>\n",
       "      <td>3</td>\n",
       "      <td>26</td>\n",
       "      <td>2019-02-28 23:54:00</td>\n",
       "      <td>2019-01-03 00:20:00</td>\n",
       "      <td>7</td>\n",
       "      <td>Frank H Ogawa Plaza</td>\n",
       "      <td>37.804562</td>\n",
       "      <td>-122.271738</td>\n",
       "      <td>222</td>\n",
       "      <td>10th Ave at E 15th St</td>\n",
       "      <td>37.792714</td>\n",
       "      <td>-122.248780</td>\n",
       "      <td>4898</td>\n",
       "      <td>Subscriber</td>\n",
       "      <td>Male</td>\n",
       "      <td>Yes</td>\n",
       "      <td>45</td>\n",
       "    </tr>\n",
       "    <tr>\n",
       "      <td>4</td>\n",
       "      <td>30</td>\n",
       "      <td>2019-02-28 23:49:00</td>\n",
       "      <td>2019-01-03 00:19:00</td>\n",
       "      <td>93</td>\n",
       "      <td>4th St at Mission Bay Blvd S</td>\n",
       "      <td>37.770407</td>\n",
       "      <td>-122.391198</td>\n",
       "      <td>323</td>\n",
       "      <td>Broadway at Kearny</td>\n",
       "      <td>37.798014</td>\n",
       "      <td>-122.405950</td>\n",
       "      <td>5200</td>\n",
       "      <td>Subscriber</td>\n",
       "      <td>Male</td>\n",
       "      <td>No</td>\n",
       "      <td>60</td>\n",
       "    </tr>\n",
       "  </tbody>\n",
       "</table>\n",
       "</div>"
      ],
      "text/plain": [
       "   trip_duration_in_minutes          start_time            end_time  \\\n",
       "0                       870 2019-02-28 17:32:00 2019-01-03 08:01:00   \n",
       "1                      1031 2019-02-28 12:13:00 2019-01-03 05:24:00   \n",
       "2                       608 2019-02-28 17:54:00 2019-01-03 04:02:00   \n",
       "3                        26 2019-02-28 23:54:00 2019-01-03 00:20:00   \n",
       "4                        30 2019-02-28 23:49:00 2019-01-03 00:19:00   \n",
       "\n",
       "   start_station_id                                start_station_name  \\\n",
       "0                21  Montgomery St BART Station (Market St at 2nd St)   \n",
       "1                86                           Market St at Dolores St   \n",
       "2               375                           Grove St at Masonic Ave   \n",
       "3                 7                               Frank H Ogawa Plaza   \n",
       "4                93                      4th St at Mission Bay Blvd S   \n",
       "\n",
       "   start_station_latitude  start_station_longitude  end_station_id  \\\n",
       "0               37.789625              -122.400811              13   \n",
       "1               37.769305              -122.426826               3   \n",
       "2               37.774836              -122.446546              70   \n",
       "3               37.804562              -122.271738             222   \n",
       "4               37.770407              -122.391198             323   \n",
       "\n",
       "                               end_station_name  end_station_latitude  \\\n",
       "0                Commercial St at Montgomery St             37.794231   \n",
       "1  Powell St BART Station (Market St at 4th St)             37.786375   \n",
       "2                        Central Ave at Fell St             37.773311   \n",
       "3                         10th Ave at E 15th St             37.792714   \n",
       "4                            Broadway at Kearny             37.798014   \n",
       "\n",
       "   end_station_longitude  bike_id   user_type member_gender  \\\n",
       "0            -122.402923     4902    Customer          Male   \n",
       "1            -122.404904     5905    Customer          Male   \n",
       "2            -122.444293     6638  Subscriber         Other   \n",
       "3            -122.248780     4898  Subscriber          Male   \n",
       "4            -122.405950     5200  Subscriber          Male   \n",
       "\n",
       "  bike_share_for_all_trip  member_approximate_age  \n",
       "0                      No                      35  \n",
       "1                      No                      47  \n",
       "2                      No                      30  \n",
       "3                     Yes                      45  \n",
       "4                      No                      60  "
      ]
     },
     "execution_count": 250,
     "metadata": {},
     "output_type": "execute_result"
    }
   ],
   "source": [
    "#getting approximate ages of bike users\n",
    "ford_copy['member_approximate_age'] = 2019 - ford_copy.member_birth_year\n",
    "ford_copy = ford_copy.drop(columns = ['member_birth_year'])\n",
    "ford_copy.head()"
   ]
  },
  {
   "cell_type": "code",
   "execution_count": 251,
   "metadata": {
    "slideshow": {
     "slide_type": "skip"
    }
   },
   "outputs": [],
   "source": [
    "#getting weekdays for each trip start time\n",
    "ford_copy['day'] = ford_copy['start_time'].dt.weekday_name"
   ]
  },
  {
   "cell_type": "code",
   "execution_count": 252,
   "metadata": {
    "slideshow": {
     "slide_type": "skip"
    }
   },
   "outputs": [
    {
     "data": {
      "text/html": [
       "<div>\n",
       "<style scoped>\n",
       "    .dataframe tbody tr th:only-of-type {\n",
       "        vertical-align: middle;\n",
       "    }\n",
       "\n",
       "    .dataframe tbody tr th {\n",
       "        vertical-align: top;\n",
       "    }\n",
       "\n",
       "    .dataframe thead th {\n",
       "        text-align: right;\n",
       "    }\n",
       "</style>\n",
       "<table border=\"1\" class=\"dataframe\">\n",
       "  <thead>\n",
       "    <tr style=\"text-align: right;\">\n",
       "      <th></th>\n",
       "      <th>trip_duration_in_minutes</th>\n",
       "      <th>start_station_id</th>\n",
       "      <th>start_station_latitude</th>\n",
       "      <th>start_station_longitude</th>\n",
       "      <th>end_station_id</th>\n",
       "      <th>end_station_latitude</th>\n",
       "      <th>end_station_longitude</th>\n",
       "      <th>bike_id</th>\n",
       "      <th>member_approximate_age</th>\n",
       "    </tr>\n",
       "  </thead>\n",
       "  <tbody>\n",
       "    <tr>\n",
       "      <td>count</td>\n",
       "      <td>174952.000000</td>\n",
       "      <td>174952.000000</td>\n",
       "      <td>174952.000000</td>\n",
       "      <td>174952.000000</td>\n",
       "      <td>174952.000000</td>\n",
       "      <td>174952.000000</td>\n",
       "      <td>174952.000000</td>\n",
       "      <td>174952.000000</td>\n",
       "      <td>174952.000000</td>\n",
       "    </tr>\n",
       "    <tr>\n",
       "      <td>mean</td>\n",
       "      <td>11.733224</td>\n",
       "      <td>139.002126</td>\n",
       "      <td>37.771220</td>\n",
       "      <td>-122.351760</td>\n",
       "      <td>136.604486</td>\n",
       "      <td>37.771414</td>\n",
       "      <td>-122.351335</td>\n",
       "      <td>4482.587555</td>\n",
       "      <td>34.196865</td>\n",
       "    </tr>\n",
       "    <tr>\n",
       "      <td>std</td>\n",
       "      <td>27.372059</td>\n",
       "      <td>111.648819</td>\n",
       "      <td>0.100391</td>\n",
       "      <td>0.117732</td>\n",
       "      <td>111.335635</td>\n",
       "      <td>0.100295</td>\n",
       "      <td>0.117294</td>\n",
       "      <td>1659.195937</td>\n",
       "      <td>10.118731</td>\n",
       "    </tr>\n",
       "    <tr>\n",
       "      <td>min</td>\n",
       "      <td>1.000000</td>\n",
       "      <td>3.000000</td>\n",
       "      <td>37.317298</td>\n",
       "      <td>-122.453704</td>\n",
       "      <td>3.000000</td>\n",
       "      <td>37.317298</td>\n",
       "      <td>-122.453704</td>\n",
       "      <td>11.000000</td>\n",
       "      <td>18.000000</td>\n",
       "    </tr>\n",
       "    <tr>\n",
       "      <td>25%</td>\n",
       "      <td>5.000000</td>\n",
       "      <td>47.000000</td>\n",
       "      <td>37.770407</td>\n",
       "      <td>-122.411901</td>\n",
       "      <td>44.000000</td>\n",
       "      <td>37.770407</td>\n",
       "      <td>-122.411647</td>\n",
       "      <td>3799.000000</td>\n",
       "      <td>27.000000</td>\n",
       "    </tr>\n",
       "    <tr>\n",
       "      <td>50%</td>\n",
       "      <td>8.000000</td>\n",
       "      <td>104.000000</td>\n",
       "      <td>37.780760</td>\n",
       "      <td>-122.398279</td>\n",
       "      <td>101.000000</td>\n",
       "      <td>37.781010</td>\n",
       "      <td>-122.397437</td>\n",
       "      <td>4960.000000</td>\n",
       "      <td>32.000000</td>\n",
       "    </tr>\n",
       "    <tr>\n",
       "      <td>75%</td>\n",
       "      <td>13.000000</td>\n",
       "      <td>239.000000</td>\n",
       "      <td>37.797320</td>\n",
       "      <td>-122.283093</td>\n",
       "      <td>238.000000</td>\n",
       "      <td>37.797673</td>\n",
       "      <td>-122.286533</td>\n",
       "      <td>5505.000000</td>\n",
       "      <td>39.000000</td>\n",
       "    </tr>\n",
       "    <tr>\n",
       "      <td>max</td>\n",
       "      <td>1409.000000</td>\n",
       "      <td>398.000000</td>\n",
       "      <td>37.880222</td>\n",
       "      <td>-121.874119</td>\n",
       "      <td>398.000000</td>\n",
       "      <td>37.880222</td>\n",
       "      <td>-121.874119</td>\n",
       "      <td>6645.000000</td>\n",
       "      <td>141.000000</td>\n",
       "    </tr>\n",
       "  </tbody>\n",
       "</table>\n",
       "</div>"
      ],
      "text/plain": [
       "       trip_duration_in_minutes  start_station_id  start_station_latitude  \\\n",
       "count             174952.000000     174952.000000           174952.000000   \n",
       "mean                  11.733224        139.002126               37.771220   \n",
       "std                   27.372059        111.648819                0.100391   \n",
       "min                    1.000000          3.000000               37.317298   \n",
       "25%                    5.000000         47.000000               37.770407   \n",
       "50%                    8.000000        104.000000               37.780760   \n",
       "75%                   13.000000        239.000000               37.797320   \n",
       "max                 1409.000000        398.000000               37.880222   \n",
       "\n",
       "       start_station_longitude  end_station_id  end_station_latitude  \\\n",
       "count            174952.000000   174952.000000         174952.000000   \n",
       "mean               -122.351760      136.604486             37.771414   \n",
       "std                   0.117732      111.335635              0.100295   \n",
       "min                -122.453704        3.000000             37.317298   \n",
       "25%                -122.411901       44.000000             37.770407   \n",
       "50%                -122.398279      101.000000             37.781010   \n",
       "75%                -122.283093      238.000000             37.797673   \n",
       "max                -121.874119      398.000000             37.880222   \n",
       "\n",
       "       end_station_longitude        bike_id  member_approximate_age  \n",
       "count          174952.000000  174952.000000           174952.000000  \n",
       "mean             -122.351335    4482.587555               34.196865  \n",
       "std                 0.117294    1659.195937               10.118731  \n",
       "min              -122.453704      11.000000               18.000000  \n",
       "25%              -122.411647    3799.000000               27.000000  \n",
       "50%              -122.397437    4960.000000               32.000000  \n",
       "75%              -122.286533    5505.000000               39.000000  \n",
       "max              -121.874119    6645.000000              141.000000  "
      ]
     },
     "execution_count": 252,
     "metadata": {},
     "output_type": "execute_result"
    }
   ],
   "source": [
    "#obtaining summary statistics for dataset integers\n",
    "ford_copy.describe()"
   ]
  },
  {
   "cell_type": "code",
   "execution_count": 253,
   "metadata": {
    "slideshow": {
     "slide_type": "skip"
    }
   },
   "outputs": [
    {
     "data": {
      "text/plain": [
       "array([ 35,  47,  30,  45,  60,  36,  31,  27,  23,  26,  29,  38,  44,\n",
       "        41,  28,  22,  33,  19,  37,  24,  39,  46,  34,  48,  40,  52,\n",
       "        21,  25,  42,  20,  32,  50,  56,  43,  55,  54,  58,  51,  53,\n",
       "        57,  65,  61,  59,  49,  63,  62,  74, 119,  67,  71,  68,  78,\n",
       "        69,  70,  66,  64,  73,  72,  88,  76,  77,  99,  86,  18, 141,\n",
       "       118,  75,  91,  85,  80,  89, 117, 109,  81,  92], dtype=int64)"
      ]
     },
     "execution_count": 253,
     "metadata": {},
     "output_type": "execute_result"
    }
   ],
   "source": [
    "#getting unique ages\n",
    "ford_copy.member_approximate_age.unique()"
   ]
  },
  {
   "cell_type": "code",
   "execution_count": 254,
   "metadata": {
    "slideshow": {
     "slide_type": "skip"
    }
   },
   "outputs": [],
   "source": [
    "#dropping start time,endtime,startion id,station latitude and longitudes,etc columns\n",
    "ford_copy = ford_copy.drop(columns = ['start_time','end_time',\n",
    "                                      'start_station_id','start_station_latitude','start_station_longitude',\n",
    "                                      'end_station_id','end_station_latitude','end_station_longitude',\n",
    "                                      'bike_share_for_all_trip','bike_id'])"
   ]
  },
  {
   "cell_type": "code",
   "execution_count": 255,
   "metadata": {
    "slideshow": {
     "slide_type": "skip"
    }
   },
   "outputs": [],
   "source": [
    "#getting trip dataset for same start and end stations\n",
    "same_start_end = ford_copy[ford_copy['start_station_name'] == ford_copy['end_station_name']]"
   ]
  },
  {
   "cell_type": "code",
   "execution_count": 256,
   "metadata": {
    "slideshow": {
     "slide_type": "skip"
    }
   },
   "outputs": [
    {
     "data": {
      "text/plain": [
       "Subscriber    2560\n",
       "Customer       898\n",
       "Name: user_type, dtype: int64"
      ]
     },
     "execution_count": 256,
     "metadata": {},
     "output_type": "execute_result"
    }
   ],
   "source": [
    "#getting a count of each user type with same start and end stations\n",
    "same_start_end.user_type.value_counts()"
   ]
  },
  {
   "cell_type": "code",
   "execution_count": 257,
   "metadata": {
    "slideshow": {
     "slide_type": "skip"
    }
   },
   "outputs": [
    {
     "name": "stdout",
     "output_type": "stream",
     "text": [
      "Thursday     33050\n",
      "Wednesday    29295\n",
      "Tuesday      28364\n",
      "Saturday     22889\n",
      "Monday       22757\n",
      "Friday       21836\n",
      "Sunday       16761\n",
      "Name: day, dtype: int64\n"
     ]
    }
   ],
   "source": [
    "#count of trips per day of the week\n",
    "print(column_count('day'))"
   ]
  },
  {
   "cell_type": "code",
   "execution_count": 258,
   "metadata": {
    "slideshow": {
     "slide_type": "skip"
    }
   },
   "outputs": [
    {
     "name": "stdout",
     "output_type": "stream",
     "text": [
      "<class 'pandas.core.frame.DataFrame'>\n",
      "RangeIndex: 174952 entries, 0 to 174951\n",
      "Data columns (total 7 columns):\n",
      "trip_duration_in_minutes    174952 non-null int32\n",
      "start_station_name          174952 non-null object\n",
      "end_station_name            174952 non-null object\n",
      "user_type                   174952 non-null object\n",
      "member_gender               174952 non-null object\n",
      "member_approximate_age      174952 non-null int32\n",
      "day                         174952 non-null object\n",
      "dtypes: int32(2), object(5)\n",
      "memory usage: 8.0+ MB\n"
     ]
    }
   ],
   "source": [
    "#dataset information\n",
    "ford_copy.info()"
   ]
  },
  {
   "cell_type": "code",
   "execution_count": 259,
   "metadata": {
    "slideshow": {
     "slide_type": "skip"
    }
   },
   "outputs": [
    {
     "data": {
      "text/html": [
       "<div>\n",
       "<style scoped>\n",
       "    .dataframe tbody tr th:only-of-type {\n",
       "        vertical-align: middle;\n",
       "    }\n",
       "\n",
       "    .dataframe tbody tr th {\n",
       "        vertical-align: top;\n",
       "    }\n",
       "\n",
       "    .dataframe thead th {\n",
       "        text-align: right;\n",
       "    }\n",
       "</style>\n",
       "<table border=\"1\" class=\"dataframe\">\n",
       "  <thead>\n",
       "    <tr style=\"text-align: right;\">\n",
       "      <th></th>\n",
       "      <th>trip_duration_in_minutes</th>\n",
       "      <th>start_station_name</th>\n",
       "      <th>end_station_name</th>\n",
       "      <th>user_type</th>\n",
       "      <th>member_gender</th>\n",
       "      <th>member_approximate_age</th>\n",
       "      <th>day</th>\n",
       "    </tr>\n",
       "  </thead>\n",
       "  <tbody>\n",
       "    <tr>\n",
       "      <td>0</td>\n",
       "      <td>870</td>\n",
       "      <td>Montgomery St BART Station (Market St at 2nd St)</td>\n",
       "      <td>Commercial St at Montgomery St</td>\n",
       "      <td>Customer</td>\n",
       "      <td>Male</td>\n",
       "      <td>35</td>\n",
       "      <td>Thursday</td>\n",
       "    </tr>\n",
       "    <tr>\n",
       "      <td>1</td>\n",
       "      <td>1031</td>\n",
       "      <td>Market St at Dolores St</td>\n",
       "      <td>Powell St BART Station (Market St at 4th St)</td>\n",
       "      <td>Customer</td>\n",
       "      <td>Male</td>\n",
       "      <td>47</td>\n",
       "      <td>Thursday</td>\n",
       "    </tr>\n",
       "    <tr>\n",
       "      <td>2</td>\n",
       "      <td>608</td>\n",
       "      <td>Grove St at Masonic Ave</td>\n",
       "      <td>Central Ave at Fell St</td>\n",
       "      <td>Subscriber</td>\n",
       "      <td>Other</td>\n",
       "      <td>30</td>\n",
       "      <td>Thursday</td>\n",
       "    </tr>\n",
       "    <tr>\n",
       "      <td>3</td>\n",
       "      <td>26</td>\n",
       "      <td>Frank H Ogawa Plaza</td>\n",
       "      <td>10th Ave at E 15th St</td>\n",
       "      <td>Subscriber</td>\n",
       "      <td>Male</td>\n",
       "      <td>45</td>\n",
       "      <td>Thursday</td>\n",
       "    </tr>\n",
       "    <tr>\n",
       "      <td>4</td>\n",
       "      <td>30</td>\n",
       "      <td>4th St at Mission Bay Blvd S</td>\n",
       "      <td>Broadway at Kearny</td>\n",
       "      <td>Subscriber</td>\n",
       "      <td>Male</td>\n",
       "      <td>60</td>\n",
       "      <td>Thursday</td>\n",
       "    </tr>\n",
       "  </tbody>\n",
       "</table>\n",
       "</div>"
      ],
      "text/plain": [
       "   trip_duration_in_minutes                                start_station_name  \\\n",
       "0                       870  Montgomery St BART Station (Market St at 2nd St)   \n",
       "1                      1031                           Market St at Dolores St   \n",
       "2                       608                           Grove St at Masonic Ave   \n",
       "3                        26                               Frank H Ogawa Plaza   \n",
       "4                        30                      4th St at Mission Bay Blvd S   \n",
       "\n",
       "                               end_station_name   user_type member_gender  \\\n",
       "0                Commercial St at Montgomery St    Customer          Male   \n",
       "1  Powell St BART Station (Market St at 4th St)    Customer          Male   \n",
       "2                        Central Ave at Fell St  Subscriber         Other   \n",
       "3                         10th Ave at E 15th St  Subscriber          Male   \n",
       "4                            Broadway at Kearny  Subscriber          Male   \n",
       "\n",
       "   member_approximate_age       day  \n",
       "0                      35  Thursday  \n",
       "1                      47  Thursday  \n",
       "2                      30  Thursday  \n",
       "3                      45  Thursday  \n",
       "4                      60  Thursday  "
      ]
     },
     "execution_count": 259,
     "metadata": {},
     "output_type": "execute_result"
    }
   ],
   "source": [
    "#first 5 rows of dataset\n",
    "ford_copy.head()"
   ]
  },
  {
   "cell_type": "code",
   "execution_count": 260,
   "metadata": {
    "slideshow": {
     "slide_type": "skip"
    }
   },
   "outputs": [
    {
     "data": {
      "text/html": [
       "<div>\n",
       "<style scoped>\n",
       "    .dataframe tbody tr th:only-of-type {\n",
       "        vertical-align: middle;\n",
       "    }\n",
       "\n",
       "    .dataframe tbody tr th {\n",
       "        vertical-align: top;\n",
       "    }\n",
       "\n",
       "    .dataframe thead th {\n",
       "        text-align: right;\n",
       "    }\n",
       "</style>\n",
       "<table border=\"1\" class=\"dataframe\">\n",
       "  <thead>\n",
       "    <tr style=\"text-align: right;\">\n",
       "      <th></th>\n",
       "      <th>trip_duration_in_minutes</th>\n",
       "      <th>member_approximate_age</th>\n",
       "    </tr>\n",
       "  </thead>\n",
       "  <tbody>\n",
       "    <tr>\n",
       "      <td>trip_duration_in_minutes</td>\n",
       "      <td>1.000000</td>\n",
       "      <td>0.006002</td>\n",
       "    </tr>\n",
       "    <tr>\n",
       "      <td>member_approximate_age</td>\n",
       "      <td>0.006002</td>\n",
       "      <td>1.000000</td>\n",
       "    </tr>\n",
       "  </tbody>\n",
       "</table>\n",
       "</div>"
      ],
      "text/plain": [
       "                          trip_duration_in_minutes  member_approximate_age\n",
       "trip_duration_in_minutes                  1.000000                0.006002\n",
       "member_approximate_age                    0.006002                1.000000"
      ]
     },
     "execution_count": 260,
     "metadata": {},
     "output_type": "execute_result"
    }
   ],
   "source": [
    "#correlation between integer value columns\n",
    "ford_copy.corr()"
   ]
  },
  {
   "cell_type": "code",
   "execution_count": 261,
   "metadata": {
    "slideshow": {
     "slide_type": "skip"
    }
   },
   "outputs": [],
   "source": [
    "#converting days of the week to its ordinal form\n",
    "days = {'day': ['Monday','Tuesday','Wednesday','Thursday','Friday','Saturday','Sunday']}\n",
    "day_cat = pd.api.types.CategoricalDtype(ordered = True,\n",
    "                                                categories = days['day'])\n",
    "ford_copy.day = ford_copy.day.astype(day_cat)"
   ]
  },
  {
   "cell_type": "code",
   "execution_count": 262,
   "metadata": {
    "slideshow": {
     "slide_type": "skip"
    }
   },
   "outputs": [
    {
     "data": {
      "text/html": [
       "<div>\n",
       "<style scoped>\n",
       "    .dataframe tbody tr th:only-of-type {\n",
       "        vertical-align: middle;\n",
       "    }\n",
       "\n",
       "    .dataframe tbody tr th {\n",
       "        vertical-align: top;\n",
       "    }\n",
       "\n",
       "    .dataframe thead th {\n",
       "        text-align: right;\n",
       "    }\n",
       "</style>\n",
       "<table border=\"1\" class=\"dataframe\">\n",
       "  <thead>\n",
       "    <tr style=\"text-align: right;\">\n",
       "      <th></th>\n",
       "      <th>trip_duration_in_minutes</th>\n",
       "      <th>member_approximate_age</th>\n",
       "    </tr>\n",
       "  </thead>\n",
       "  <tbody>\n",
       "    <tr>\n",
       "      <td>count</td>\n",
       "      <td>174952.000000</td>\n",
       "      <td>174952.000000</td>\n",
       "    </tr>\n",
       "    <tr>\n",
       "      <td>mean</td>\n",
       "      <td>11.733224</td>\n",
       "      <td>34.196865</td>\n",
       "    </tr>\n",
       "    <tr>\n",
       "      <td>std</td>\n",
       "      <td>27.372059</td>\n",
       "      <td>10.118731</td>\n",
       "    </tr>\n",
       "    <tr>\n",
       "      <td>min</td>\n",
       "      <td>1.000000</td>\n",
       "      <td>18.000000</td>\n",
       "    </tr>\n",
       "    <tr>\n",
       "      <td>25%</td>\n",
       "      <td>5.000000</td>\n",
       "      <td>27.000000</td>\n",
       "    </tr>\n",
       "    <tr>\n",
       "      <td>50%</td>\n",
       "      <td>8.000000</td>\n",
       "      <td>32.000000</td>\n",
       "    </tr>\n",
       "    <tr>\n",
       "      <td>75%</td>\n",
       "      <td>13.000000</td>\n",
       "      <td>39.000000</td>\n",
       "    </tr>\n",
       "    <tr>\n",
       "      <td>max</td>\n",
       "      <td>1409.000000</td>\n",
       "      <td>141.000000</td>\n",
       "    </tr>\n",
       "  </tbody>\n",
       "</table>\n",
       "</div>"
      ],
      "text/plain": [
       "       trip_duration_in_minutes  member_approximate_age\n",
       "count             174952.000000           174952.000000\n",
       "mean                  11.733224               34.196865\n",
       "std                   27.372059               10.118731\n",
       "min                    1.000000               18.000000\n",
       "25%                    5.000000               27.000000\n",
       "50%                    8.000000               32.000000\n",
       "75%                   13.000000               39.000000\n",
       "max                 1409.000000              141.000000"
      ]
     },
     "execution_count": 262,
     "metadata": {},
     "output_type": "execute_result"
    }
   ],
   "source": [
    "#obtaining summary statistics for dataset integers\n",
    "ford_copy.describe()"
   ]
  },
  {
   "cell_type": "markdown",
   "metadata": {
    "slideshow": {
     "slide_type": "skip"
    }
   },
   "source": [
    "<a id='univ'></a>\n",
    "## Univariate Exploration\n",
    "\n"
   ]
  },
  {
   "cell_type": "markdown",
   "metadata": {
    "slideshow": {
     "slide_type": "skip"
    }
   },
   "source": [
    "# Visualization"
   ]
  },
  {
   "cell_type": "code",
   "execution_count": 263,
   "metadata": {
    "slideshow": {
     "slide_type": "slide"
    }
   },
   "outputs": [
    {
     "data": {
      "image/png": "[encoded data removed]",
      "text/plain": [
       "<Figure size 432x288 with 1 Axes>"
      ]
     },
     "metadata": {
      "needs_background": "light"
     },
     "output_type": "display_data"
    }
   ],
   "source": [
    "#plotting a bar chart of comparison of customers and subscribers\n",
    "color = sb.color_palette()[0]\n",
    "sb.countplot(data = ford_copy,x = 'user_type',color = color)\n",
    "plt.title('Number of Users per category')\n",
    "plt.xlabel('User Type')\n",
    "plt.ylabel('Number of Users');"
   ]
  },
  {
   "cell_type": "markdown",
   "metadata": {
    "slideshow": {
     "slide_type": "slide"
    }
   },
   "source": [
    "# Observations"
   ]
  },
  {
   "cell_type": "markdown",
   "metadata": {
    "slideshow": {
     "slide_type": "subslide"
    }
   },
   "source": [
    "From the plot,it's obvious that there were more of subscribers than customers in february 2019 which is a really great deal for the bike sharing system."
   ]
  },
  {
   "cell_type": "markdown",
   "metadata": {
    "slideshow": {
     "slide_type": "skip"
    }
   },
   "source": [
    "# Visualization"
   ]
  },
  {
   "cell_type": "code",
   "execution_count": 264,
   "metadata": {
    "slideshow": {
     "slide_type": "slide"
    }
   },
   "outputs": [
    {
     "data": {
      "image/png": "[encoded data removed]",
      "text/plain": [
       "<Figure size 432x288 with 1 Axes>"
      ]
     },
     "metadata": {
      "needs_background": "light"
     },
     "output_type": "display_data"
    }
   ],
   "source": [
    "#plotting a bar plot that shows comparison of gender counts for trips in feb 2019\n",
    "sb.countplot(data = ford_copy,x = 'member_gender',color = color)\n",
    "plt.title('Gender Comparison')\n",
    "plt.xlabel('Gender of User')\n",
    "plt.ylabel('Number of Users');"
   ]
  },
  {
   "cell_type": "markdown",
   "metadata": {
    "slideshow": {
     "slide_type": "slide"
    }
   },
   "source": [
    "# Observations"
   ]
  },
  {
   "cell_type": "markdown",
   "metadata": {
    "slideshow": {
     "slide_type": "subslide"
    }
   },
   "source": [
    "From the plot,we can see that more males rented bikes than other genders."
   ]
  },
  {
   "cell_type": "markdown",
   "metadata": {
    "slideshow": {
     "slide_type": "skip"
    }
   },
   "source": [
    "# Visualization"
   ]
  },
  {
   "cell_type": "code",
   "execution_count": 265,
   "metadata": {
    "slideshow": {
     "slide_type": "slide"
    }
   },
   "outputs": [
    {
     "data": {
      "image/png": "[encoded data removed]",
      "text/plain": [
       "<Figure size 432x288 with 1 Axes>"
      ]
     },
     "metadata": {
      "needs_background": "light"
     },
     "output_type": "display_data"
    }
   ],
   "source": [
    "#plotting a bar plot for comparison of user counts per day\n",
    "sb.countplot(data = ford_copy,x = 'day',color = color)\n",
    "plt.xticks(rotation = 45)\n",
    "plt.title('Number of Users per day')\n",
    "plt.xlabel('Day of the week')\n",
    "plt.ylabel('Number of Users');"
   ]
  },
  {
   "cell_type": "markdown",
   "metadata": {
    "slideshow": {
     "slide_type": "slide"
    }
   },
   "source": [
    "# Observations"
   ]
  },
  {
   "cell_type": "markdown",
   "metadata": {
    "slideshow": {
     "slide_type": "subslide"
    }
   },
   "source": [
    "* It is obvious that the bike sharing system has more bike users on thursdays and even on weekdays in general"
   ]
  },
  {
   "cell_type": "markdown",
   "metadata": {
    "slideshow": {
     "slide_type": "skip"
    }
   },
   "source": [
    "# Visualization"
   ]
  },
  {
   "cell_type": "code",
   "execution_count": 266,
   "metadata": {
    "slideshow": {
     "slide_type": "slide"
    }
   },
   "outputs": [
    {
     "data": {
      "image/png": "[encoded data removed]",
      "text/plain": [
       "<Figure size 576x576 with 1 Axes>"
      ]
     },
     "metadata": {
      "needs_background": "light"
     },
     "output_type": "display_data"
    }
   ],
   "source": [
    "#plotting a histogram to show the distribution of trip duration in feb 2019\n",
    "plt.figure(figsize = (8,8))\n",
    "xtick = np.arange(0,ford_copy['trip_duration_in_minutes'].max(),100)\n",
    "ytick = [0.1,0.3,1,3,10,30,100,300,1000,3000,10000]\n",
    "plt.hist(x = ford_copy['trip_duration_in_minutes'],bins = 50,log = True)\n",
    "plt.title('Distribution of Ride durations(minutes)')\n",
    "plt.xlabel('Ride Duration(Minutes)')\n",
    "plt.ylabel('Frequency');\n",
    "plt.xticks(xtick,xtick)\n",
    "plt.yticks(ytick,ytick);"
   ]
  },
  {
   "cell_type": "markdown",
   "metadata": {
    "slideshow": {
     "slide_type": "slide"
    }
   },
   "source": [
    "# Observations"
   ]
  },
  {
   "cell_type": "markdown",
   "metadata": {
    "slideshow": {
     "slide_type": "subslide"
    }
   },
   "source": [
    "1. The distribution of the ride durations is very much rightly skewed i.e it doesn't follow a normal distribution\n",
    "2. Most bike users spend between 0 and 60 minutes while taking a ride with the bikes. \n",
    "3. There are also outliers in the ride durations roughly between 1300 minutes and 1400 minutes"
   ]
  },
  {
   "cell_type": "markdown",
   "metadata": {
    "slideshow": {
     "slide_type": "skip"
    }
   },
   "source": [
    "# Visualization"
   ]
  },
  {
   "cell_type": "code",
   "execution_count": 267,
   "metadata": {
    "slideshow": {
     "slide_type": "slide"
    }
   },
   "outputs": [
    {
     "data": {
      "image/png": "[encoded data removed]",
      "text/plain": [
       "<Figure size 1080x288 with 1 Axes>"
      ]
     },
     "metadata": {
      "needs_background": "light"
     },
     "output_type": "display_data"
    }
   ],
   "source": [
    "#plotting a boxplot to show the distribution of user ages\n",
    "plt.figure(figsize = (15,4))\n",
    "xtick = np.arange(0,ford_copy['member_approximate_age'].max(),5)\n",
    "sb.boxplot(x = ford_copy['member_approximate_age'])\n",
    "plt.xticks(xtick,xtick)\n",
    "plt.title('Distribution of Users Approximate Ages')\n",
    "plt.xlabel('Approximate Age of Users')\n",
    "plt.ylabel('Frequency');"
   ]
  },
  {
   "cell_type": "markdown",
   "metadata": {
    "slideshow": {
     "slide_type": "slide"
    }
   },
   "source": [
    "# Observations"
   ]
  },
  {
   "cell_type": "markdown",
   "metadata": {
    "slideshow": {
     "slide_type": "subslide"
    }
   },
   "source": [
    "Most users are between the ages of 25 and 40"
   ]
  },
  {
   "cell_type": "markdown",
   "metadata": {
    "slideshow": {
     "slide_type": "skip"
    }
   },
   "source": [
    "<a id='bi'></a>\n",
    "## Bivariate Exploration\n"
   ]
  },
  {
   "cell_type": "markdown",
   "metadata": {
    "slideshow": {
     "slide_type": "skip"
    }
   },
   "source": [
    "# Visualization"
   ]
  },
  {
   "cell_type": "code",
   "execution_count": 268,
   "metadata": {
    "slideshow": {
     "slide_type": "slide"
    }
   },
   "outputs": [
    {
     "data": {
      "image/png": "[encoded data removed]",
      "text/plain": [
       "<Figure size 576x576 with 1 Axes>"
      ]
     },
     "metadata": {
      "needs_background": "light"
     },
     "output_type": "display_data"
    }
   ],
   "source": [
    "#boxplots for comparison of distribution of ride duration for each user type\n",
    "plt.figure(figsize = (8,8))\n",
    "sb.boxplot(data = ford_copy, x = 'user_type', y = 'trip_duration_in_minutes',color = color)\n",
    "plt.yscale('log')\n",
    "plt.yticks([0.1,0.3,1,3,10,30,100],[0.1,0.3,1,3,10,30,100])\n",
    "plt.title('Distribution of Ride Duration per User Category')\n",
    "plt.xlabel('User Type')\n",
    "plt.ylabel('Ride Duration(Minutes)');"
   ]
  },
  {
   "cell_type": "markdown",
   "metadata": {
    "slideshow": {
     "slide_type": "slide"
    }
   },
   "source": [
    "# Observations"
   ]
  },
  {
   "cell_type": "markdown",
   "metadata": {
    "slideshow": {
     "slide_type": "subslide"
    }
   },
   "source": [
    "Customers spend more time on rides before getting to their destinations"
   ]
  },
  {
   "cell_type": "markdown",
   "metadata": {
    "slideshow": {
     "slide_type": "skip"
    }
   },
   "source": [
    "# Visualization"
   ]
  },
  {
   "cell_type": "code",
   "execution_count": 269,
   "metadata": {
    "slideshow": {
     "slide_type": "slide"
    }
   },
   "outputs": [
    {
     "data": {
      "image/png": "[encoded data removed]",
      "text/plain": [
       "<Figure size 792x576 with 1 Axes>"
      ]
     },
     "metadata": {
      "needs_background": "light"
     },
     "output_type": "display_data"
    }
   ],
   "source": [
    "#boxplots for comparison of distribution of ride duration per day\n",
    "plt.figure(figsize = (11,8))\n",
    "sb.boxplot(data = ford_copy, x = 'trip_duration_in_minutes', y = 'day',color = color)\n",
    "plt.xscale('log')\n",
    "plt.xticks([0.1,0.3,1,3,10,30,100],[0.1,0.3,1,3,10,30,100])\n",
    "plt.title('Distribution of Ride Duration per day')\n",
    "plt.ylabel('Day of the week')\n",
    "plt.xlabel('Ride Duration(Minutes)');"
   ]
  },
  {
   "cell_type": "markdown",
   "metadata": {
    "slideshow": {
     "slide_type": "slide"
    }
   },
   "source": [
    "# Observations"
   ]
  },
  {
   "cell_type": "markdown",
   "metadata": {
    "slideshow": {
     "slide_type": "subslide"
    }
   },
   "source": [
    "Users take more time before dropping the bikes are the nearest end stations on weekends"
   ]
  },
  {
   "cell_type": "markdown",
   "metadata": {
    "slideshow": {
     "slide_type": "skip"
    }
   },
   "source": [
    "<a id='multi'></a>\n",
    "## Multivariate Exploration\n"
   ]
  },
  {
   "cell_type": "markdown",
   "metadata": {
    "slideshow": {
     "slide_type": "skip"
    }
   },
   "source": [
    "# Visualization"
   ]
  },
  {
   "cell_type": "code",
   "execution_count": 270,
   "metadata": {
    "slideshow": {
     "slide_type": "slide"
    }
   },
   "outputs": [
    {
     "data": {
      "image/png": "[encoded data removed]",
      "text/plain": [
       "<Figure size 360x360 with 1 Axes>"
      ]
     },
     "metadata": {
      "needs_background": "light"
     },
     "output_type": "display_data"
    }
   ],
   "source": [
    "#plotting relationships between age of users and their ride durations with respect to the user type\n",
    "ytick = [0.1,0.3,1,3,10,30,100,300,1000]\n",
    "sb.lmplot(data = ford_copy,x = 'member_approximate_age',y = 'trip_duration_in_minutes',hue = 'user_type',scatter_kws={'alpha':0.1},legend = False)\n",
    "plt.title('Age of users VS Ride Duration for each user category')\n",
    "plt.xlabel('Age of User')\n",
    "plt.ylabel('Ride Duration(Minutes)')\n",
    "plt.yscale('log')\n",
    "plt.legend(title = 'User Type')\n",
    "plt.yticks(ytick,ytick);"
   ]
  },
  {
   "cell_type": "markdown",
   "metadata": {
    "slideshow": {
     "slide_type": "slide"
    }
   },
   "source": [
    "# Observations"
   ]
  },
  {
   "cell_type": "markdown",
   "metadata": {
    "slideshow": {
     "slide_type": "subslide"
    }
   },
   "source": [
    "1. There is a weak negative relationship between age and ride duration of customers i.e the higher their age,the lower their ride durations\n",
    "2. There is a weak positive relationship between age and ride duration of subscribers i.e the higher their age,the higher their ride durations"
   ]
  },
  {
   "cell_type": "markdown",
   "metadata": {
    "slideshow": {
     "slide_type": "notes"
    }
   },
   "source": [
    "<a id='conclusions'></a>\n",
    "## Conclusions\n",
    "> The bike sharing system has its advantages and disadvanges but one of its advantages is making transit convenient and flexible. Even if the users of the bikes mostly make their orders on weekdays,mainly Thursdays.With respect to trip duration.This contributes to the engagement of users in using the system for long duration journeys on weekends and shorter ones on weekdays because the weekend journeys are usually occasional while the one on weekdays are more repititive. This benefits is one the reasons subscribers stand out more.\n"
   ]
  },
  {
   "cell_type": "markdown",
   "metadata": {
    "slideshow": {
     "slide_type": "slide"
    }
   },
   "source": [
    "<a id='ref'></a>\n",
    "# References"
   ]
  },
  {
   "cell_type": "markdown",
   "metadata": {
    "slideshow": {
     "slide_type": "subslide"
    }
   },
   "source": [
    "* [Trip Advisor](https://www.tripadvisor.com/Attraction_Review-g60713-d12951811-Reviews-Ford_GoBike-San_Francisco_California.html)\n",
    "* [Ford Website](https://www.ford.com/)\n",
    "* [Tom's Blog](https://www.tomsofmaine.com/good-matters/thinking-sustainably/benefits-bike-sharing-you-and-planet)"
   ]
  },
  {
   "cell_type": "code",
   "execution_count": 272,
   "metadata": {
    "slideshow": {
     "slide_type": "skip"
    }
   },
   "outputs": [
    {
     "name": "stderr",
     "output_type": "stream",
     "text": [
      "[NbConvertApp] Converting notebook Part_II_Explanation_data_analysis_slide_deck.ipynb to slides\n",
      "[NbConvertApp] Writing 499093 bytes to Part_II_Explanation_data_analysis_slide_deck.slides.html\n",
      "[NbConvertApp] Redirecting reveal.js requests to https://cdnjs.cloudflare.com/ajax/libs/reveal.js/3.5.0\n",
      "Traceback (most recent call last):\n",
      "  File \"C:\\Users\\23481\\Anaconda3\\Scripts\\jupyter-nbconvert-script.py\", line 10, in <module>\n",
      "    sys.exit(main())\n",
      "  File \"C:\\Users\\23481\\Anaconda3\\lib\\site-packages\\jupyter_core\\application.py\", line 267, in launch_instance\n",
      "    return super(JupyterApp, cls).launch_instance(argv=argv, **kwargs)\n",
      "  File \"C:\\Users\\23481\\Anaconda3\\lib\\site-packages\\traitlets\\config\\application.py\", line 664, in launch_instance\n",
      "    app.start()\n",
      "  File \"C:\\Users\\23481\\Anaconda3\\lib\\site-packages\\nbconvert\\nbconvertapp.py\", line 340, in start\n",
      "    self.convert_notebooks()\n",
      "  File \"C:\\Users\\23481\\Anaconda3\\lib\\site-packages\\nbconvert\\nbconvertapp.py\", line 510, in convert_notebooks\n",
      "    self.convert_single_notebook(notebook_filename)\n",
      "  File \"C:\\Users\\23481\\Anaconda3\\lib\\site-packages\\nbconvert\\nbconvertapp.py\", line 483, in convert_single_notebook\n",
      "    self.postprocess_single_notebook(write_results)\n",
      "  File \"C:\\Users\\23481\\Anaconda3\\lib\\site-packages\\nbconvert\\nbconvertapp.py\", line 455, in postprocess_single_notebook\n",
      "    self.postprocessor(write_results)\n",
      "  File \"C:\\Users\\23481\\Anaconda3\\lib\\site-packages\\nbconvert\\postprocessors\\base.py\", line 28, in __call__\n",
      "    self.postprocess(input)\n",
      "  File \"C:\\Users\\23481\\Anaconda3\\lib\\site-packages\\nbconvert\\postprocessors\\serve.py\", line 90, in postprocess\n",
      "    http_server.listen(self.port, address=self.ip)\n",
      "  File \"C:\\Users\\23481\\Anaconda3\\lib\\site-packages\\tornado\\tcpserver.py\", line 151, in listen\n",
      "    sockets = bind_sockets(port, address=address)\n",
      "  File \"C:\\Users\\23481\\Anaconda3\\lib\\site-packages\\tornado\\netutil.py\", line 174, in bind_sockets\n",
      "    sock.bind(sockaddr)\n",
      "OSError: [WinError 10048] Only one usage of each socket address (protocol/network address/port) is normally permitted\n"
     ]
    }
   ],
   "source": [
    "!jupyter nbconvert Part_II_Explanation_data_analysis_slide_deck --to slides --post serve --template output-toggle"
   ]
  },
  {
   "cell_type": "code",
   "execution_count": null,
   "metadata": {
    "slideshow": {
     "slide_type": "skip"
    }
   },
   "outputs": [],
   "source": []
  }
 ],
 "metadata": {
  "celltoolbar": "Slideshow",
  "kernelspec": {
   "display_name": "Python 3",
   "language": "python",
   "name": "python3"
  },
  "language_info": {
   "codemirror_mode": {
    "name": "ipython",
    "version": 3
   },
   "file_extension": ".py",
   "mimetype": "text/x-python",
   "name": "python",
   "nbconvert_exporter": "python",
   "pygments_lexer": "ipython3",
   "version": "3.7.4"
  }
 },
 "nbformat": 4,
 "nbformat_minor": 2
}
